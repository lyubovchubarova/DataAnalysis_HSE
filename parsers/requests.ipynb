{
 "cells": [
  {
   "cell_type": "markdown",
   "metadata": {},
   "source": [
    "# Python и интернет. Модуль requests\n",
    "\n",
    "**План**:\n",
    "\n",
    "1. Запросы\n",
    "2. Requests\n",
    "4. bs4\n",
    "5. Задание на семинар"
   ]
  },
  {
   "cell_type": "markdown",
   "metadata": {},
   "source": [
    "## Как выкачать интернет\n",
    "Современный Интернет предоставляет большое количество данных: электронные газеты и журналы, блоги, форумы, социальные сети и т.д. Например, можно найти в сети много-много текстов и собрать корпус, или найти все газетные статьи и блог-посты про какую-нибудь корпорацию и проанализировать тональность сообщений. Сейчас мы научимся заниматься выкачиванием страниц из интернета с помощью Python.\n",
    "\n",
    "Для скачивания HTML-страниц в питоне есть несколько библиотек **urllib** и **requests**"
   ]
  },
  {
   "cell_type": "markdown",
   "metadata": {},
   "source": [
    "## Requests\n",
    "\n",
    "Можно почитать еще [тут](https://realpython.com/python-requests/)\n",
    "\n",
    "\n",
    "Допустим, мы хотим скачать главную страницу Хабрахабра.\n",
    "\n",
    "На самом деле, когда мы хотим открыть какую-то страницу в интернете, наш браузер отправляет на сервер **запрос** (\"Привет, сервер! я хочу код страницы по вот такому адресу!\"), а сервер затем отправляет ответ (\"Привет! Вот код страницы: ...\").\n",
    "Чтобы получить страницу через питон, нужно сформировать **запрос** на сервер так же, как это делает браузер:"
   ]
  },
  {
   "cell_type": "code",
   "execution_count": 1,
   "metadata": {},
   "outputs": [],
   "source": [
    "import requests"
   ]
  },
  {
   "cell_type": "code",
   "execution_count": 2,
   "metadata": {},
   "outputs": [],
   "source": [
    "response = requests.get(\"https://habr.com/ru/\")"
   ]
  },
  {
   "cell_type": "markdown",
   "metadata": {},
   "source": [
    "В response теперь лежит отет сервера. Это не прост html-код страницы, а еще дополнительная информация. Если мы просто выведем этот response, нам покажется только код (200 - все ок)."
   ]
  },
  {
   "cell_type": "code",
   "execution_count": 3,
   "metadata": {},
   "outputs": [
    {
     "data": {
      "text/plain": [
       "<Response [200]>"
      ]
     },
     "execution_count": 3,
     "metadata": {},
     "output_type": "execute_result"
    }
   ],
   "source": [
    "response"
   ]
  },
  {
   "cell_type": "code",
   "execution_count": 4,
   "metadata": {},
   "outputs": [
    {
     "data": {
      "text/plain": [
       "200"
      ]
     },
     "execution_count": 4,
     "metadata": {},
     "output_type": "execute_result"
    }
   ],
   "source": [
    "response.status_code"
   ]
  },
  {
   "cell_type": "markdown",
   "metadata": {},
   "source": [
    "А вот в атрибуте text уже лежит html-код"
   ]
  },
  {
   "cell_type": "code",
   "execution_count": 5,
   "metadata": {},
   "outputs": [
    {
     "name": "stdout",
     "output_type": "stream",
     "text": [
      "<!DOCTYPE html>\n",
      "<html lang=\"ru\" data-vue-meta=\"%7B%22lang%22:%7B%22ssr%22:%22ru%22%7D%7D\">\n",
      "<head >\n",
      "  <meta charset=\"UTF-8\">\n",
      "  <meta name=\"viewport\" content=\"width=device-width,initial-scale=1.0,viewport-fit=cov\n"
     ]
    }
   ],
   "source": [
    "print(response.text[:210])"
   ]
  },
  {
   "cell_type": "markdown",
   "metadata": {},
   "source": [
    "Иногда сайт блокирует запросы, если их посылает не настоящий браузер с пользователем, а какой-то бот (например, так делает Гугл или Википедия). Иногда сайты присылают разные версии страниц, разным браузерам.  \n",
    "По этим причинам полезно бывает писать скрипт, который умеет притворяться то одним, то другим браузером.\n",
    "Когда мы пытаемся получить страницу в питоне, наш код по умолчанию честно сообщает серверу, что он является программой на питоне. Он говорит что-то вроде \"Привет, я Python-urllib/3.5\". \n",
    "Но можно, например, представиться Мозиллой:"
   ]
  },
  {
   "cell_type": "code",
   "execution_count": 6,
   "metadata": {},
   "outputs": [],
   "source": [
    "url = 'https://habr.com/ru/'  # адрес страницы, которую мы хотим скачать\n",
    "user_agent = 'Mozilla/5.0 (Windows NT 6.1; Win64; x64)'  # хотим притворяться браузером\n",
    "\n",
    "response = requests.get(\"https://habr.com/ru/\", headers={'User-Agent':user_agent})"
   ]
  },
  {
   "cell_type": "markdown",
   "metadata": {},
   "source": [
    "Или использовать специальную библиотеку"
   ]
  },
  {
   "cell_type": "code",
   "execution_count": 7,
   "metadata": {},
   "outputs": [],
   "source": [
    "from fake_useragent import UserAgent"
   ]
  },
  {
   "cell_type": "code",
   "execution_count": 8,
   "metadata": {},
   "outputs": [
    {
     "data": {
      "text/plain": [
       "'Mozilla/5.0 (Windows NT 6.2) AppleWebKit/537.36 (KHTML, like Gecko) Chrome/28.0.1464.0 Safari/537.36'"
      ]
     },
     "execution_count": 8,
     "metadata": {},
     "output_type": "execute_result"
    }
   ],
   "source": [
    "user_agent = UserAgent().chrome\n",
    "user_agent"
   ]
  },
  {
   "cell_type": "code",
   "execution_count": 9,
   "metadata": {},
   "outputs": [],
   "source": [
    "response = requests.get(\"https://habr.com/ru/\", headers={'User-Agent':user_agent})"
   ]
  },
  {
   "cell_type": "markdown",
   "metadata": {},
   "source": [
    "Можно посмотреть, что еще можно достать из response.\n",
    "\n",
    "Функция ```dir``` выдает список методов и параметров объекта."
   ]
  },
  {
   "cell_type": "code",
   "execution_count": 10,
   "metadata": {},
   "outputs": [
    {
     "data": {
      "text/plain": [
       "['apparent_encoding',\n",
       " 'close',\n",
       " 'connection',\n",
       " 'content',\n",
       " 'cookies',\n",
       " 'elapsed',\n",
       " 'encoding',\n",
       " 'headers',\n",
       " 'history',\n",
       " 'is_permanent_redirect',\n",
       " 'is_redirect',\n",
       " 'iter_content',\n",
       " 'iter_lines',\n",
       " 'json',\n",
       " 'links',\n",
       " 'next',\n",
       " 'ok',\n",
       " 'raise_for_status',\n",
       " 'raw',\n",
       " 'reason',\n",
       " 'request',\n",
       " 'status_code',\n",
       " 'text',\n",
       " 'url']"
      ]
     },
     "execution_count": 10,
     "metadata": {},
     "output_type": "execute_result"
    }
   ],
   "source": [
    "[i for i in dir(response) if not i.startswith(\"_\")]"
   ]
  },
  {
   "cell_type": "markdown",
   "metadata": {},
   "source": [
    "Кодировка"
   ]
  },
  {
   "cell_type": "code",
   "execution_count": 11,
   "metadata": {},
   "outputs": [
    {
     "data": {
      "text/plain": [
       "'utf-8'"
      ]
     },
     "execution_count": 11,
     "metadata": {},
     "output_type": "execute_result"
    }
   ],
   "source": [
    "response.encoding"
   ]
  },
  {
   "cell_type": "markdown",
   "metadata": {},
   "source": [
    "Заголовки (техническая информация)"
   ]
  },
  {
   "cell_type": "code",
   "execution_count": 12,
   "metadata": {},
   "outputs": [
    {
     "data": {
      "text/plain": [
       "{'Server': 'QRATOR',\n",
       " 'Date': 'Thu, 11 Nov 2021 15:08:19 GMT',\n",
       " 'Content-Type': 'text/html; charset=utf-8',\n",
       " 'Transfer-Encoding': 'chunked',\n",
       " 'Connection': 'keep-alive',\n",
       " 'Keep-Alive': 'timeout=15',\n",
       " 'Vary': 'Accept-Encoding, Accept-Encoding',\n",
       " 'X-DNS-Prefetch-Control': 'off',\n",
       " 'X-Frame-Options': 'SAMEORIGIN',\n",
       " 'Strict-Transport-Security': 'max-age=15552000; includeSubDomains, max-age=31536000; includeSubDomains',\n",
       " 'X-Download-Options': 'noopen',\n",
       " 'X-Content-Type-Options': 'nosniff',\n",
       " 'X-XSS-Protection': '1; mode=block',\n",
       " 'ETag': 'W/\"27c34-rbO7zG5CbGe7CAV9OdNCuny+sdg\"',\n",
       " 'X-Proxy-Cache-Status': 'HIT',\n",
       " 'X-Request-Id': 'c7a483e4f1c8c797df82a2de1fa725dd',\n",
       " 'Content-Encoding': 'gzip'}"
      ]
     },
     "execution_count": 12,
     "metadata": {},
     "output_type": "execute_result"
    }
   ],
   "source": [
    "dict(response.headers)"
   ]
  },
  {
   "cell_type": "markdown",
   "metadata": {},
   "source": [
    "Адрес запроса"
   ]
  },
  {
   "cell_type": "code",
   "execution_count": 13,
   "metadata": {},
   "outputs": [
    {
     "data": {
      "text/plain": [
       "'https://habr.com/ru/all/'"
      ]
     },
     "execution_count": 13,
     "metadata": {},
     "output_type": "execute_result"
    }
   ],
   "source": [
    "response.url"
   ]
  },
  {
   "cell_type": "code",
   "execution_count": 14,
   "metadata": {},
   "outputs": [
    {
     "name": "stdout",
     "output_type": "stream",
     "text": [
      "<!DOCTYPE html>\n",
      "<html lang=\"ru\" data-vue-meta=\"%7B%22lang%22:%7B%22ssr%22:%22ru%22%7D%7D\">\n",
      "<head >\n",
      "  <meta charset=\"UTF-8\">\n",
      "  <meta name=\"viewport\" content=\"width=device-width,initial-scale=1.0,viewport-fit=cover\">\n",
      "  <title>Все публикации подряд / Хабр</title>\n",
      "  <style>\n",
      "    /* cyrillic-ext */\n",
      "    @f\n"
     ]
    }
   ],
   "source": [
    "print(response.text[:300])"
   ]
  },
  {
   "cell_type": "markdown",
   "metadata": {},
   "source": [
    "Ура, всё на месте!\n",
    "\n",
    "Но что всё это значит? Что такое html и как вообще из него доставать какую-то информацию?\n",
    "\n",
    "Ответ: по **тегам**! Например, в куске html сверху есть теги `<title> </title>` (теги всегда обрамляют с двух сторон то, что находится под этим тегом). В `<title>` в данном случае лежит заголовок этой интернет-страницы.\n",
    "\n",
    "Существует несколько вариантов, как достать что-то из определенного тега, например, достать заголовок:\n",
    "\n",
    "1. регулярные выражения (плохой вариант)\n",
    "2. специальные библиотеки питона, например, BeautifulSoup (bs4) или lxml (хороший вариант)"
   ]
  },
  {
   "cell_type": "markdown",
   "metadata": {},
   "source": [
    "## BeautifulSoup\n",
    "\n",
    "Код страницы парсится как иерархия тегов (как они есть в html коде, один вложен в другой) и можно искать элементы с помощью разных методов, использовать атрибуты и т.д."
   ]
  },
  {
   "cell_type": "code",
   "execution_count": 15,
   "metadata": {},
   "outputs": [],
   "source": [
    "from bs4 import BeautifulSoup"
   ]
  },
  {
   "cell_type": "markdown",
   "metadata": {},
   "source": [
    "Сначала инициализируем объект BeautifulSoup. Потом применим метод find и в скобочках укажем теги, по которым ищем. У некоторых тегов в html (как и в нашем случае) бывает еще и class и какие-нибудь еще атрибуты. Такие вещи мы задаем словариком.\n",
    "\n",
    "Этот запрос вернёт нам только первый заголовок. То есть первое вхождение такого тега в нашем html файле."
   ]
  },
  {
   "cell_type": "code",
   "execution_count": 16,
   "metadata": {},
   "outputs": [
    {
     "name": "stdout",
     "output_type": "stream",
     "text": [
      "Ajax-запросы нативными средствами Joomla\n",
      "\n",
      "\n",
      "<h2 class=\"tm-article-snippet__title tm-article-snippet__title_h2\">\n",
      " <a class=\"tm-article-snippet__title-link\" data-article-link=\"\" href=\"/ru/post/588651/\">\n",
      "  <span>\n",
      "   Ajax-запросы нативными средствами Joomla\n",
      "  </span>\n",
      " </a>\n",
      "</h2>\n",
      "\n"
     ]
    }
   ],
   "source": [
    "soup = BeautifulSoup(response.text, 'html.parser')  # инициализируем (создаем) soup\n",
    "\n",
    "post = soup.find('h2', {'class': 'tm-article-snippet__title_h2'})\n",
    "print(post.get_text(), end=\"\\n\\n\\n\")\n",
    "print(post.prettify())"
   ]
  },
  {
   "cell_type": "markdown",
   "metadata": {},
   "source": [
    "Но мы хотим получить все заголовки постов! Метод find_all возвращает массив всех элементов с тегом указанным в скобках. По нему можно итерироваться."
   ]
  },
  {
   "cell_type": "code",
   "execution_count": 17,
   "metadata": {},
   "outputs": [
    {
     "name": "stdout",
     "output_type": "stream",
     "text": [
      "Ajax-запросы нативными средствами Joomla\n",
      "<h2 class=\"tm-article-snippet__title tm-article-snippet__title_h2\">\n",
      " <a class=\"tm-article-snippet__title-link\" data-article-link=\"\" href=\"/ru/post/588651/\">\n",
      "  <span>\n",
      "   Ajax-запросы нативными средствами Joomla\n",
      "  </span>\n",
      " </a>\n",
      "</h2>\n",
      "\n",
      "-- -- -- -- -- -- -- -- -- -- \n",
      "Prisma: Полноценный ORM для Node.js и TypeScript\n",
      "<h2 class=\"tm-article-snippet__title tm-article-snippet__title_h2\">\n",
      " <a class=\"tm-article-snippet__title-link\" data-article-link=\"\" href=\"/ru/post/588562/\">\n",
      "  <span>\n",
      "   Prisma: Полноценный ORM для Node.js и TypeScript\n",
      "  </span>\n",
      " </a>\n",
      "</h2>\n",
      "\n",
      "-- -- -- -- -- -- -- -- -- -- \n",
      "Визуализация данных с помощью веб-фреймворка Dash\n",
      "<h2 class=\"tm-article-snippet__title tm-article-snippet__title_h2\">\n",
      " <a class=\"tm-article-snippet__title-link\" data-article-link=\"\" href=\"/ru/post/588645/\">\n",
      "  <span>\n",
      "   Визуализация данных с помощью веб-фреймворка Dash\n",
      "  </span>\n",
      " </a>\n",
      "</h2>\n",
      "\n",
      "-- -- -- -- -- -- -- -- -- -- \n"
     ]
    }
   ],
   "source": [
    "for post in soup.find_all('h2', {'class': 'tm-article-snippet__title_h2'})[:3]:\n",
    "    print(post.get_text())\n",
    "    print(post.prettify())\n",
    "\n",
    "    print('-- '*10)  # для красоты"
   ]
  },
  {
   "cell_type": "markdown",
   "metadata": {},
   "source": [
    "## Задание на семинар 1\n",
    "\n",
    "А что если мы хотим зайти еще глубже по дереву тегов и, например, для каждого заголовка поста найти никнейм юзера, который написал этот пост, и время написания поста?\n",
    "\n",
    "Для этого надо снова зайти в просмотор кода страницы и увидеть, что там просиходит что-то такое:\n",
    "\n",
    "(Заодно обратите внимание, как пишутся комменты в html)"
   ]
  },
  {
   "cell_type": "code",
   "execution_count": null,
   "metadata": {},
   "outputs": [],
   "source": [
    "<article id=\"588645\" data-navigatable=\"\" tabindex=\"0\" class=\"tm-articles-list__item\">\n",
    "   <div class=\"tm-article-snippet\">\n",
    "      <div class=\"tm-article-snippet__meta-container\">\n",
    "         <div class=\"tm-article-snippet__meta\">\n",
    "            <span class=\"tm-user-info tm-article-snippet__author\">\n",
    "               <a href=\"/ru/users/NewTechAudit/\" title=\"NewTechAudit\" class=\"tm-user-info__userpic\">\n",
    "                  <div class=\"tm-entity-image\">\n",
    "                     <img alt=\"\" height=\"24\" loading=\"lazy\" src=\"//habrastorage.org/r/w32/getpro/habr/avatars/62e/cf1/3f1/62ecf13f1b5e83c0cced637ff786d5a1.png\" width=\"24\" class=\"tm-entity-image__pic\">\n",
    "                  </div>\n",
    "               </a>\n",
    "               <span class=\"tm-user-info__user\">\n",
    "               <a href=\"/ru/users/NewTechAudit/\" class=\"tm-user-info__username\">NewTechAudit</a>\n",
    "               </span>\n",
    "            </span>\n",
    "            <span class=\"tm-article-snippet__datetime-published\">\n",
    "            <time datetime=\"2021-11-11T14:36:40.000Z\" title=\"2021-11-11, 17:36\">сегодня в 17:36</time>\n",
    "            </span>\n",
    "         </div>\n",
    "         <!---->\n",
    "      </div>\n",
    "      <h2 class=\"tm-article-snippet__title tm-article-snippet__title_h2\">\n",
    "         <a href=\"/ru/post/588645/\" data-article-link=\"\" class=\"tm-article-snippet__title-link\">\n",
    "         <span>Визуализация данных с помощью веб-фреймворка Dash</span>\n",
    "         </a>\n",
    "      </h2>\n",
    "      <div class=\"tm-article-snippet__hubs\">\n",
    "         <span class=\"tm-article-snippet__hubs-item\">\n",
    "         <a href=\"/ru/hub/programming/\" class=\"tm-article-snippet__hubs-item-link\">\n",
    "         <span>Программирование</span>\n",
    "         <span title=\"Профильный хаб\" class=\"tm-article-snippet__profiled-hub\">*</span>\n",
    "         </a>\n",
    "         </span>\n",
    "         <span class=\"tm-article-snippet__hubs-item\">\n",
    "         <a href=\"/ru/hub/python/\" class=\"tm-article-snippet__hubs-item-link\">\n",
    "         <span>Python</span> \n",
    "         <span title=\"Профильный хаб\" class=\"tm-article-snippet__profiled-hub\">*</span>\n",
    "         </a></span>\n",
    "         <span class=\"tm-article-snippet__hubs-item\">\n",
    "            <a href=\"/ru/hub/data_visualization/\" class=\"tm-article-snippet__hubs-item-link\">\n",
    "               <span>Визуализация данных</span> \n",
    "               <!---->\n",
    "            </a>\n",
    "         </span>\n",
    "      </div>\n",
    "      <!---->\n",
    "      <!---->\n",
    "      <div class=\"tm-article-body tm-article-snippet__lead\">\n",
    "         <div class=\"tm-article-snippet__cover tm-article-snippet__cover_cover\">\n",
    "            <img src=\"https://habrastorage.org/getpro/habr/upload_files/1a0/17f/c29/1a017fc2904dc1ac1811edcc30648447.png\" class=\"tm-article-snippet__lead-image\" style=\"object-position:0% 0%;\">\n",
    "         </div>\n",
    "         <div class=\"article-formatted-body article-formatted-body_version-2\">\n",
    "            <p>Dash является довольно интересным Веб-фреймворком для визуализации данных и имеет в семе довольно много полезных функций в сочетании с простотой их применения. </p>\n",
    "         </div>\n",
    "         <a href=\"/ru/post/588645/\" class=\"tm-article-snippet__readmore\">\n",
    "         <span>Читать далее</span>\n",
    "         </a>\n",
    "      </div>\n",
    "   </div>\n",
    "   <div class=\"tm-data-icons\">\n",
    "      <!---->\n",
    "      <div class=\"tm-votes-meter tm-data-icons__item\">\n",
    "         <svg height=\"16\" width=\"16\" class=\"tm-svg-img tm-votes-meter__icon tm-votes-meter__icon_small\">\n",
    "            <title>Рейтинг</title>\n",
    "            <use xlink:href=\"/img/megazord-v24.ce74655c.svg#counter-rating\"></use>\n",
    "         </svg>\n",
    "         <span class=\"tm-votes-meter__value tm-votes-meter__value_small\">0</span>\n",
    "      </div>\n",
    "      <span title=\"Количество просмотров\" class=\"tm-icon-counter tm-data-icons__item\">\n",
    "         <svg height=\"16\" width=\"16\" class=\"tm-svg-img tm-icon-counter__icon\">\n",
    "            <title>Просмотры</title>\n",
    "            <use xlink:href=\"/img/megazord-v24.ce74655c.svg#counter-views\"></use>\n",
    "         </svg>\n",
    "         <span class=\"tm-icon-counter__value\">96</span>\n",
    "      </span>\n",
    "      <button title=\"Добавить в закладки\" type=\"button\" class=\"bookmarks-button tm-data-icons__item\">\n",
    "         <span title=\"Добавить в закладки\" class=\"tm-svg-icon__wrapper bookmarks-button__icon\">\n",
    "            <svg height=\"16\" width=\"16\" class=\"tm-svg-img tm-svg-icon\">\n",
    "               <title>Добавить в закладки</title>\n",
    "               <use xlink:href=\"/img/megazord-v24.ce74655c.svg#counter-favorite\"></use>\n",
    "            </svg>\n",
    "         </span>\n",
    "         <span title=\"Количество пользователей, добавивших публикацию в закладки\" class=\"bookmarks-button__counter\">0</span>\n",
    "      </button>\n",
    "      <div title=\"Читать комментарии\" class=\"tm-article-comments-counter-link tm-data-icons__item\">\n",
    "         <a href=\"/ru/post/588645/comments/\" class=\"tm-article-comments-counter-link__link\">\n",
    "            <svg height=\"16\" width=\"16\" class=\"tm-svg-img tm-article-comments-counter-link__icon\">\n",
    "               <title>Комментарии</title>\n",
    "               <use xlink:href=\"/img/megazord-v24.ce74655c.svg#counter-comments\"></use>\n",
    "            </svg>\n",
    "            <span class=\"tm-article-comments-counter-link__value\">\n",
    "            0\n",
    "            </span>\n",
    "         </a>\n",
    "         <!---->\n",
    "      </div>\n",
    "      <!----> \n",
    "      <div class=\"v-portal\" style=\"display:none;\"></div>\n",
    "   </div>\n",
    "</article>"
   ]
  },
  {
   "cell_type": "markdown",
   "metadata": {},
   "source": [
    "## Задание на семинар 2\n",
    "\n",
    "Скачать главную страницу Яндекс.Погоды и\n",
    "    \n",
    "- а) распечатать сегодняшнюю температуру и облачность\n",
    "- б) распечатать время восхода и заката\n",
    "- в) погоду на завтра"
   ]
  },
  {
   "cell_type": "markdown",
   "metadata": {},
   "source": [
    "## Хорошая статья про это все\n",
    "\n",
    "[https://sysblok.ru/courses/obkachka-sajtov-svoimi-rukami-razbiraemsja-s-html/](https://sysblok.ru/courses/obkachka-sajtov-svoimi-rukami-razbiraemsja-s-html/)"
   ]
  }
 ],
 "metadata": {
  "kernelspec": {
   "display_name": "Python 3",
   "language": "python",
   "name": "python3"
  },
  "language_info": {
   "codemirror_mode": {
    "name": "ipython",
    "version": 3
   },
   "file_extension": ".py",
   "mimetype": "text/x-python",
   "name": "python",
   "nbconvert_exporter": "python",
   "pygments_lexer": "ipython3",
   "version": "3.8.10"
  }
 },
 "nbformat": 4,
 "nbformat_minor": 4
}
