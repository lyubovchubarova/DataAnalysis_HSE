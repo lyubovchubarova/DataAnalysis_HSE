{
  "cells": [
    {
      "cell_type": "markdown",
      "metadata": {
        "id": "8FDEIPZSObX7"
      },
      "source": [
        "Credits to Тимур Петров, ФКН ВШЭ"
      ]
    },
    {
      "cell_type": "markdown",
      "metadata": {
        "id": "F6MGlt7Dpmwc"
      },
      "source": [
        "## Исключения и обработка ошибок"
      ]
    },
    {
      "cell_type": "markdown",
      "metadata": {
        "id": "ffCIHuGnSEAt"
      },
      "source": [
        "Вы все, наверное, сталкивались с ошибками (в жизни и не только), но сегодня будем про Python\n",
        "\n",
        "Давайте на любимом простом примере - деление на ноль:"
      ]
    },
    {
      "cell_type": "code",
      "execution_count": null,
      "metadata": {
        "colab": {
          "base_uri": "https://localhost:8080/",
          "height": 175
        },
        "id": "et71wmAxprOr",
        "outputId": "91bced84-9ee0-419a-8713-1ffd07303ba2"
      },
      "outputs": [],
      "source": [
        "1 / 0"
      ]
    },
    {
      "cell_type": "markdown",
      "metadata": {
        "id": "Mlp3SAClSPLQ"
      },
      "source": [
        "Когда мы запускаем рабочий код, но что-то идет не так, как хотелось бы, мы часто увидим вот эти названия типа ZeroDivisionError и так далее\n",
        "\n",
        "Можно даже прочитать и сразу становится понятно:\n",
        "\n",
        "![](https://memepedia.ru/wp-content/uploads/2022/03/chto-sluchilos-memy.jpg)"
      ]
    },
    {
      "cell_type": "markdown",
      "metadata": {
        "id": "_0cg5fAMSyF9"
      },
      "source": [
        "Хорошо, получили ошибку, код ничего не сделал, а мы плачем, потому что запускали модель на два дня и потратили все ради того, чтобы программа выдала ошибку (у меня так было...)\n",
        "\n",
        "Но благо, что в Python можно прямо сказать, что делать при ошибках с помощью try-except!"
      ]
    },
    {
      "cell_type": "code",
      "execution_count": null,
      "metadata": {
        "id": "mJvkf4hkTW5b"
      },
      "outputs": [],
      "source": [
        "#не обращаем внимание на код, он мне для мема (грузит картиночку)\n",
        "from skimage import io\n",
        "import matplotlib.pyplot as plt\n",
        "\n",
        "image = io.imread('https://i.playground.ru/p/sRPhYd-FCmpL4t-DbUC_DA.jpeg')"
      ]
    },
    {
      "cell_type": "code",
      "execution_count": null,
      "metadata": {
        "colab": {
          "base_uri": "https://localhost:8080/",
          "height": 452
        },
        "id": "xrg4xWXgTF27",
        "outputId": "a634c113-e1e8-4d4f-d08a-be64070a0935"
      },
      "outputs": [],
      "source": [
        "try: # запусти код\n",
        "    n = int(input(\"Please enter an integer: \"))\n",
        "    print(1 / n)\n",
        "except ZeroDivisionError: # если встретил вот эту ошибку (ошибка - это класс)\n",
        "    plt.imshow(image)\n",
        "    plt.show()"
      ]
    },
    {
      "cell_type": "markdown",
      "metadata": {
        "id": "bPdQ-AAZVPds"
      },
      "source": [
        "О! Заметили, что у нас еще бывают другие ошибки? И мы их тоже хотим обработать!"
      ]
    },
    {
      "cell_type": "code",
      "execution_count": null,
      "metadata": {
        "colab": {
          "base_uri": "https://localhost:8080/",
          "height": 288
        },
        "id": "XZBUgIK4VVDR",
        "outputId": "12ed2a69-92ac-4661-bf65-e118813d307e"
      },
      "outputs": [],
      "source": [
        "try: # запусти код\n",
        "    n = int(input(\"Please enter an integer: \"))\n",
        "    print(1 / n)\n",
        "except ZeroDivisionError: # если встретил вот эту ошибку (ошибка - это класс)\n",
        "    plt.imshow(image)\n",
        "    plt.show()\n",
        "except ValueError:\n",
        "    plt.imshow(image)\n",
        "    plt.show()\n",
        "except:\n",
        "    print(\"Haha\")"
      ]
    },
    {
      "cell_type": "markdown",
      "metadata": {
        "id": "C0Ycj-eYVgyT"
      },
      "source": [
        "Но так неудобно, можно объединить"
      ]
    },
    {
      "cell_type": "code",
      "execution_count": null,
      "metadata": {
        "colab": {
          "base_uri": "https://localhost:8080/"
        },
        "id": "ovJqsBa0Vj9g",
        "outputId": "a52661ea-438b-47b8-fa0c-2bd44f1ef7c8"
      },
      "outputs": [],
      "source": [
        "try: # запусти код\n",
        "    n = int(input(\"Please enter an integer: \"))\n",
        "    print(1 / n)\n",
        "except (ZeroDivisionError, ValueError): # если встретил вот эту ошибку (ошибка - это класс)\n",
        "    plt.imshow(image)\n",
        "    plt.show()"
      ]
    },
    {
      "cell_type": "markdown",
      "metadata": {
        "id": "KZ4zQ9CDVzQW"
      },
      "source": [
        "Окей, а что если мы вот сделали кусок кода и хотим после обработки ошибки сделать что-нибудь еще? Для этого есть else и finally\n",
        "\n",
        "* else - выполняет код, если ошибок в итоге не возникло\n",
        "\n",
        "* finally - выполняет код в любом случае"
      ]
    },
    {
      "cell_type": "code",
      "execution_count": null,
      "metadata": {
        "colab": {
          "base_uri": "https://localhost:8080/",
          "height": 307
        },
        "id": "BfhQoAOBWIpe",
        "outputId": "36156640-c5f9-4c73-9eb9-7c38a2552704"
      },
      "outputs": [],
      "source": [
        "try: # запусти код\n",
        "    n = int(input(\"Please enter an integer: \"))\n",
        "    print(1 / n)\n",
        "except (ZeroDivisionError, ValueError): # если встретил вот эту ошибку (ошибка - это класс)\n",
        "    plt.imshow(image)\n",
        "    plt.show()\n",
        "else:\n",
        "    print(\"Good job\")\n",
        "finally:\n",
        "    print(\"LOL\")"
      ]
    },
    {
      "cell_type": "markdown",
      "metadata": {
        "id": "9KQVu134ZuPj"
      },
      "source": [
        "А что происходит, если внутри обработки ошибки случаются ошибки? Давайте попробуем:"
      ]
    },
    {
      "cell_type": "code",
      "execution_count": null,
      "metadata": {
        "colab": {
          "base_uri": "https://localhost:8080/",
          "height": 895
        },
        "id": "ELWY5ZqkZzmm",
        "outputId": "ae1ac13d-e689-4012-8b39-188a6030a71f"
      },
      "outputs": [],
      "source": [
        "try: # запусти код\n",
        "    n = int(input(\"Please enter an integer: \"))\n",
        "    print(1 / n)\n",
        "except ZeroDivisionError: # если встретил вот эту ошибку (ошибка - это класс)\n",
        "    plt.imshow(image)\n",
        "    plt.show()\n",
        "    k = int(\"abc\")\n",
        "except ValueError:\n",
        "    print(\"Caught ya\")\n",
        "else:\n",
        "    print(\"Good job\")\n",
        "finally:\n",
        "    print(\"LOL\")"
      ]
    },
    {
      "cell_type": "markdown",
      "metadata": {
        "id": "q2EVWbo1VE8j"
      },
      "source": [
        "Какие вообще бывают ошибки? Ну давайте посмотрим:"
      ]
    },
    {
      "cell_type": "markdown",
      "metadata": {
        "id": "qNr5YO2-cFxn"
      },
      "source": [
        "![](https://i.imgur.com/AenGQYk.png)"
      ]
    },
    {
      "cell_type": "markdown",
      "metadata": {
        "id": "n4KWScnmcq6M"
      },
      "source": [
        "Обратим внимание на один из типов ошибок - warningи. Это не ошибка, а предупреждение. Чаще всего вы будете видеть Deprecation warning - предупреждение, что в текущей версии что-то работает, но в следующих версиях работать не будет, а поэтому лучше использовать какой-то другой метод\n",
        "\n",
        "Warning не мешают выполнению программы, но иногда надоедают. Что можно с ними сделать? Вот это плохо, но так делают постоянно:"
      ]
    },
    {
      "cell_type": "code",
      "execution_count": null,
      "metadata": {
        "id": "Klo38uRudMMO"
      },
      "outputs": [],
      "source": [
        "import warnings\n",
        "\n",
        "warnings.filterwarnings(\"ignore\") ## Игнорируем все предупреждения"
      ]
    },
    {
      "cell_type": "markdown",
      "metadata": {
        "id": "I1_C1RqiWdR7"
      },
      "source": [
        "А что еще? :)\n",
        "\n",
        "* Можно создать свое собственное исключение (и его подымать)\n",
        "\n",
        "* Можно смотреть на значения исключения\n",
        "\n",
        "У каждого исключения есть еще внутри значения, которые также можно выводить"
      ]
    },
    {
      "cell_type": "code",
      "execution_count": null,
      "metadata": {
        "colab": {
          "base_uri": "https://localhost:8080/"
        },
        "id": "EFrCz5XEWsob",
        "outputId": "4ff0cae8-48ae-4edf-f960-fa08d1af2c29"
      },
      "outputs": [],
      "source": [
        "try: # запусти код\n",
        "    n = int(input(\"Please enter an integer: \"))\n",
        "    print(1 / n)\n",
        "except (ZeroDivisionError, ValueError) as e: # если встретил вот эту ошибку (ошибка - это класс)\n",
        "    print(e) #внутри находится сообщение с тем, а что случилось-то\n",
        "finally:\n",
        "    print(\"LOL\")"
      ]
    },
    {
      "cell_type": "code",
      "execution_count": null,
      "metadata": {
        "colab": {
          "base_uri": "https://localhost:8080/"
        },
        "id": "8Ibt9JAAW4wt",
        "outputId": "be9394b5-5b62-4bf4-de4e-ff813531b55d"
      },
      "outputs": [],
      "source": [
        "try: # запусти код\n",
        "    n = int(input(\"Please enter an integer: \"))\n",
        "    print(1 / n)\n",
        "    raise ZeroDivisionError()\n",
        "except (ZeroDivisionError, ValueError) as e: # если встретил вот эту ошибку (ошибка - это класс)\n",
        "    print(e) #внутри находится сообщение с тем, а что случилось-то\n",
        "finally:\n",
        "    print(\"LOL\")"
      ]
    },
    {
      "cell_type": "markdown",
      "metadata": {
        "id": "OrqalRQPd48C"
      },
      "source": [
        "Что умеем вытаскивать из ошибки?"
      ]
    },
    {
      "cell_type": "code",
      "execution_count": null,
      "metadata": {
        "colab": {
          "base_uri": "https://localhost:8080/"
        },
        "id": "RNYlXkABd9Va",
        "outputId": "8518d9d1-4f22-467d-f4b5-8db36b0f505d"
      },
      "outputs": [],
      "source": [
        "try: # запусти код\n",
        "    raise ValueError(\"Smth gone wrong\")\n",
        "except (ZeroDivisionError, ValueError) as e: # если встретил вот эту ошибку (ошибка - это класс)\n",
        "    print(type(e)) #внутри находится класс"
      ]
    },
    {
      "cell_type": "markdown",
      "metadata": {
        "id": "Rr_3ncNdelzk"
      },
      "source": [
        "Хотим посмотреть побольше: не только на сообщение, но и на сам traceback, как же это сделать? Нам поможет бибилотека [traceback](https://docs.python.org/3/library/traceback.html)"
      ]
    },
    {
      "cell_type": "code",
      "execution_count": null,
      "metadata": {
        "colab": {
          "base_uri": "https://localhost:8080/"
        },
        "id": "-w90Lhf5erEk",
        "outputId": "859ff4fd-2111-4ba9-f1c0-84a541acf6c4"
      },
      "outputs": [],
      "source": [
        "import traceback\n",
        "\n",
        "try: # запусти код\n",
        "    raise ValueError(\"Smth gone wrong\")\n",
        "except (ZeroDivisionError, ValueError) as e: # если встретил вот эту ошибку (ошибка - это класс)\n",
        "    print(type(e)) #внутри находится класс\n",
        "    print(traceback.format_exc())"
      ]
    },
    {
      "cell_type": "markdown",
      "metadata": {
        "id": "KLbcVX3efCPe"
      },
      "source": [
        "Все исключения наследуется от базового класса Exception, внутри которого уже реализовано все необходимое. Единственное, что по сути меняется - это собственно сам traceback и название. Попробуем создать собственное исключение:"
      ]
    },
    {
      "cell_type": "code",
      "execution_count": null,
      "metadata": {
        "colab": {
          "base_uri": "https://localhost:8080/"
        },
        "id": "UN9jtNM3XD5x",
        "outputId": "4bb616b1-0621-4498-cc49-1412ff0a0148"
      },
      "outputs": [],
      "source": [
        "class MyException(Exception): #вообще исключения - это класс, который наследуется от класса Exception (логично, правда?)\n",
        "    pass\n",
        "\n",
        "try:\n",
        "    raise MyException(\"I can't take it anymore!\")\n",
        "except:\n",
        "    print(traceback.format_exc())"
      ]
    },
    {
      "cell_type": "code",
      "execution_count": null,
      "metadata": {
        "colab": {
          "base_uri": "https://localhost:8080/"
        },
        "id": "XkxfkJL_XVl2",
        "outputId": "68e048dc-79d0-4499-b83d-512bb7ea99d5"
      },
      "outputs": [],
      "source": [
        "try:\n",
        "    raise Exception(\"I can't take it anymore!\")\n",
        "except Exception as e:\n",
        "    print(e)"
      ]
    }
  ],
  "metadata": {
    "colab": {
      "collapsed_sections": [
        "F6MGlt7Dpmwc",
        "VH0iUX-XQiv0",
        "-iCtqEWj5D1j"
      ],
      "provenance": []
    },
    "kernelspec": {
      "display_name": "Python 3",
      "name": "python3"
    },
    "language_info": {
      "name": "python"
    }
  },
  "nbformat": 4,
  "nbformat_minor": 0
}
