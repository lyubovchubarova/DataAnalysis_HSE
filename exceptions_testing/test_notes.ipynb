{
  "cells": [
    {
      "cell_type": "markdown",
      "metadata": {
        "id": "8FDEIPZSObX7"
      },
      "source": [
        "Credits to Тимур Петров, ФКН ВШЭ"
      ]
    },
    {
      "cell_type": "markdown",
      "metadata": {
        "id": "D-1M-akUiBrK"
      },
      "source": [
        "## TDD"
      ]
    },
    {
      "cell_type": "markdown",
      "metadata": {
        "id": "DVyVtTvDqmoD"
      },
      "source": [
        "### Паттерн разработки TDD\n",
        "\n",
        "TDD - test-driven developement или разработка через тестирование. Достигается соблюдением трех правил.\n",
        "\n",
        "**Три правила TDD**:\n",
        "\n",
        " - Продакшн-код можно писать только для починки падающего теста\n",
        " - В тесте нужно писать ровно столько кода, сколько необходимо чтобы он упал. Ошибки компиляции считаются падениями теста.\n",
        " - В прод можно написать ровно столько кода, сколько требуется для починки дного падающего теста.\n",
        "\n",
        "\n",
        " Получается следйющий пайплайн - пишем падающий тест, пишем код чтобы тест не падал, рефакторим код так, чтобы тесты не падали. Повторяем до сходимости.\n",
        "\n",
        "1. [Test Driven Development: By Example 1st Edition](https://www.eecs.yorku.ca/course_archive/2003-04/W/3311/sectionM/case_studies/money/KentBeck_TDD_byexample.pdf)\n",
        "2. [On Growing Object Oriented Software, Guided by Tests](https://www.amazon.com/Growing-Object-Oriented-Software-Guided-Tests/dp/0321503627)\n",
        "\n",
        "\n",
        "### Каты\n",
        "\n",
        "![](https://karate.by/uploads/posts/2010-10/kkk0001s.png)\n",
        "\n",
        "Каты - упражнения по программированию, помогающие отточить навыки путем многократного повторнеия. Концепция взята из японских боевых искусств. Подробнее про них можно почитать в книжке [The Pragmatic Programmer](https://pragprog.com/titles/tpp20/the-pragmatic-programmer-20th-anniversary-edition/)\n",
        "\n",
        "\n",
        "\n",
        "**Ката Greeter**\n",
        "\n",
        "Данную кату надо выполнять строго по пунктам, не заглядывая вперед:\n",
        "\n",
        "- Создайте класс `Greeter`, у которого есть метод `greet` принимающий на вход имя и возвращающий \"Hello <имя>\".\n",
        "- Метод `greet` должен убирать лишние пробелы - в начале и в конце имени\n",
        "- Метод `greet` должен возвращать ошибку если имя - пустая строка (или строка с пробелами)\n",
        "- Метод `greet` возвращает \"Good evening <имя>\" если текущее время - 18:00-22:59"
      ]
    },
    {
      "cell_type": "markdown",
      "metadata": {
        "id": "0Emxf2a8rsik"
      },
      "source": [
        "## Первый тест\n",
        "\n",
        "Для автоматизированного тестирования написано много фреймворков на разных языках. Короткий список для python:\n",
        "\n",
        "* [unittest](https://docs.python.org/3/library/unittest.html)\n",
        "* [nose2](https://docs.nose2.io/en/latest/)\n",
        "* [pytest](https://docs.pytest.org/en/latest/)\n",
        "\n",
        "В рамках лекции мы остановимся на `pytest`. Почему он? Банально - он удобнее (если детально углубляться, глобально ничем не отличаются, просто в pytest уже достаточно много всего сделано из коробки)"
      ]
    },
    {
      "cell_type": "code",
      "execution_count": null,
      "metadata": {
        "id": "d7vdYWgZT_gk"
      },
      "outputs": [],
      "source": [
        "!pip install ipytest pytest coverage"
      ]
    },
    {
      "cell_type": "code",
      "execution_count": null,
      "metadata": {
        "id": "uqLOf8B5rxpY"
      },
      "outputs": [],
      "source": [
        "import pytest\n",
        "import ipytest\n",
        "import coverage\n",
        "ipytest.autoconfig()\n",
        "__file__ = \"testing_and_logging_lection.ipynb\""
      ]
    },
    {
      "cell_type": "markdown",
      "metadata": {
        "id": "CKmzIj6_r-mY"
      },
      "source": [
        "#### Как pytest находит тесты:\n",
        "\n",
        "1. Рекурсивно находит все python-файлы в текущей директории\n",
        "2. Оставляет только файлы вида `test_*.py` и `*_test.py`\n",
        "3. В этих файлах\n",
        "  1. Находит все функции с префиксом `test`\n",
        "  2. Находит все методв с префиксом `test` внутри классов с префиксом `Test`. У классов не должно быть метода `__init__`\n",
        "  \n",
        "Поведение можно модифицировать. [Подробнее в документации](https://docs.pytest.org/en/stable/goodpractices.html#test-discovery)\n",
        "\n",
        "Напишем минимальный тест (который, естественно, упадет)"
      ]
    },
    {
      "cell_type": "code",
      "execution_count": null,
      "metadata": {
        "colab": {
          "base_uri": "https://localhost:8080/"
        },
        "id": "8QDrK_virTQn",
        "outputId": "6dfe0570-9273-4398-ca92-bfbb4abf2547"
      },
      "outputs": [],
      "source": [
        "%%ipytest -q\n",
        "def test_greeter():\n",
        "    Greeter()"
      ]
    },
    {
      "cell_type": "markdown",
      "metadata": {
        "id": "RWwjlhgCT_gl"
      },
      "source": [
        "`pytest` выводит отчет, в котором можно посмотреть сколько у нас всего тестов, какие из них упали и по какой причине.\n",
        "\n",
        "Теперь сделаем так чтобы тест проходил"
      ]
    },
    {
      "cell_type": "markdown",
      "metadata": {
        "id": "xpXsYTSsT_gm"
      },
      "source": [
        "TDD выглядит следующим образом:\n",
        "\n",
        "1. Написали тест\n",
        "\n",
        "2. Написали кусок кода\n",
        "\n",
        "3. Проверили, что проходит тест\n",
        "\n",
        "4. PROFIT"
      ]
    },
    {
      "cell_type": "code",
      "execution_count": null,
      "metadata": {
        "id": "cskIAApgrTVU"
      },
      "outputs": [],
      "source": [
        "class Greeter:\n",
        "    pass"
      ]
    },
    {
      "cell_type": "code",
      "execution_count": null,
      "metadata": {
        "colab": {
          "base_uri": "https://localhost:8080/"
        },
        "id": "YahsLnfkWg8f",
        "outputId": "3294f32e-1dae-45e4-b854-a447209cffc5"
      },
      "outputs": [],
      "source": [
        "%%ipytest -q\n",
        "def test_greeter():\n",
        "    assert Greeter()"
      ]
    },
    {
      "cell_type": "markdown",
      "metadata": {
        "id": "M9gkE6hCT_gm"
      },
      "source": [
        "Сначала мы пишем тесты на реализацию что должно проверять, а только потом делаем реализацию.\n",
        "\n",
        "Теперь наконец-то напишем нормальный тест, воспользовавшись основной фишкой `Pytest` - `assert`. `Pytest` находит все вызовы `assert` в коде тестов, а затем переписывает этот код так, чтобы в случае падения пользователь мог получить удобный дифф и трейсбек.\n",
        "\n",
        "- [Демки разных ассертов](https://docs.pytest.org/en/stable/example/reportingdemo.html#tbreportdemo)\n",
        "- [Цикл статей про то, как это работает](https://www.pythoninsight.com/2018/01/assertion-rewriting-in-pytest-part-1/)"
      ]
    },
    {
      "cell_type": "markdown",
      "metadata": {
        "id": "kozgNXSRW7no"
      },
      "source": [
        "Базово assert работает достаточно просто: мы вызываем некоторое выражение, которое должно выдавать True/False. Получилось True - мы молодцы, False - нет, роняем"
      ]
    },
    {
      "cell_type": "code",
      "execution_count": null,
      "metadata": {
        "colab": {
          "base_uri": "https://localhost:8080/"
        },
        "id": "npG0hQEgT_gm",
        "outputId": "2f14926f-ff6f-4aa8-9262-a93701628162"
      },
      "outputs": [],
      "source": [
        "%%ipytest -q\n",
        "def test_greeter():\n",
        "    name = \"Mike\"\n",
        "    assert Greeter().greet(name) == name"
      ]
    },
    {
      "cell_type": "markdown",
      "metadata": {
        "id": "wveeUsYyT_gm"
      },
      "source": [
        "Еще одна итерация TDD:"
      ]
    },
    {
      "cell_type": "code",
      "execution_count": null,
      "metadata": {
        "id": "HVf2P2o5T_gm"
      },
      "outputs": [],
      "source": [
        "class Greeter:\n",
        "    def greet(self, name):\n",
        "        return name"
      ]
    },
    {
      "cell_type": "code",
      "execution_count": null,
      "metadata": {
        "colab": {
          "base_uri": "https://localhost:8080/"
        },
        "id": "dW_r3InvT_gm",
        "outputId": "e3a23ca2-8b67-4f35-9d8b-8e4a6e58d03a"
      },
      "outputs": [],
      "source": [
        "%%ipytest -q\n",
        "def test_greeter():\n",
        "    name = \"Mike\"\n",
        "    assert Greeter().greet(name) == name"
      ]
    },
    {
      "cell_type": "markdown",
      "metadata": {
        "id": "G3e4Nn0HT_gn"
      },
      "source": [
        "##  Параметризация"
      ]
    },
    {
      "cell_type": "markdown",
      "metadata": {
        "id": "v_40PXysXqBl"
      },
      "source": [
        "Наша реализация представляет собой немного не то что мы хотели. В чем проблема? А в том, что у нас написан всего 1 тест, который можно обработать изощренно:"
      ]
    },
    {
      "cell_type": "code",
      "execution_count": null,
      "metadata": {
        "id": "2u-gA17gXrpz"
      },
      "outputs": [],
      "source": [
        "class Greeter:\n",
        "    def greet(self, name):\n",
        "        return \"Mike\""
      ]
    },
    {
      "cell_type": "code",
      "execution_count": null,
      "metadata": {
        "colab": {
          "base_uri": "https://localhost:8080/"
        },
        "id": "lYsmftKdXvdd",
        "outputId": "3bc96766-72c9-4060-a08b-9eae6a2db40d"
      },
      "outputs": [],
      "source": [
        "%%ipytest -q\n",
        "def test_greeter():\n",
        "    name = \"Mike\"\n",
        "    assert Greeter().greet(name) == name"
      ]
    },
    {
      "cell_type": "markdown",
      "metadata": {
        "id": "k0hTdPqoT_gn"
      },
      "source": [
        "Наверное стоит добавить больше разных тестов, чтобы вводы были разные.\n",
        "\n",
        "Чтобы не копировать один и тот же тест (и не плодить 100500 тестов), можно воспользоваться параметризацией:"
      ]
    },
    {
      "cell_type": "markdown",
      "metadata": {
        "id": "XrmeN4HYT_gn"
      },
      "source": [
        "Посмотрим что это такое на примере:"
      ]
    },
    {
      "cell_type": "code",
      "execution_count": null,
      "metadata": {
        "colab": {
          "base_uri": "https://localhost:8080/"
        },
        "id": "bj7qqVl4T_gn",
        "outputId": "67845676-9f49-47a4-ac9e-91e0def71a03"
      },
      "outputs": [],
      "source": [
        "%%ipytest -q\n",
        "import pytest\n",
        "\n",
        "\n",
        "@pytest.mark.parametrize(\"a, b, c\", [\n",
        "    (1, 2, 3),\n",
        "    (3, 4, 7),\n",
        "    (5, 6, 11),\n",
        "])\n",
        "def test_sample_parametrization(a, b, c):\n",
        "    assert a + b == c"
      ]
    },
    {
      "cell_type": "markdown",
      "metadata": {
        "id": "cDqW-zYoT_gn"
      },
      "source": [
        "Давайте рассмотрим что из себя оно представляет:\n",
        "\n",
        "Конкректно у нас фигурирует тут: `pytest.mark.parametrize`\n",
        "Декоратор, который позволяет параметризировать (использовать несколько наборов данных) на тестовую функцию.\n",
        "\n",
        "Каждая комбинация значений будет автоматически передаваться в тестовую функцию и pytest выполнит для каждого набора тестовых данных.\n",
        "\n",
        "\n",
        "\n",
        "```python\n",
        "@pytest.mark.parametrize(\"<аргумент1>, <аргумент2>, <аргумент3>, ...\", [<набор_Значений_для_аргумента_1>, <набор_значений_для_аргумента_2>, <набор_значений_для_аргумента_3>, ...]\n",
        "ИЛИ [\n",
        "    (<набор_Значений_для_аргумента_1>, <набор_значений_для_аргумента_2>, <набор_значений_для_аргумента_3>, ...),\n",
        "    (<набор_Значений_для_аргумента_1>, <набор_значений_для_аргумента_2>, <набор_значений_для_аргумента_3>, ...),\n",
        "    (<набор_Значений_для_аргумента_1>, <набор_значений_для_аргумента_2>, <набор_значений_для_аргумента_3>, ...)\n",
        "])\n",
        "def test_<название теста>(<аргумент1>, <аргумент2>, <аргумент3>, ...):\n",
        "\n",
        "    <подготовка или демонстрация тестового сценария>\n",
        "\n",
        "    assert <проверяемое выражение>\n",
        "\n",
        "```\n"
      ]
    },
    {
      "cell_type": "markdown",
      "metadata": {
        "id": "0Yfs5dZXT_gn"
      },
      "source": [
        "* аргументы в фикстурах -- переменные и для каждой переменной должно быть значение типа object (то есть любой объект)\n",
        "\n",
        "Если не будет хоть одного значения тест завершится ошибкой с проверкой на количество аргументов и значений  `assert len(param.values) != len(argnames)`"
      ]
    },
    {
      "cell_type": "code",
      "execution_count": null,
      "metadata": {
        "colab": {
          "base_uri": "https://localhost:8080/"
        },
        "id": "Her2MTCiT_gn",
        "outputId": "421286f2-0f8d-493f-9fa7-56bfaf3987f0"
      },
      "outputs": [],
      "source": [
        "%%ipytest -q\n",
        "\n",
        "@pytest.mark.parametrize(\"a, b, c\", [1, 2])\n",
        "def test_sample(a, b, c):\n",
        "    assert a + b == 3"
      ]
    },
    {
      "cell_type": "markdown",
      "metadata": {
        "id": "NLdjVamkT_gn"
      },
      "source": [
        "Видим отчеты пайтеста во всей красе. Починим тесты:"
      ]
    },
    {
      "cell_type": "code",
      "execution_count": null,
      "metadata": {
        "colab": {
          "base_uri": "https://localhost:8080/"
        },
        "id": "AoSfsZsOT_gn",
        "outputId": "b5c5ac7a-e7b1-43c5-8cfa-73770e1d4445"
      },
      "outputs": [],
      "source": [
        "%%ipytest -q\n",
        "test_cases = [(\"Mike\", \"Hello Mike\"), (\"John\", \"Hello John\"), (\"Greg\", \"Hello Greg\")]\n",
        "\n",
        "@pytest.mark.parametrize(\"name, greeting\", test_cases)\n",
        "def test_greeter(name, greeting):\n",
        "    assert Greeter().greet(name) == greeting"
      ]
    },
    {
      "cell_type": "code",
      "execution_count": null,
      "metadata": {
        "id": "zUrdZT5BT_gn"
      },
      "outputs": [],
      "source": [
        "class Greeter:\n",
        "    def greet(self, name):\n",
        "        return \"Hello \" + name"
      ]
    },
    {
      "cell_type": "code",
      "execution_count": null,
      "metadata": {
        "colab": {
          "base_uri": "https://localhost:8080/"
        },
        "id": "BTk-e8FYT_gn",
        "outputId": "b9810206-6f4c-4a79-a31b-86d34aef6396"
      },
      "outputs": [],
      "source": [
        "%%ipytest -q\n",
        "test_cases = [(\"Mike\", \"Hello Mike\"), (\"John\", \"Hello John\"), (\"Greg\", \"Hello Greg\")]\n",
        "\n",
        "@pytest.mark.parametrize(\"name, greeting\", test_cases)\n",
        "def test_greeter(name, greeting):\n",
        "    assert Greeter().greet(name) == greeting"
      ]
    },
    {
      "cell_type": "markdown",
      "metadata": {
        "id": "zkzrkDBPYhGx"
      },
      "source": [
        "Ура, мы выполнили первый пункт!"
      ]
    },
    {
      "cell_type": "markdown",
      "metadata": {
        "id": "NP3vg1C0T_gn"
      },
      "source": [
        "Перейдем к следующему пункту нашего задания:\n",
        "\n",
        "- Метод `greet` должен убирать лишние пробелы - в начале и в конце имени\n",
        "\n",
        "Опять же, напишем тест:"
      ]
    },
    {
      "cell_type": "code",
      "execution_count": null,
      "metadata": {
        "colab": {
          "base_uri": "https://localhost:8080/"
        },
        "id": "iltACXWhT_gn",
        "outputId": "df7c8bb9-cb4e-4fee-9fec-3b552a076baf"
      },
      "outputs": [],
      "source": [
        "%%ipytest -q\n",
        "\n",
        "def test_spaces():\n",
        "    greeter = Greeter()\n",
        "    greeting = greeter.greet(\" Mike\")\n",
        "    assert not greeting.startswith(\" \")"
      ]
    },
    {
      "cell_type": "markdown",
      "metadata": {
        "id": "9CLII4d8T_gn"
      },
      "source": [
        "Обратим внимание что тест проходит и возникает соблазн продолжить работу. Однако если посмотреть на тест внимательно - можно увидеть в нем ошибку. (Какая?)\n",
        "\n",
        "\n",
        "Чтобы не наступать на такие грабли существует **правило** - только что написанный тест должен падать, при чем именно из-за того поведения, которое этот тест должен было покрыть.\n",
        "\n",
        "\n",
        "Вы можете писать тесты на уже существующий код - в таком случае они могут не падать т.к. код уже работает как надо. Тогда есть два варианта:\n",
        "* Сделать в продовом коде баг чтобы тест упал\n",
        "* Обратить проверяемое условие в тесте\n",
        "\n",
        "Поправим наш тест:"
      ]
    },
    {
      "cell_type": "code",
      "execution_count": null,
      "metadata": {
        "colab": {
          "base_uri": "https://localhost:8080/"
        },
        "id": "ecs9sjIFT_gn",
        "outputId": "8b7daa8c-1d28-415f-c6a1-068dea4d0d71"
      },
      "outputs": [],
      "source": [
        "%%ipytest -q\n",
        "\n",
        "def test_spaces():\n",
        "    greeter = Greeter()\n",
        "    greeted_name = greeter.greet(\" Mike\").split(\" \", 1)[1]\n",
        "    assert not greeted_name.startswith(\" \")"
      ]
    },
    {
      "cell_type": "code",
      "execution_count": null,
      "metadata": {
        "id": "QTf2nw5uT_go"
      },
      "outputs": [],
      "source": [
        "class Greeter:\n",
        "    def greet(self, name):\n",
        "        if name.startswith(\" \"):\n",
        "            name = name[1:]\n",
        "        return \"Hello \" + name"
      ]
    },
    {
      "cell_type": "code",
      "execution_count": null,
      "metadata": {
        "colab": {
          "base_uri": "https://localhost:8080/"
        },
        "id": "9Ve-4Hu2T_go",
        "outputId": "f9876cb1-16b8-44a4-d6d3-5da8170caf01"
      },
      "outputs": [],
      "source": [
        "%%ipytest -q\n",
        "\n",
        "def test_spaces():\n",
        "    greeter = Greeter()\n",
        "    greeted_name = greeter.greet(\" Mike\").split(\" \", 1)[1]\n",
        "\n",
        "    assert not greeted_name.startswith(\" \")"
      ]
    },
    {
      "cell_type": "markdown",
      "metadata": {
        "id": "UmQTzBlXT_go"
      },
      "source": [
        "Перечитаем наше задание:\n",
        "* Метод greet должен убирать лишние пробелы - в начале и **в конце имени**\n",
        "\n",
        "Видимо нам нужно расширить тест:"
      ]
    },
    {
      "cell_type": "code",
      "execution_count": null,
      "metadata": {
        "colab": {
          "base_uri": "https://localhost:8080/"
        },
        "id": "fphLxCeTT_go",
        "outputId": "9e9dae96-cef5-4ee8-a323-3e953edfd7e3"
      },
      "outputs": [],
      "source": [
        "%%ipytest -q\n",
        "\n",
        "def test_spaces():\n",
        "    greeter = Greeter()\n",
        "    greeted_name = greeter.greet(\" Mike \").split(\" \", 1)[1]\n",
        "    assert not greeted_name.startswith(\" \") and not greeted_name.endswith(\" \")"
      ]
    },
    {
      "cell_type": "markdown",
      "metadata": {
        "id": "e8K6FiQZT_go"
      },
      "source": [
        "Починим тест"
      ]
    },
    {
      "cell_type": "code",
      "execution_count": null,
      "metadata": {
        "id": "dRTHICsvT_go"
      },
      "outputs": [],
      "source": [
        "class Greeter:\n",
        "    def greet(self, name):\n",
        "        if name.startswith(\" \"):\n",
        "            name = name[1:]\n",
        "        if name.endswith(\" \"):\n",
        "            name = name[:1]\n",
        "        return \"Hello \" + name"
      ]
    },
    {
      "cell_type": "code",
      "execution_count": null,
      "metadata": {
        "colab": {
          "base_uri": "https://localhost:8080/"
        },
        "id": "L557DuEIT_go",
        "outputId": "a284e8cd-5d10-475d-9013-3bd597f82746"
      },
      "outputs": [],
      "source": [
        "%%ipytest -q\n",
        "\n",
        "def test_spaces():\n",
        "    greeter = Greeter()\n",
        "    greeted_name = greeter.greet(\" Mike \").split(\" \", 1)[1]\n",
        "\n",
        "    assert not greeted_name.startswith(\" \") and not greeted_name.endswith(\" \")"
      ]
    },
    {
      "cell_type": "markdown",
      "metadata": {
        "id": "WTd1XLSUT_go"
      },
      "source": [
        "Наш тест все еще недостаточно хорош. Хороший набор тестов должен покрывать разные граничные условия и заходить во все ветки исполнения кода. Параметризуем наш тест так чтобы покрывал как можно ветвей исполнения кода:"
      ]
    },
    {
      "cell_type": "code",
      "execution_count": null,
      "metadata": {
        "colab": {
          "base_uri": "https://localhost:8080/"
        },
        "id": "xTDKafYvT_gp",
        "outputId": "48d03e13-9cb0-4c9b-f3d5-cf88a52d9b3b"
      },
      "outputs": [],
      "source": [
        "%%ipytest -q\n",
        "\n",
        "@pytest.mark.parametrize(\"name\", [\"Mike\", \" Mike\", \"Mike \", \" Mike \", \"  Mike\", \"  Mike  \"])\n",
        "def test_spaces(name):\n",
        "    greeter = Greeter()\n",
        "    greeted_name = greeter.greet(name).split(\" \", 1)[1]\n",
        "\n",
        "    assert not greeted_name.startswith(\" \") and not greeted_name.endswith(\" \")"
      ]
    },
    {
      "cell_type": "markdown",
      "metadata": {
        "id": "d6BtMPBQT_gp"
      },
      "source": [
        "Можно давать имена отдельным наборам параметров - тогда будет удобнее читать вывод пайтеста"
      ]
    },
    {
      "cell_type": "code",
      "execution_count": null,
      "metadata": {
        "colab": {
          "base_uri": "https://localhost:8080/"
        },
        "id": "iYCwlBrHT_gp",
        "outputId": "8ad21779-4184-4146-a578-2f619e72410a"
      },
      "outputs": [],
      "source": [
        "%%ipytest -q\n",
        "\n",
        "@pytest.mark.parametrize(\"name\", [\"Mike\", \" Mike\", \"Mike \", \" Mike \", \"  Mike\", \"  Mike  \"],\n",
        "                         ids=[\"no spaces\", \"left space\", \"right space\",\n",
        "                              \"two-side space\", \"double space\", \"two-sided double space\"])\n",
        "def test_spaces(name):\n",
        "    greeter = Greeter()\n",
        "    greeted_name = greeter.greet(name).split(\" \", 1)[1]\n",
        "\n",
        "    assert not greeted_name.startswith(\" \") and not greeted_name.endswith(\" \")"
      ]
    },
    {
      "cell_type": "code",
      "execution_count": null,
      "metadata": {
        "id": "dzU6qHsDT_gp"
      },
      "outputs": [],
      "source": [
        "class Greeter:\n",
        "    def greet(self, name):\n",
        "        while name.startswith(\" \"):\n",
        "            name = name[1:]\n",
        "        while name.endswith(\" \"):\n",
        "            name = name[:1]\n",
        "        return \"Hello \" + name"
      ]
    },
    {
      "cell_type": "code",
      "execution_count": null,
      "metadata": {
        "colab": {
          "base_uri": "https://localhost:8080/"
        },
        "id": "VDassPT5T_gp",
        "outputId": "a419b413-84ca-49cb-d7f9-14285f043dd2"
      },
      "outputs": [],
      "source": [
        "%%ipytest -q\n",
        "\n",
        "@pytest.mark.parametrize(\"name\", [\"Mike\", \" Mike\", \"Mike \", \" Mike \", \"  Mike\", \"  Mike  \"],\n",
        "                         ids=[\"no spaces\", \"left space\", \"right space\",\n",
        "                              \"two-side space\", \"double space\", \"two-sided double space\"])\n",
        "def test_spaces(name):\n",
        "    greeter = Greeter()\n",
        "    greeted_name = greeter.greet(name).split(\" \", 1)[1]\n",
        "\n",
        "    assert not greeted_name.startswith(\" \") and not greeted_name.endswith(\" \")"
      ]
    },
    {
      "cell_type": "markdown",
      "metadata": {
        "id": "8NCOMrl5T_gp"
      },
      "source": [
        "Код кажется многословным! (как будто можем проще, правда?) После рефакторинга необходимо его подчистить!"
      ]
    },
    {
      "cell_type": "code",
      "execution_count": null,
      "metadata": {
        "id": "cgaiShUAT_gp"
      },
      "outputs": [],
      "source": [
        "class Greeter:\n",
        "    def greet(self, name):\n",
        "        return \"Hello \" + name.strip()"
      ]
    },
    {
      "cell_type": "code",
      "execution_count": null,
      "metadata": {
        "colab": {
          "base_uri": "https://localhost:8080/"
        },
        "id": "tyD2RN4vT_gp",
        "outputId": "4f658671-df4d-4c4d-f1ff-f933bc9f34bd"
      },
      "outputs": [],
      "source": [
        "%%ipytest -q\n",
        "\n",
        "\n",
        "@pytest.mark.parametrize(\"name, greeting\", [(\"Mike\", \"Hello Mike\"), (\"John\", \"Hello John\"), (\"Greg\", \"Hello Greg\")])\n",
        "def test_greeter(name, greeting):\n",
        "    assert Greeter().greet(name) == greeting\n",
        "\n",
        "\n",
        "@pytest.mark.parametrize(\"name\", [\"Mike\", \" Mike\", \"Mike \", \" Mike \", \"  Mike\", \"  Mike  \"],\n",
        "                         ids=[\"no spaces\", \"left space\", \"right space\",\n",
        "                              \"two-side space\", \"double space\", \"two-sided double space\"])\n",
        "def test_spaces(name):\n",
        "    greeter = Greeter()\n",
        "    greeted_name = greeter.greet(name).split(\" \", 1)[1]\n",
        "\n",
        "    assert not greeted_name.startswith(\" \") and not greeted_name.endswith(\" \")"
      ]
    },
    {
      "cell_type": "markdown",
      "metadata": {
        "id": "YuBEzwkdZLaK"
      },
      "source": [
        "Шикарно, выполнили 2 пункта из 4, а также познакомились с параметризацией, можем сразу много кода написать"
      ]
    },
    {
      "cell_type": "markdown",
      "metadata": {
        "id": "f3obKQZnT_gp"
      },
      "source": [
        "## Моки и фикстуры"
      ]
    },
    {
      "cell_type": "markdown",
      "metadata": {
        "id": "d9mMpYbsT_gp"
      },
      "source": [
        "Mock (с англ - подделка, заглушка и тд) -- объекты, которые создаются для замены реальных объектов в процессе тестирования.\n",
        "\n",
        "Основная идея мока заключается в том, чтобы изолировать тестируемую часть системы от других компонентов, которые могут быть сложными, медленными или недоступными на момент тестирования.\n",
        "\n",
        "Большая потребность их возникает тогда, когда мы пишем большое и сложное приложение в котором имеется очень сложная логика и невозможно протестировать as appropriate, уже сразу написанный код.\n",
        "\n",
        "То есть логика следующая: мы не знаем, что у нас будет за объект/мы не хотим к нему обращаться. Чтобы протестировать функционал, нам необходимо создать какой-то фейк, который ***симулирует*** поведение нужного объекта. Вот это и есть Mock"
      ]
    },
    {
      "cell_type": "markdown",
      "metadata": {
        "id": "8Sea_9-0T_gp"
      },
      "source": [
        "Fixture (c англ - крепление, зацепка) -- уже подготовленные наборы данных, которые имеют состояние. В данном случае у нас уже есть какие-то данные, которые мы не хотим постоянно собирать (потому что собирать на каждый тест - долго/дорого). Идея: взять и зафиксировать их"
      ]
    },
    {
      "cell_type": "markdown",
      "metadata": {
        "id": "QaoYWpwpT_gp"
      },
      "source": [
        "Fixture != Mock"
      ]
    },
    {
      "cell_type": "markdown",
      "metadata": {
        "id": "fLiwslboT_gp"
      },
      "source": [
        "Рассмотрим типичную ситуацию когда прибегают к мокам:"
      ]
    },
    {
      "cell_type": "markdown",
      "metadata": {
        "id": "tExkpp83T_gp"
      },
      "source": [
        "**Проблема**\n",
        "Есть класс который взаимодействует со внешней системой, количество запросов ограниченно. Нужно уметь тестировать логику в которой фигурирует вызов этой внешней системы независя от реальных вызовов."
      ]
    },
    {
      "cell_type": "code",
      "execution_count": null,
      "metadata": {
        "id": "CPgoPIvVT_gq"
      },
      "outputs": [],
      "source": [
        "class UserService:\n",
        "    def __init__(self, db):\n",
        "        self._db = db\n",
        "\n",
        "    def get_user_status(self, user_id):\n",
        "        user_data = self._db.get_user(user_id)  # представим что реализация и вызов этого метода нет\n",
        "        if user_data.get('active'):\n",
        "            return f\"User {user_id} is active\"\n",
        "        return f\"User {user_id} is deactivated\""
      ]
    },
    {
      "cell_type": "markdown",
      "metadata": {
        "id": "sEMSbyQkT_gq"
      },
      "source": [
        "Для того чтобы протестировать этот функционал приходят на помощь мокирование этого вызова. Мы пропишем в тесте что мы ожидаем от этого вызова и вернем значение:"
      ]
    },
    {
      "cell_type": "code",
      "execution_count": null,
      "metadata": {
        "id": "YXIGDoh3Z7GS"
      },
      "outputs": [],
      "source": [
        "!pip install mock"
      ]
    },
    {
      "cell_type": "code",
      "execution_count": null,
      "metadata": {
        "colab": {
          "base_uri": "https://localhost:8080/"
        },
        "id": "ZclI1NM-T_gq",
        "outputId": "193ec7ca-eab2-4205-aed2-fe72c50b5cbe"
      },
      "outputs": [],
      "source": [
        "%%ipytest -q\n",
        "\n",
        "from mock import Mock\n",
        "\n",
        "@pytest.mark.parametrize(\"user_id, db_response, expected_message\", [\n",
        "    (1, {\"active\": True}, f\"User 1 is active\"),   # Активный пользователь\n",
        "    (2, {\"active\": False}, f\"User 2 is deactivated\"),  # Неактивный пользователь\n",
        "    (3, {}, \"User 3 is deactivated\"),  # Пустые данные пользователя\n",
        "])\n",
        "\n",
        "def test_user_service(user_id, db_response, expected_message):\n",
        "    mock_db = Mock()\n",
        "\n",
        "    mock_db.get_user.return_value = db_response\n",
        "\n",
        "    service = UserService(mock_db)\n",
        "\n",
        "    result = service.get_user_status(user_id)\n",
        "    assert result == expected_message\n",
        "\n",
        "    mock_db.get_user.assert_called_once_with(user_id)"
      ]
    },
    {
      "cell_type": "markdown",
      "metadata": {
        "id": "ewgT4W6_T_gq"
      },
      "source": [
        "Давайте рассмотрим что мы описали тут:\n",
        "\n",
        "* `mock_db = Mock()` -- создали пустой объект мока\n",
        "\n",
        "* `mock_db.get_user.return_value` -- Перегрузка мока. В буквальном смысле: при вызове метода `get` объекта `db` верни ответ `db_response`.\n",
        "\n",
        "Структура записи такова:\n",
        "\n",
        "`<экземпляр класса мока>.<подменяющий вызывающий метод>.return_value = <значение>`\n"
      ]
    },
    {
      "cell_type": "markdown",
      "metadata": {
        "id": "S9hewWvsT_gq"
      },
      "source": [
        "А что если мы хотим проверять вызов ошибки?"
      ]
    },
    {
      "cell_type": "markdown",
      "metadata": {
        "id": "GSgKCLH5T_gq"
      },
      "source": [
        "Давайте добавим в класс обработку ошибок:"
      ]
    },
    {
      "cell_type": "code",
      "execution_count": null,
      "metadata": {
        "id": "lSYG4PeyT_gq"
      },
      "outputs": [],
      "source": [
        "class UserService:\n",
        "    def __init__(self, db):\n",
        "        self._db = db\n",
        "\n",
        "    def get_user_status(self, user_id):\n",
        "        try:\n",
        "            user_data = self._db.get_user(user_id)\n",
        "            if user_data.get('active'):\n",
        "                return f\"User {user_id} is active\"\n",
        "            return f\"User {user_id} is deactivated\"\n",
        "        except Exception as e:\n",
        "            return f\"Error retrieving user {user_id}: {str(e)}\""
      ]
    },
    {
      "cell_type": "markdown",
      "metadata": {
        "id": "yCaQLzJfT_gq"
      },
      "source": [
        "Напишем сценарий в котором при вызове метода будет вызываться ошибка:"
      ]
    },
    {
      "cell_type": "code",
      "execution_count": null,
      "metadata": {
        "colab": {
          "base_uri": "https://localhost:8080/"
        },
        "id": "axgjpYaOT_gq",
        "outputId": "373de962-1357-458b-ef5a-1f8025494195"
      },
      "outputs": [],
      "source": [
        "%%ipytest -q\n",
        "\n",
        "@pytest.mark.parametrize(\"user_id, db_response, expected_message, should_raise\", [\n",
        "    (4, None, \"Error retrieving user 4: Database connection failed\", True),\n",
        "])\n",
        "def test_user_service(user_id, db_response, expected_message, should_raise):\n",
        "    mock_db = Mock()\n",
        "\n",
        "    if should_raise:\n",
        "        mock_db.get_user.side_effect = Exception(\"Database connection failed\")\n",
        "    else:\n",
        "        mock_db.get_user.return_value = db_response\n",
        "\n",
        "    service = UserService(mock_db)\n",
        "    result = service.get_user_status(user_id)\n",
        "    assert result == expected_message\n",
        "    assert mock_db.get_user.call_count == 1"
      ]
    },
    {
      "cell_type": "markdown",
      "metadata": {
        "id": "22gN4HHKT_gq"
      },
      "source": [
        "Все что мы заготавливали мы оставляем все как и есть. Но только заменяем `return_value` на `side_effect` и прописываем какую ошибку мы ждали:\n",
        "\n",
        "Структура записи такова:\n",
        "\n",
        "`<экземпляр класса мока>.<подменяющий вызывающий метод>.side_effect = <значение>`"
      ]
    },
    {
      "cell_type": "markdown",
      "metadata": {
        "id": "pusHisN1T_gq"
      },
      "source": [
        "Наблюдаемая проблема:\n",
        "\n",
        "* У нас появился Boiler Print в тестах от которого нужно избавляться!"
      ]
    },
    {
      "cell_type": "markdown",
      "metadata": {
        "id": "hocj8GyXT_gq"
      },
      "source": [
        "Фикстуры так же могут чистить использованный инвентарь за создаваемым объектом в конце теста и иметь разный scope - например создваться на каждый тест, модуль или тред, запускающий тесты. [Подробнее в документации](https://docs.pytest.org/en/stable/fixture.html).\n",
        "\n",
        "Scopes (скоупы) у фикстур бывают:\n",
        "* function (по умолчанию)\n",
        "* class -- внутри класса\n",
        "* module -- создаваемый внутри модуля"
      ]
    },
    {
      "cell_type": "markdown",
      "metadata": {
        "id": "IEqdo4FCT_gq"
      },
      "source": [
        "Давайте перепишем это в фикстуру!"
      ]
    },
    {
      "cell_type": "code",
      "execution_count": null,
      "metadata": {
        "colab": {
          "base_uri": "https://localhost:8080/"
        },
        "id": "SwjHHtNsT_gq",
        "outputId": "9201feb5-1d45-4424-abc0-20ef6f1bad1b"
      },
      "outputs": [],
      "source": [
        "%%ipytest -q\n",
        "\n",
        "\n",
        "@pytest.fixture(scope='function')\n",
        "def mock_db(request):\n",
        "    mock_db = Mock()\n",
        "\n",
        "    db_response, should_raise = request.param\n",
        "\n",
        "    if should_raise:\n",
        "        mock_db.get_user.side_effect = Exception(\"Database connection failed\")\n",
        "    else:\n",
        "        mock_db.get_user.return_value = db_response\n",
        "\n",
        "    return mock_db\n"
      ]
    },
    {
      "cell_type": "code",
      "execution_count": null,
      "metadata": {
        "colab": {
          "base_uri": "https://localhost:8080/"
        },
        "id": "q-EugYokT_gq",
        "outputId": "3c1c4ea2-6872-4a2f-afbf-fb9351921e45"
      },
      "outputs": [],
      "source": [
        "%%ipytest -q\n",
        "\n",
        "\n",
        "@pytest.mark.parametrize(\"mock_db, user_id, expected_message\", [\n",
        "    (({\"active\": True}, False), 1, \"User 1 is active\"),\n",
        "    (({\"active\": False}, False), 2, \"User 2 is deactivated\"),\n",
        "    (({}, False), 3, \"User 3 is deactivated\"),\n",
        "    ((None, True), 4, \"Error retrieving user 4: Database connection failed\"),\n",
        "], indirect=[\"mock_db\"])\n",
        "def test_user_service(mock_db, user_id, expected_message):\n",
        "    service = UserService(mock_db)\n",
        "\n",
        "    result = service.get_user_status(user_id)\n",
        "\n",
        "    assert result == expected_message\n",
        "\n",
        "    assert mock_db.get_user.call_count == 1"
      ]
    },
    {
      "cell_type": "markdown",
      "metadata": {
        "id": "G0Tw5JdZT_gr"
      },
      "source": [
        "Что мы тут сделали?\n",
        "* создали фикстуру в которой происходит подготовка всего необходимого для возвращения значений\n",
        "* немного поправили входные параметры в нашей параметризации: то есть мы прокинули туда Mock объект и прописали логику при которой будет вызываться новое поведение в `request.params`\n",
        "\n",
        "Такой механизм называется \"непрямая параметризация\" - `indirect parametrization`"
      ]
    },
    {
      "cell_type": "markdown",
      "metadata": {
        "id": "SRVNO7VeT_gr"
      },
      "source": [
        "В `pytest` объект request автоматически передается в фикстуры, когда они вызываются.\n",
        "Например, с его помощью можно получить параметры, переданные в фикстуру, или информацию о тестовой функции, которая используетcя оной.\n",
        "Когда используется параметризация тестов с флагом `indirect`, параметры передаются через фикстуру. Внутри фикстуры они становятся доступными через `request.param`"
      ]
    },
    {
      "cell_type": "markdown",
      "metadata": {
        "id": "MkjHn4QtT_gr"
      },
      "source": [
        "Для БД фикстура может выглядеть примерно так:"
      ]
    },
    {
      "cell_type": "code",
      "execution_count": null,
      "metadata": {
        "colab": {
          "base_uri": "https://localhost:8080/"
        },
        "id": "xId3kTSrT_gr",
        "outputId": "738ab82c-5f7f-4b0f-92bc-28be9554559e"
      },
      "outputs": [],
      "source": [
        "%%ipytest -q\n",
        "\n",
        "class DBConnection:\n",
        "    pass\n",
        "\n",
        "class TestDB:\n",
        "    def init_db(self):\n",
        "        print(\"init db\")\n",
        "\n",
        "    def get_connection(self):\n",
        "        return DBConnection()\n",
        "\n",
        "    def shutdown(self):\n",
        "        print(\"close db\")\n",
        "\n",
        "@pytest.fixture(scope=\"module\")\n",
        "def db_connection():\n",
        "    db = TestDB()\n",
        "    db.init_db()\n",
        "    try:\n",
        "        yield db.get_connection()\n",
        "    finally:\n",
        "        db.shutdown()\n",
        "\n",
        "def test_db_1(db_connection):\n",
        "    assert db_connection\n",
        "\n",
        "def test_db_2(db_connection):\n",
        "    assert db_connection"
      ]
    },
    {
      "cell_type": "markdown",
      "metadata": {
        "id": "2PBSbqT5T_gr"
      },
      "source": [
        "Заключение:\n",
        "\n",
        "* Мок может меняться и быть в тесте, а в свою очередь фикстура имеет свою структуру и не может меняться\n",
        "* Моки легко параметризировать и писать различные тест кейсы на каждый случай\n",
        "* Легко \"вшивать фикстуры в тесты и прокидывать тестовые аргументы в параметры фикстуры тем самым задавая им свое поведение"
      ]
    },
    {
      "cell_type": "markdown",
      "metadata": {
        "id": "Gs2aPevqT_gr"
      },
      "source": [
        "#### Вернемся к решению каты:"
      ]
    },
    {
      "cell_type": "markdown",
      "metadata": {
        "id": "s8K1wvw6T_gr"
      },
      "source": [
        "Тесты нужно рефакторить. В основном главная задача тестов:\n",
        "* проверять код, покрывая все возможные случаи на берегу (чтобы не отправить багу в production и при этом не потерять деньги)\n",
        "* понятность и простота тестов (нельзя долго писать тесты на определенную фичу, это стоит очень дорого и ресурсы не предрасположены чтобы заниматься ими. Помните: тесты хоть и не помогают в зарабатыванию денег, но при этом без них есть шанс потерять много денег)\n",
        "* documentation as a code (когда вы придете работать куда-нибудь, они вам помогут быстрее разобраться в коде, чем вы сами сидели и читали код)"
      ]
    },
    {
      "cell_type": "markdown",
      "metadata": {
        "id": "nBfbmIRFT_gr"
      },
      "source": [
        "**[Первая проблема]**:\n",
        "* Имена тестов не очень информативны. Если упадет тест `test_greater` - будет не совсем понятно что именно тестировалось и что надо чинить. В целом имена тестам надо давать как можно более подробные - тесты вызываются автоматически, автоматике длинна имени безразлична, а вот человеку, читающему выхлоп пайтеста, лучше предоставить как можно больше информации.\n",
        "\n",
        "[Статья на тему](https://enterprisecraftsmanship.com/posts/you-naming-tests-wrong)"
      ]
    },
    {
      "cell_type": "code",
      "execution_count": null,
      "metadata": {
        "colab": {
          "base_uri": "https://localhost:8080/"
        },
        "id": "C4jCFkqyT_gr",
        "outputId": "15ce3159-0284-4f17-eea5-87dfc0ef1f9a"
      },
      "outputs": [],
      "source": [
        "%%ipytest -q\n",
        "\n",
        "@pytest.mark.parametrize(\"name\", [\"Mike\", \"John\", \"Greg\"])\n",
        "def test_greet_returns_name_with_greeting(name):\n",
        "    assert Greeter().greet(name) == \"Hello \" + name\n",
        "\n",
        "\n",
        "@pytest.mark.parametrize(\"name\", [\"Mike\", \" Mike\", \"Mike \", \" Mike \", \"  Mike\", \"  Mike  \"],\n",
        "                         ids=[\"no spaces\", \"left space\", \"right space\",\n",
        "                              \"two-side space\", \"double space\", \"two-sided double space\"])\n",
        "def test_greet_removes_leading_and_trailing_spaces_from_name(name):\n",
        "    greeter = Greeter()\n",
        "    greeted_name = greeter.greet(name).split(\" \", 1)[1]\n",
        "\n",
        "    assert not greeted_name.startswith(\" \") and not greeted_name.endswith(\" \")"
      ]
    },
    {
      "cell_type": "markdown",
      "metadata": {
        "id": "PQVAfaz-T_gr"
      },
      "source": [
        "**[Вторая проблема]**\n",
        "\n",
        "В обоих тестах мы создаем `greeter`. Это привожит к дублированию кода. Кроме того, на практике вместо `greeter` у нас может быть какой-нибудь тяжелый объект типа базы даных или контекста сессии, который надо каждый раз инициализировать и чистить. Решить эти проблемы нам поможет механизм фикстур:"
      ]
    },
    {
      "cell_type": "code",
      "execution_count": null,
      "metadata": {
        "colab": {
          "base_uri": "https://localhost:8080/"
        },
        "id": "eiU4OzgDT_gr",
        "outputId": "54f9a026-5763-4ded-add4-5ef4ff0551a1"
      },
      "outputs": [],
      "source": [
        "%%ipytest -q\n",
        "\n",
        "@pytest.fixture(scope=\"module\")\n",
        "def greeter():\n",
        "    yield Greeter()\n",
        "\n",
        "@pytest.mark.parametrize(\"name\", [\"Mike\", \"John\", \"Greg\"])\n",
        "def test_greet_returns_name_with_greeting(greeter, name):\n",
        "    assert Greeter().greet(name) == \"Hello \" + name\n",
        "\n",
        "\n",
        "@pytest.mark.parametrize(\"name\", [\"Mike\", \" Mike\", \"Mike \", \" Mike \", \"  Mike\", \"  Mike  \"],\n",
        "                         ids=[\"no spaces\", \"left space\", \"right space\",\n",
        "                              \"two-side space\", \"double space\", \"two-sided double space\"])\n",
        "def test_greet_removes_leading_and_trailing_spaces_from_name(greeter, name):\n",
        "    greeted_name = greeter.greet(name).split(\" \", 1)[1]\n",
        "    assert not greeted_name.startswith(\" \") and not greeted_name.endswith(\" \")"
      ]
    },
    {
      "cell_type": "markdown",
      "metadata": {
        "id": "06O3-ulsT_gr"
      },
      "source": [
        "Так же в `pytest` есть разные встроенные фикстуры. [Список лежит здесь](https://docs.pytest.org/en/stable/fixture.html). Наиболее интересные:\n",
        "* monkeypatch - временно можифицирует методы классов, модулей и т.д.\n",
        "* testdir - создает верменную директорию для каждого теста, которую потом чистит"
      ]
    },
    {
      "cell_type": "markdown",
      "metadata": {
        "id": "1qa49ByLT_gr"
      },
      "source": [
        "## Тестирование исключений, патчинг и работа с тестами где фигурируют флоты"
      ]
    },
    {
      "cell_type": "markdown",
      "metadata": {
        "id": "teftPzR1cJ8N"
      },
      "source": [
        "Возвращаемся к катам. Третья часть:\n",
        "\n",
        "- Метод `greet` должен возвращать ошибку если имя - пустая строка (или строка с пробелами)"
      ]
    },
    {
      "cell_type": "markdown",
      "metadata": {
        "id": "sZHnPXY8T_gr"
      },
      "source": [
        "Проблема: мы должны тестировать исключение, но при этом мы не должны его ловить стандартным try-catch в тесте а просто создать среду в котором будет **ожидаться** падение теста. Для этого необходимо это создать в тесте. На помощь приходит ```pytest.raises``` (который ожидает, что БУДЕТ ошибка)"
      ]
    },
    {
      "cell_type": "code",
      "execution_count": null,
      "metadata": {
        "colab": {
          "base_uri": "https://localhost:8080/"
        },
        "id": "QAnfzBx1T_gs",
        "outputId": "de2e70ce-2024-41ea-e268-9680c948cedf"
      },
      "outputs": [],
      "source": [
        "%%ipytest -q\n",
        "\n",
        "@pytest.fixture(scope=\"module\")\n",
        "def greeter():\n",
        "    yield Greeter()\n",
        "\n",
        "def test_greet_raises_value_error_on_empty_string(greeter):\n",
        "    with pytest.raises(Exception): # (*)\n",
        "        greeter.greet(\"\")\n",
        "\n",
        "# (*) обычно вы тут ждать определенную ошибку которую вы сами создали, к примеру вы написали класс ошибки которым отнаследовались от базового класса Exception"
      ]
    },
    {
      "cell_type": "markdown",
      "metadata": {
        "id": "EeH-K3PsT_gs"
      },
      "source": [
        "По тексту отчета видим, что тест ожидал исключения, но его не было. Починим тест:"
      ]
    },
    {
      "cell_type": "code",
      "execution_count": null,
      "metadata": {
        "id": "51dqu9SmT_gs"
      },
      "outputs": [],
      "source": [
        "class Greeter:\n",
        "    def greet(self, name):\n",
        "        name = name.strip()\n",
        "        if not name:\n",
        "            raise ValueError(\"Empty name!\")\n",
        "        return \"Hello \" + name"
      ]
    },
    {
      "cell_type": "markdown",
      "metadata": {
        "id": "qhTO6c0gco3D"
      },
      "source": [
        "И дополнительно параметризуем:"
      ]
    },
    {
      "cell_type": "code",
      "execution_count": null,
      "metadata": {
        "colab": {
          "base_uri": "https://localhost:8080/"
        },
        "id": "wY3lGILyT_gs",
        "outputId": "72ad9b24-99bc-40dc-e800-1b692e247c89"
      },
      "outputs": [],
      "source": [
        "%%ipytest -q\n",
        "\n",
        "@pytest.fixture(scope=\"module\")\n",
        "def greeter():\n",
        "    yield Greeter()\n",
        "\n",
        "@pytest.mark.parametrize(\"name\", [\"Mike\", \"John\", \"Greg\"])\n",
        "def test_greet_returns_name_with_greeting(greeter, name):\n",
        "    assert Greeter().greet(name) == \"Hello \" + name\n",
        "\n",
        "\n",
        "@pytest.mark.parametrize(\"name\", [\"Mike\", \" Mike\", \"Mike \", \" Mike \", \"  Mike\", \"  Mike  \"],\n",
        "                         ids=[\"no spaces\", \"left space\", \"right space\",\n",
        "                              \"two-side space\", \"double space\", \"two-sided double space\"])\n",
        "def test_greet_removes_leading_and_trailing_spaces_from_name(greeter, name):\n",
        "    greeted_name = greeter.greet(name).split(\" \", 1)[1]\n",
        "    assert not greeted_name.startswith(\" \") and not greeted_name.endswith(\" \")\n",
        "\n",
        "@pytest.mark.parametrize(\"name\", [\"\", \"   \", \"  \", \" \"])\n",
        "def test_greet_raises_value_error_on_empty_string(greeter, name):\n",
        "    with pytest.raises(ValueError):\n",
        "        greeter.greet(name)"
      ]
    },
    {
      "cell_type": "markdown",
      "metadata": {
        "id": "9G6zGcXQcs-o"
      },
      "source": [
        "Ура, осталась последняя ката:\n",
        "\n",
        "- Метод `greet` возвращает \"Good evening <имя>\" если текущее время - 18:00-22:59"
      ]
    },
    {
      "cell_type": "markdown",
      "metadata": {
        "id": "r5wk5mltT_gs"
      },
      "source": [
        " ## Работа с тестами при участии времени"
      ]
    },
    {
      "cell_type": "markdown",
      "metadata": {
        "id": "O0y03Q06dI8d"
      },
      "source": [
        "Пишем тест:"
      ]
    },
    {
      "cell_type": "code",
      "execution_count": null,
      "metadata": {
        "colab": {
          "base_uri": "https://localhost:8080/"
        },
        "id": "HxXELQCRdG5D",
        "outputId": "596b443b-5121-4b43-8e91-86a940dad270"
      },
      "outputs": [],
      "source": [
        "%%ipytest -q\n",
        "\n",
        "import datetime\n",
        "\n",
        "@pytest.fixture(scope=\"module\")\n",
        "def greeter():\n",
        "    yield Greeter()\n",
        "\n",
        "def test_greeting_is_good_evening_in_evening(monkeypatch, greeter):\n",
        "    fake_time =  datetime.datetime(2020, 11, 10, 19)\n",
        "    class mydatetime:\n",
        "        @classmethod\n",
        "        def now(cls):\n",
        "            return fake_time\n",
        "\n",
        "    monkeypatch.setattr(datetime, 'datetime', mydatetime)\n",
        "    assert greeter.greet(\"Mike\").startswith(\"Good evening\")"
      ]
    },
    {
      "cell_type": "markdown",
      "metadata": {
        "id": "W8vRbCOPdZ30"
      },
      "source": [
        "Изменим код, и разберем тест выше:"
      ]
    },
    {
      "cell_type": "code",
      "execution_count": null,
      "metadata": {
        "id": "C9eD9iEyT_gs"
      },
      "outputs": [],
      "source": [
        "import datetime\n",
        "\n",
        "class Greeter:\n",
        "    def greet(self, name):\n",
        "        name = name.strip()\n",
        "        if not name:\n",
        "            raise ValueError(\"Empty name!\")\n",
        "        hour = datetime.datetime.now().hour\n",
        "        if 18 <= hour <= 22:\n",
        "            return \"Good evening \" + name\n",
        "        return \"Hello \" + name"
      ]
    },
    {
      "cell_type": "markdown",
      "metadata": {
        "id": "n8MgaC5FT_gs"
      },
      "source": [
        "Посмотрим, что со старыми тестами (они не будут падать, но как будто что-то не то)"
      ]
    },
    {
      "cell_type": "code",
      "execution_count": null,
      "metadata": {
        "colab": {
          "base_uri": "https://localhost:8080/"
        },
        "id": "PLY4F9z8T_gs",
        "outputId": "4a758b32-f1a4-44cc-b5ca-0f8883863aaa"
      },
      "outputs": [],
      "source": [
        "%%ipytest -q\n",
        "\n",
        "@pytest.fixture(scope=\"module\")\n",
        "def greeter():\n",
        "    yield Greeter()\n",
        "\n",
        "@pytest.mark.parametrize(\"name\", [\"Mike\", \"John\", \"Greg\"])\n",
        "def test_greet_returns_name_with_greeting(greeter, name):\n",
        "    assert Greeter().greet(name) == \"Hello \" + name\n",
        "\n",
        "\n",
        "@pytest.mark.parametrize(\"name\", [\"Mike\", \" Mike\", \"Mike \", \" Mike \", \"  Mike\", \"  Mike  \"],\n",
        "                         ids=[\"no spaces\", \"left space\", \"right space\",\n",
        "                              \"two-side space\", \"double space\", \"two-sided double space\"])\n",
        "def test_greet_removes_leading_and_trailing_spaces_from_name(greeter, name):\n",
        "    greeted_name = greeter.greet(name).split(\" \", 1)[1]\n",
        "    assert not greeted_name.startswith(\" \") and not greeted_name.endswith(\" \")\n",
        "\n",
        "@pytest.mark.parametrize(\"name\", [\"\", \"   \", \"  \", \" \"])\n",
        "def test_greet_raises_value_error_on_empty_string(greeter, name):\n",
        "    with pytest.raises(ValueError):\n",
        "        greeter.greet(name)"
      ]
    },
    {
      "cell_type": "markdown",
      "metadata": {
        "id": "F8JLAnDQT_gs"
      },
      "source": [
        "Будет падать, потому что время текущее не матчится. Зададим дефолтное время."
      ]
    },
    {
      "cell_type": "code",
      "execution_count": null,
      "metadata": {
        "colab": {
          "base_uri": "https://localhost:8080/"
        },
        "id": "hTLTElK0T_gs",
        "outputId": "06f3eca1-705c-45a7-83a9-5111ca8343af"
      },
      "outputs": [],
      "source": [
        "%%ipytest -q\n",
        "import datetime\n",
        "\n",
        "\n",
        "@pytest.fixture(scope=\"function\")\n",
        "def set_time(monkeypatch):\n",
        "    def set_time_(time):\n",
        "        class mydatetime:\n",
        "            @classmethod\n",
        "            def now(cls):\n",
        "                return time\n",
        "\n",
        "        monkeypatch.setattr(datetime, 'datetime', mydatetime)\n",
        "    yield set_time_\n",
        "\n",
        "\n",
        "@pytest.fixture(scope=\"function\")\n",
        "def set_day_time(set_time):\n",
        "    yield set_time(datetime.datetime(2020, 10, 10, 10))\n",
        "\n",
        "\n",
        "@pytest.mark.parametrize(\"name\", [\"Mike\", \"John\", \"Greg\"])\n",
        "def test_greet_returns_name_with_greeting(set_day_time, greeter, name):\n",
        "    assert Greeter().greet(name) == \"Hello \" + name\n",
        "\n",
        "\n",
        "@pytest.mark.parametrize(\"name\", [\"Mike\", \" Mike\", \"Mike \", \" Mike \", \"  Mike\", \"  Mike  \"],\n",
        "                         ids=[\"no spaces\", \"left space\", \"right space\",\n",
        "                              \"two-side space\", \"double space\", \"two-sided double space\"])\n",
        "def test_greet_removes_leading_and_trailing_spaces_from_name(set_day_time, greeter, name):\n",
        "    greeted_name = greeter.greet(name).split(\" \", 1)[1]\n",
        "    assert not greeted_name.startswith(\" \") and not greeted_name.endswith(\" \")\n",
        "\n",
        "\n",
        "def test_greeting_is_good_evening_in_evening(set_time, monkeypatch, greeter):\n",
        "    set_time(datetime.datetime(2020, 11, 10, 19))\n",
        "    assert greeter.greet(\"Mike\").startswith(\"Good evening\")"
      ]
    },
    {
      "cell_type": "markdown",
      "metadata": {
        "id": "16V3MjJuemoI"
      },
      "source": [
        "Ну вроде все, у нас все удалось, поздравляю!"
      ]
    },
    {
      "cell_type": "markdown",
      "metadata": {
        "id": "A30PpPoIT_gs"
      },
      "source": [
        "## Работа с плавающей точкой"
      ]
    },
    {
      "cell_type": "markdown",
      "metadata": {
        "id": "XR2AWUjaT_gs"
      },
      "source": [
        "Сравнение `float` сталось за кадром - разберем его отдельно.\n",
        " Из-за ошибок округления `float` трудно сравнивать через `==`"
      ]
    },
    {
      "cell_type": "code",
      "execution_count": null,
      "metadata": {
        "colab": {
          "base_uri": "https://localhost:8080/"
        },
        "id": "XAuVo3DmT_gs",
        "outputId": "c19b85c7-2408-4809-e35d-c0ddae4a93b4"
      },
      "outputs": [],
      "source": [
        "%%ipytest -q\n",
        "def test_float():\n",
        "    assert 0.1 + 0.2 == 0.3"
      ]
    },
    {
      "cell_type": "markdown",
      "metadata": {
        "id": "uagSvK3PT_gs"
      },
      "source": [
        "На помощь приходит API pytest'а заиспользуем `pytest.approx`"
      ]
    },
    {
      "cell_type": "code",
      "execution_count": null,
      "metadata": {
        "colab": {
          "base_uri": "https://localhost:8080/"
        },
        "id": "4mUqq8g_T_gs",
        "outputId": "c6f0c803-2bec-4d57-954f-1c097b7d8a63"
      },
      "outputs": [],
      "source": [
        "%%ipytest -q\n",
        "def test_float():\n",
        "    assert [0.1 + 0.2, 0.5] == pytest.approx([0.3, 0.5])"
      ]
    },
    {
      "cell_type": "markdown",
      "metadata": {
        "id": "iEIZLjBn7VZc"
      },
      "source": [
        "## Попугай дня"
      ]
    },
    {
      "cell_type": "markdown",
      "metadata": {
        "id": "drlXbB4w_RnG"
      },
      "source": [
        "![](https://do-slez.com/uploads/posts/2020-02/1582813051_pesquets-dracula-parrots-birds-new-guinea-1-5e55392f17e1e__700.jpg)"
      ]
    },
    {
      "cell_type": "markdown",
      "metadata": {
        "id": "6z3hTgu9_Xk9"
      },
      "source": [
        "Сегодня у нас очень красивый орлиный попугай (орлиный за счет его клюва) и сходит в семейство щетиноголовых попугаев (видите какая щетина у него прям)"
      ]
    },
    {
      "cell_type": "markdown",
      "metadata": {
        "id": "BgnEsrFe_mGd"
      },
      "source": [
        "![](https://img.theepochtimes.com/assets/uploads/2020/05/14/Dracula-Parrot-i.jpg)"
      ]
    },
    {
      "cell_type": "markdown",
      "metadata": {
        "id": "GW5PDacP_yNY"
      },
      "source": [
        "Исторически живет в Новой Гвинее и его очень редко можно встретить в зоопарках из-за очень прихотливого питания (им обязательно нужны тропические фрукты для ферментации) и требований к содержанию (температура, влажность)\n",
        "\n",
        "Еще один, к сожалению, вымирающий вид, потому что на них охотятся индейцы за их красные перья (хоть и достаточно распространен в авикультуре, но выращивать его очень сложно)."
      ]
    }
  ],
  "metadata": {
    "colab": {
      "collapsed_sections": [
        "F6MGlt7Dpmwc",
        "VH0iUX-XQiv0",
        "-iCtqEWj5D1j"
      ],
      "provenance": []
    },
    "kernelspec": {
      "display_name": "Python 3",
      "name": "python3"
    },
    "language_info": {
      "name": "python"
    }
  },
  "nbformat": 4,
  "nbformat_minor": 0
}
