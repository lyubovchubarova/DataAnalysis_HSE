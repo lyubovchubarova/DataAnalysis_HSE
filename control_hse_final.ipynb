{
 "cells": [
  {
   "cell_type": "markdown",
   "metadata": {},
   "source": [
    "## Контрольная работа по курсу углубленного питона и анализа данных\n",
    "\n",
    "Правила:\n",
    "- код выполняем в этом ноутбуке\n",
    "- можно пользоваться документацией библиотек и конспектами курса\n",
    "- домашками пользоваться нельзя, так как вам нужно будет потратить довольно много времени, чтобы зайти в свой репозиторий\n",
    "- называем файл контрольной в формате Фамилия_Имя_DAfinal.ipynb и сдаем [в эту форму](https://forms.gle/RaYEAdwFHP4pFsw29), прием ответов закрывается в 13:50\n",
    "\n",
    "Ссылки, которые скорее всего будут вам полезны\n",
    "\n",
    "- [репозиторий курса](https://github.com/lyubovchubarova/DataAnalysis_HSE)\n",
    "- [документация requests](https://requests.readthedocs.io/en/latest/index.html)\n",
    "- [документация pandas](https://pandas.pydata.org/docs/reference/index.html)\n",
    "- [документация matplotlib](https://matplotlib.org/stable/gallery/index.html)\n",
    "- [документация seaborn](https://seaborn.pydata.org)\n",
    "- [переводчик](https://translate.yandex.ru), чтобы переводить непонятные места из документации и смотреть на ошибки =)"
   ]
  },
  {
   "cell_type": "markdown",
   "metadata": {},
   "source": [
    "Скоро Новый год, поэтому будем смотреть на датасет с ЕДОЙ!"
   ]
  },
  {
   "cell_type": "markdown",
   "metadata": {},
   "source": [
    "### Задание 0\n",
    "\n",
    "Вписать в эту ячейку свои фамилию и имя\n",
    "\n",
    "Фамилия Имя:"
   ]
  },
  {
   "cell_type": "markdown",
   "metadata": {},
   "source": [
    "### Задание 1 (2 балла)\n",
    "\n",
    "Есть [открытая база данных с рецептами блюд](https://www.themealdb.com/api.php) с открытым API.\n",
    "Прочитайте документацию и спарсите оттуда все рецепты. Ответ приходит в формате json. Чтобы смотреть, как долго займет парсинг, воспользуйтесь библиотекой tqdm\n",
    "\n",
    "**NB!** Не забудьте обработать ошибки парсинга, не на все ваши запросы найдутся рецепты"
   ]
  },
  {
   "cell_type": "code",
   "execution_count": null,
   "metadata": {},
   "outputs": [],
   "source": [
    "### вот пример, как можно парсить все рецепты на букву а\n",
    "# data = requests.get(f\"https://themealdb.com/api/json/v1/1/search.php?f=a\")\n",
    "\n",
    "### ВАШ КОД ЗДЕСЬ"
   ]
  },
  {
   "cell_type": "markdown",
   "metadata": {},
   "source": [
    "Сколько всего рецептов у вас получилось спарсить?"
   ]
  },
  {
   "cell_type": "code",
   "execution_count": null,
   "metadata": {},
   "outputs": [],
   "source": [
    "### ВАШ КОД ЗДЕСЬ"
   ]
  },
  {
   "cell_type": "markdown",
   "metadata": {},
   "source": [
    "### Задание 2 (2 балла)\n",
    "\n",
    "Преобразуйте данные в пандас датафрейм, выведите первые 5 строк"
   ]
  },
  {
   "cell_type": "code",
   "execution_count": null,
   "metadata": {},
   "outputs": [],
   "source": [
    "### ВАШ КОД ЗДЕСЬ"
   ]
  },
  {
   "cell_type": "markdown",
   "metadata": {},
   "source": [
    "Есть ли там ненужные колонки? Например, которые состоят только из None, нулей и прочих пустых значений?\n",
    "\n",
    "\n",
    "Выведите их названия"
   ]
  },
  {
   "cell_type": "code",
   "execution_count": null,
   "metadata": {},
   "outputs": [],
   "source": [
    "### ВАШ КОД ЗДЕСЬ"
   ]
  },
  {
   "cell_type": "markdown",
   "metadata": {},
   "source": [
    "Удалите эти колонки"
   ]
  },
  {
   "cell_type": "code",
   "execution_count": null,
   "metadata": {},
   "outputs": [],
   "source": [
    "### ВАШ КОД ЗДЕСЬ"
   ]
  },
  {
   "cell_type": "markdown",
   "metadata": {},
   "source": [
    "А что обозначают оставшиеся колонки?"
   ]
  },
  {
   "cell_type": "code",
   "execution_count": null,
   "metadata": {},
   "outputs": [],
   "source": [
    "### ВАШЕ ОБЪЯСНЕНИЕ ЗДЕСЬ"
   ]
  },
  {
   "cell_type": "markdown",
   "metadata": {},
   "source": [
    "### Задание 3 (2 балла)"
   ]
  },
  {
   "cell_type": "markdown",
   "metadata": {},
   "source": [
    "Я ненавижу готовить и обожаю смотреть видео на Ютубе. Но для новогоднего стола придется напрячься. Давайте совместим приятное с неприятным и будем готовить только по рецептам на Ютубе.\n",
    "\n",
    "Выведите датафрейм с рецептами, для которых есть ссылка на Ютуб"
   ]
  },
  {
   "cell_type": "code",
   "execution_count": null,
   "metadata": {},
   "outputs": [],
   "source": [
    "### ВАШ КОД ЗДЕСЬ"
   ]
  },
  {
   "cell_type": "markdown",
   "metadata": {},
   "source": [
    "Все ли ссылки на Ютуб уникальны в датафрейме?"
   ]
  },
  {
   "cell_type": "code",
   "execution_count": null,
   "metadata": {},
   "outputs": [],
   "source": [
    "### ВАШ КОД ЗДЕСЬ"
   ]
  },
  {
   "cell_type": "markdown",
   "metadata": {},
   "source": [
    "Объясните то, что вы увидели"
   ]
  },
  {
   "cell_type": "code",
   "execution_count": null,
   "metadata": {},
   "outputs": [],
   "source": [
    "### ВАШ КОД ЗДЕСЬ"
   ]
  },
  {
   "cell_type": "markdown",
   "metadata": {},
   "source": [
    "Предположим, что каждый ингредиент добавляет 5 минут к общему времени приготовления. Добавьте столбец со временем приготовления в DataFrame."
   ]
  },
  {
   "cell_type": "code",
   "execution_count": null,
   "metadata": {},
   "outputs": [],
   "source": [
    "### ВАШ КОД ЗДЕСЬ"
   ]
  },
  {
   "cell_type": "markdown",
   "metadata": {},
   "source": [
    "Какое (какие) блюда готовить дольше всего? Какие меньше всего?"
   ]
  },
  {
   "cell_type": "code",
   "execution_count": null,
   "metadata": {},
   "outputs": [],
   "source": [
    "### ВАШ КОД ЗДЕСЬ"
   ]
  },
  {
   "cell_type": "markdown",
   "metadata": {},
   "source": [
    "Подсчитайте, сколько раз каждый ингредиент упоминается в рецептах, и выведите топ-10 самых популярных ингредиентов"
   ]
  },
  {
   "cell_type": "code",
   "execution_count": null,
   "metadata": {},
   "outputs": [],
   "source": [
    "### ВАШ КОД ЗДЕСЬ"
   ]
  },
  {
   "cell_type": "markdown",
   "metadata": {},
   "source": [
    "У меня есть курица (Chicken, Chicken Breast) и картошка (Potatoes).\n",
    "Какие блюда я смогу приготовить и что для них нужно будет докупить?"
   ]
  },
  {
   "cell_type": "code",
   "execution_count": null,
   "metadata": {},
   "outputs": [],
   "source": [
    "### ВАШ КОД ЗДЕСЬ"
   ]
  },
  {
   "cell_type": "markdown",
   "metadata": {},
   "source": [
    "### Задание 4 (2 балла)"
   ]
  },
  {
   "cell_type": "markdown",
   "metadata": {},
   "source": [
    "Постройте столбчатую диаграмму через matplotlib, показывающую распределение блюд по кухням"
   ]
  },
  {
   "cell_type": "code",
   "execution_count": null,
   "metadata": {},
   "outputs": [],
   "source": [
    "### ВАШ КОД ЗДЕСЬ"
   ]
  },
  {
   "cell_type": "markdown",
   "metadata": {},
   "source": [
    "Создайте составную столбчатую диаграмму, чтобы сравнить количество блюд по категориям (strCategory) для каждой кухни (strArea)\n",
    "\n",
    "\n",
    "Подсказка: используйте параметр stacked"
   ]
  },
  {
   "cell_type": "code",
   "execution_count": null,
   "metadata": {},
   "outputs": [],
   "source": [
    "### ВАШ КОД ЗДЕСЬ"
   ]
  },
  {
   "cell_type": "markdown",
   "metadata": {},
   "source": [
    "Создайте диаграмму рассеяния, отображающую зависимость между количеством ингредиентов и длиной инструкции к рецепту, чтобы выяснить, существует ли корреляция между этими параметрами. Используйте seaborn. Возможно, вам понадобится добавить в датафрейм какие-то колонки"
   ]
  },
  {
   "cell_type": "code",
   "execution_count": null,
   "metadata": {},
   "outputs": [],
   "source": [
    "### ВАШ КОД ЗДЕСЬ"
   ]
  },
  {
   "cell_type": "markdown",
   "metadata": {},
   "source": [
    "### Задание 5 (2 балла)"
   ]
  },
  {
   "cell_type": "markdown",
   "metadata": {},
   "source": [
    "Создайте класс `Recipe`, который будет представлять отдельный рецепт из вашего DataFrame. Класс должен включать методы для инициализации, отображения информации о рецепте, а также обработки возможных ошибок, таких как отсутствие критически важных данных о рецепте (например, отсутствующий `idMeal` или `strMeal`)\n",
    "\n",
    "#### Шаги выполнения:\n",
    "\n",
    "1. Создание класса Recipe:\n",
    "   - Атрибуты: idMeal, strMeal, strCategory, strArea, ingredients.\n",
    "   - Метод init: инициализирует объект и проверяет наличие обязательных полей.\n",
    "   - Метод display: выводит информацию о рецепте.\n",
    "   - Метод get_ingredient_list: возвращает список всех ингредиентов.\n",
    "\n",
    "2. Обработка исключений:\n",
    "   - Если одно из обязательных полей отсутствует, выбрасывается кастомное исключение с соответствующим сообщением, придумайте названия исключений сами\n",
    "\n",
    "3. Приведите пример использования класса:\n",
    "   - Создайте объекты Recipe на основе данных из DataFrame. Обработайте возможные исключения и выведите информацию о каждом созданном объекте.\n"
   ]
  },
  {
   "cell_type": "code",
   "execution_count": null,
   "metadata": {},
   "outputs": [],
   "source": [
    "### ВАШ КОД ЗДЕСЬ"
   ]
  }
 ],
 "metadata": {
  "kernelspec": {
   "display_name": "base",
   "language": "python",
   "name": "python3"
  },
  "language_info": {
   "codemirror_mode": {
    "name": "ipython",
    "version": 3
   },
   "file_extension": ".py",
   "mimetype": "text/x-python",
   "name": "python",
   "nbconvert_exporter": "python",
   "pygments_lexer": "ipython3",
   "version": "3.11.5"
  },
  "orig_nbformat": 4
 },
 "nbformat": 4,
 "nbformat_minor": 2
}
