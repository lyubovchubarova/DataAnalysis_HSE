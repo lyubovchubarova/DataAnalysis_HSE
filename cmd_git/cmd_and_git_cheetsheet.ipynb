{
 "cells": [
  {
   "cell_type": "markdown",
   "metadata": {},
   "source": [
    "# cmd and git cheetsheet"
   ]
  },
  {
   "cell_type": "markdown",
   "metadata": {},
   "source": [
    "**Командная строка** - это такое окошко, куда можно вписать команду, и компьютер ее выполнит. На Windows она называется cmd, на Linux - Terminal. В командной строке вы увидите свое текущее местоположение (например, `ancatmara@INGEN C:\\Users\\ancatmara`), а на следующей строке - особый символ, который означает, что можно вводить команду. На Windows это **>**, а на Linux - **$**. \n",
    "\n",
    "Стандартный терминал cmd на Windows очень неудобный, так что можно выбрать и установить альтернативный вариант, [прочитав вот эту статью](https://habrahabr.ru/post/164687/)."
   ]
  },
  {
   "cell_type": "markdown",
   "metadata": {},
   "source": [
    "## Самые главные команды в командной строке Windows и Linux"
   ]
  },
  {
   "cell_type": "markdown",
   "metadata": {},
   "source": [
    "|  Значение      | Windows        | Linux / MacOS |\n",
    "| ------------- |-------------:| -----:|\n",
    "| Переход в другую директорию     | cd | cd |\n",
    "| Создание файла    | copy con     | touch|\n",
    "| Создание папки | mkdir  |  mkdir |\n",
    "| Удаление файла | del, erase | rm; rm -rf -- удалить папку и все файлы в ней |\n",
    "| Удаление папки    | rmdir      |   rmdir |\n",
    "| Вывод на экран сообщения | echo   |  echo |\n",
    "| Вывод на экран содержимого файла | type  | cat|\n",
    "| Копирование файлов     | copy, xcopy | cp |\n",
    "| Переименование файлов   | ren, rename      |  mv |\n",
    "| Перемещение файлов   | move  |  mv |\n",
    "| Поиск файлов | where     |   find, locate |\n",
    "| Вывод списка файлов и каталогов| dir |  ls, dir |\n",
    "| Помощь |   help  |  apropos, man, whatis  |"
   ]
  },
  {
   "cell_type": "markdown",
   "metadata": {},
   "source": [
    "**Циркумфлекс** (вот этот знак \"^\") означает нажатие клавиши с Ctrl (^C = Ctrl + C).\n",
    "\n",
    "^C — Прерывает команду.\n",
    "\n",
    "^S — Приостанавливает выполнение команды, а потом запускает.\n",
    "\n",
    "^I — Аналог Tab, перебирает папки и файлы.\n",
    "\n",
    "^M — Аналог Enter.\n",
    "\n",
    "^H — Аналог Backspace."
   ]
  },
  {
   "cell_type": "markdown",
   "metadata": {},
   "source": [
    "## Работа с Python"
   ]
  },
  {
   "cell_type": "markdown",
   "metadata": {},
   "source": [
    "|Команда| Значение|\n",
    "|-------| -------:|\n",
    "|python| Запустить питон в терминале |\n",
    "|python --version| Посмотреть версию питона|\n",
    "|pip freeze| Посмотреть список установленных пакетов|\n",
    "|pip install| Установить пакет|\n",
    "|pip uninstall| Удалить пакет|\n",
    "|pip show| Показать информацию о конкретном пакете|\n",
    "|pip search| Найти пакет (если вы хотите установить что-то новое, но точно не помните название)|\n",
    "\n",
    "Подробнее про работу с pip можно почитать [на официальном сайте с документацией](https://pip.pypa.io/en/stable/).\n",
    "\n",
    "Если у вас установлена Анаконда, то вы можете пользоваться аналогом pip, который называется conda. Для него есть свой собсвенный [cheatsheet](https://conda.io/docs/_downloads/conda-cheatsheet.pdf) и [сайт с документацией](https://conda.io/docs/index.html).\n"
   ]
  },
  {
   "cell_type": "markdown",
   "metadata": {},
   "source": [
    "## Работа с Git"
   ]
  },
  {
   "cell_type": "markdown",
   "metadata": {},
   "source": [
    "### Сначала нужно установить git по [этой ссылке](https://git-scm.com/download/)\n",
    "\n",
    "### Как настроить авторизацию в git?\n",
    "\n",
    "После установки git необходимо его настроить, это делается с помощью двух команд:\n",
    "\n",
    "`git config --global user.name \"ваш логин на github\"`\n",
    "\n",
    "`git config --global user.email \"почту, которую указали при регистрации на GitHub.com\"`\n",
    "\n",
    "Теперь вы можете выполнять через командную строку следующие команды. Здесь перечислены только самые часто употребляемые команды:\n",
    "\n",
    "|Команда| Значение|\n",
    "|-------| -------:|\n",
    "|git clone| Склонировать репозиторий по указанной ссылке|\n",
    "|git pull| Скачать изменения из удаленного репозитория|\n",
    "|git init| Создать репозиторий |\n",
    "|git status| Посмотреть статус изменений|\n",
    "|git add| Добавить указанные файлы в список отслеживаемых|\n",
    "|git add \\*| Добавить все файлы|\n",
    "|git rm| Удалить файлы|\n",
    "|git commit -m| Закоммитить изменения; после -m в кавычках пишется сообщение о том, что изменено|\n",
    "|git push| Отправить изменения в удаленный репозиторий|\n",
    "|git log| Посмотреть журнал действий|\n",
    "\n",
    "Более продвинутые вещи -- например, как исправлять ошибки или как работать с разными ветками -- можно почитать в [пошаговом тьюториале](https://git-scm.com/book/en/v1/Git-Basics-Undoing-Things) на официальном сайте."
   ]
  },
  {
   "cell_type": "markdown",
   "metadata": {},
   "source": [
    "Еще полезные сайты про гит:\n",
    "\n",
    "HOWTO: https://githowto.com/setup\n",
    "Тренажер на русском: https://torekhe.github.io"
   ]
  },
  {
   "cell_type": "markdown",
   "metadata": {},
   "source": [
    "### Vim\n",
    "\n",
    "В некоторых случаях -- например, если напишете просто `git commit`, а не `git commit -m`, вы попадете в страшное место под названием `vim`, из которого очень сложно выбраться. Да-да, один из самых популярных запросов на Stackoverflow -- [\"How to exit the Vim editor\"](https://stackoverflow.com/questions/11828270/how-to-exit-the-vim-editor). \n",
    "\n",
    "<img src =\"https://raw.githubusercontent.com/thepracticaldev/orly-full-res/master/memorizingsixgitcommands-big.png\" width=\"400px\"> <img src=\"https://zgab33vy595fw5zq-zippykid.netdna-ssl.com/wp-content/uploads/2017/05/practicaldev-1-457x600.jpg\" width=\"400\">\n",
    "\n",
    "![](https://zgab33vy595fw5zq-zippykid.netdna-ssl.com/wp-content/uploads/2017/05/meme.jpeg)\n",
    "\n",
    "Vim -- это текстовый редактор внутри командной строки. При попадании в него вы увидите пустой файл или файл, где строки начинаются с #. Нажатие на i (язык раскаладки клавиатуры имеет значение) переводит в режим редактирования (внизу появилось --INSERT--), теперь вы можете написать подпись, когда закончили писать, нажимайте клавишу Esc [полное название - Escape] (--INSERT-- пропадет), теперь надо написать :wq (w - write, q - quit, эти три символа должны отобращзиться там же, где было --INSERT--) и нажать Enter. Поздравляю, вы выбрались из тюрьмы! (:w - сохраняет файл, но не выходит из редактора; :q - выходит из файла, если он не изменился с последнего сохранения; :q! - отменить изменения после последнего сохранения;` [http://vim.wikia.com/wiki/Undo_and_Redo](http://vim.wikia.com/wiki/Undo_and_Redo/) `)` \n",
    "\n",
    "![](https://i.imgflip.com/1pw00c.jpg)"
   ]
  }
 ],
 "metadata": {
  "kernelspec": {
   "display_name": "Python 3",
   "language": "python",
   "name": "python3"
  },
  "language_info": {
   "codemirror_mode": {
    "name": "ipython",
    "version": 3
   },
   "file_extension": ".py",
   "mimetype": "text/x-python",
   "name": "python",
   "nbconvert_exporter": "python",
   "pygments_lexer": "ipython3",
   "version": "3.7.1"
  }
 },
 "nbformat": 4,
 "nbformat_minor": 2
}
