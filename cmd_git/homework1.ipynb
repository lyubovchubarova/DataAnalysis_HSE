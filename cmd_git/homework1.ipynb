{
 "cells": [
  {
   "cell_type": "markdown",
   "metadata": {},
   "source": [
    "Вам нужно\n",
    "\n",
    "1) Сделать себе репозиторий для домашнего задания на гитхабе, и сделать его приватным (синий радиобаттон на Private при создании)\n",
    "![вот так](private.png)\n",
    "2) Добавить профили lyubovchubarova в collaborators\n",
    "\n",
    "3) Установить git\n",
    "\n",
    "4) Склонировать репозиторий для домашек к себе на компьютер\n",
    "\n",
    "5) Первым коммитом закоммитить в репозиторий скриншот из командной строки, который подтверждает, что у вас установлен jupyter notebook. Про формат jupyter и как его установить можно [почитать здесь](https://practicum.yandex.ru/blog/chto-takoe-jupyter-notebook/), это такая среда для представления кода. Эта домашка тоже сделана в jupyter ноутбуке =)\n",
    "\n",
    "6) Вторым коммитом закоммитить jupyter-тетрадь, в которой вы\n",
    "\n",
    "   - проверяете свое текущее расположение в файловой системе\n",
    "   - идете на 1 уровень вверх\n",
    "   - создаете там папку\n",
    "   - проверяете, что папка создана\n",
    "   - удаляете папку\n",
    "   - проверяете что папка удалилась\n",
    "  NB! погуглите, как выполнять команды в командной строке из jupyter \n",
    "\n",
    "\n",
    "**Дедлайн 21 сентября в 23:59**"
   ]
  },
  {
   "cell_type": "markdown",
   "metadata": {},
   "source": []
  }
 ],
 "metadata": {
  "kernelspec": {
   "display_name": "Python 3",
   "language": "python",
   "name": "python3"
  },
  "language_info": {
   "codemirror_mode": {
    "name": "ipython",
    "version": 3
   },
   "file_extension": ".py",
   "mimetype": "text/x-python",
   "name": "python",
   "nbconvert_exporter": "python",
   "pygments_lexer": "ipython3",
   "version": "3.11.4"
  },
  "orig_nbformat": 4
 },
 "nbformat": 4,
 "nbformat_minor": 2
}
