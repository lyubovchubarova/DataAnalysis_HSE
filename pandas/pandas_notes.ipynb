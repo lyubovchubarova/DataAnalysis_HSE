{
 "cells": [
  {
   "cell_type": "markdown",
   "metadata": {
    "ExecuteTime": {
     "end_time": "2017-05-14T12:45:01.548143",
     "start_time": "2017-05-14T12:45:01.544684"
    }
   },
   "source": [
    "# Анализ данных с Pandas"
   ]
  },
  {
   "cell_type": "code",
   "execution_count": null,
   "metadata": {
    "ExecuteTime": {
     "end_time": "2017-07-17T16:55:02.564064",
     "start_time": "2017-07-17T16:55:02.560545"
    },
    "collapsed": true
   },
   "outputs": [],
   "source": [
    "import pandas as pd\n",
    "import numpy as np"
   ]
  },
  {
   "cell_type": "code",
   "execution_count": null,
   "metadata": {},
   "outputs": [],
   "source": [
    "!wget https://raw.githubusercontent.com/anshu7vyas/naive-bayesian-census-income/refs/heads/master/Data/adult.data.csv"
   ]
  },
  {
   "cell_type": "markdown",
   "metadata": {},
   "source": [
    "Данные соцопросов Census Income, с которым будем работать:"
   ]
  },
  {
   "cell_type": "code",
   "execution_count": null,
   "metadata": {
    "ExecuteTime": {
     "end_time": "2017-07-17T16:55:06.700897",
     "start_time": "2017-07-17T16:55:06.594922"
    },
    "collapsed": true
   },
   "outputs": [],
   "source": [
    "df = pd.read_csv('data/CensusIncome/adult.data.csv')"
   ]
  },
  {
   "cell_type": "markdown",
   "metadata": {},
   "source": [
    "* __age__: continuous. \n",
    "* __workclass__: Private, Self-emp-not-inc, Self-emp-inc, Federal-gov, Local-gov, State-gov, Without-pay, Never-worked. \n",
    "* __fnlwgt__: continuous. \n",
    "* __education__: Bachelors, Some-college, 11th, HS-grad, Prof-school, Assoc-acdm, Assoc-voc, 9th, 7th-8th, 12th, Masters, 1st-4th, 10th, Doctorate, 5th-6th, Preschool. \n",
    "* __education-num__: continuous. \n",
    "* __marital-status__: Married-civ-spouse, Divorced, Never-married, Separated, Widowed, Married-spouse-absent, Married-AF-spouse. \n",
    "* __occupation__: Tech-support, Craft-repair, Other-service, Sales, Exec-managerial, Prof-specialty, Handlers-cleaners, Machine-op-inspct, Adm-clerical, Farming-fishing, Transport-moving, Priv-house-serv, Protective-serv, Armed-Forces. \n",
    "* __relationship__: Wife, Own-child, Husband, Not-in-family, Other-relative, Unmarried. \n",
    "* __race__: White, Asian-Pac-Islander, Amer-Indian-Eskimo, Other, Black. \n",
    "* __sex__: Female, Male. \n",
    "* __capital-gain__: continuous. \n",
    "* __capital-loss__: continuous. \n",
    "* __hours-per-week__: continuous. \n",
    "* __native-country__: United-States, Cambodia, England, Puerto-Rico, Canada, Germany, Outlying-US(Guam-USVI-etc), India, Japan, Greece, South, China, Cuba, Iran, Honduras, Philippines, Italy, Poland, Jamaica, Vietnam, Mexico, Portugal, Ireland, France, Dominican-Republic, Laos, Ecuador, Taiwan, Haiti, Columbia, Hungary, Guatemala, Nicaragua, Scotland, Thailand, Yugoslavia, El-Salvador, Trinadad&Tobago, Peru, Hong, Holand-Netherlands."
   ]
  },
  {
   "cell_type": "markdown",
   "metadata": {},
   "source": [
    "`head()` показывает первые 5 строк датафрейма. \n",
    "\n",
    "`tail()` - последние 5.\n",
    "\n",
    "`head(N)` показывает первые N строк датафрейма. \n",
    "\n",
    "`tail(N)` - последние N."
   ]
  },
  {
   "cell_type": "code",
   "execution_count": null,
   "metadata": {
    "ExecuteTime": {
     "end_time": "2017-07-17T16:55:13.139552",
     "start_time": "2017-07-17T16:55:13.119176"
    },
    "collapsed": false
   },
   "outputs": [],
   "source": [
    "df.head()"
   ]
  },
  {
   "cell_type": "markdown",
   "metadata": {},
   "source": [
    "## Структура"
   ]
  },
  {
   "cell_type": "code",
   "execution_count": null,
   "metadata": {
    "ExecuteTime": {
     "end_time": "2017-07-17T17:01:42.649699",
     "start_time": "2017-07-17T17:01:42.634542"
    },
    "collapsed": false
   },
   "outputs": [],
   "source": [
    "q = pd.DataFrame(data={'a': ['abc', 'bcd', 'def'], 'b': [1,2,3], 'c': [100, 300, 200]}, index=[8,9,10])\n",
    "q"
   ]
  },
  {
   "cell_type": "code",
   "execution_count": null,
   "metadata": {
    "ExecuteTime": {
     "end_time": "2017-07-17T17:01:43.476126",
     "start_time": "2017-07-17T17:01:43.471131"
    },
    "collapsed": false
   },
   "outputs": [],
   "source": [
    "q.index"
   ]
  },
  {
   "cell_type": "code",
   "execution_count": null,
   "metadata": {
    "ExecuteTime": {
     "end_time": "2017-07-17T17:01:43.972680",
     "start_time": "2017-07-17T17:01:43.966139"
    },
    "collapsed": false
   },
   "outputs": [],
   "source": [
    "q.columns"
   ]
  },
  {
   "cell_type": "code",
   "execution_count": null,
   "metadata": {
    "ExecuteTime": {
     "end_time": "2017-07-17T17:01:44.631962",
     "start_time": "2017-07-17T17:01:44.625859"
    },
    "collapsed": false
   },
   "outputs": [],
   "source": [
    "q.a"
   ]
  },
  {
   "cell_type": "code",
   "execution_count": null,
   "metadata": {
    "ExecuteTime": {
     "end_time": "2017-07-17T17:02:48.261361",
     "start_time": "2017-07-17T17:02:48.255229"
    },
    "collapsed": false
   },
   "outputs": [],
   "source": [
    "q['a']"
   ]
  },
  {
   "cell_type": "code",
   "execution_count": null,
   "metadata": {
    "ExecuteTime": {
     "end_time": "2017-07-17T17:01:45.322305",
     "start_time": "2017-07-17T17:01:45.317057"
    },
    "collapsed": false
   },
   "outputs": [],
   "source": [
    "type(q.a)"
   ]
  },
  {
   "cell_type": "code",
   "execution_count": null,
   "metadata": {
    "ExecuteTime": {
     "end_time": "2017-07-17T17:01:46.455887",
     "start_time": "2017-07-17T17:01:46.447609"
    },
    "collapsed": false
   },
   "outputs": [],
   "source": [
    "q[:2]"
   ]
  },
  {
   "cell_type": "code",
   "execution_count": null,
   "metadata": {
    "ExecuteTime": {
     "end_time": "2017-07-17T17:03:02.976823",
     "start_time": "2017-07-17T17:03:02.966110"
    },
    "collapsed": false
   },
   "outputs": [],
   "source": [
    "q[['a']]"
   ]
  },
  {
   "cell_type": "code",
   "execution_count": null,
   "metadata": {
    "ExecuteTime": {
     "end_time": "2017-07-17T17:04:14.089516",
     "start_time": "2017-07-17T17:04:14.081032"
    },
    "collapsed": false
   },
   "outputs": [],
   "source": [
    "q[['a', 'b']][:2]"
   ]
  },
  {
   "cell_type": "markdown",
   "metadata": {},
   "source": [
    "## Общее"
   ]
  },
  {
   "cell_type": "markdown",
   "metadata": {},
   "source": [
    "Размер:"
   ]
  },
  {
   "cell_type": "code",
   "execution_count": null,
   "metadata": {
    "ExecuteTime": {
     "end_time": "2017-07-17T17:04:24.182706",
     "start_time": "2017-07-17T17:04:24.178251"
    },
    "collapsed": false
   },
   "outputs": [],
   "source": [
    "df.shape"
   ]
  },
  {
   "cell_type": "markdown",
   "metadata": {},
   "source": [
    "Столбцы:"
   ]
  },
  {
   "cell_type": "code",
   "execution_count": null,
   "metadata": {
    "ExecuteTime": {
     "end_time": "2017-07-17T17:04:26.700338",
     "start_time": "2017-07-17T17:04:26.695582"
    },
    "collapsed": false
   },
   "outputs": [],
   "source": [
    "df.columns"
   ]
  },
  {
   "cell_type": "markdown",
   "metadata": {},
   "source": [
    "Информация содержит данные о типе колонок, степени их заполненности (в нашем случае пропусков в данных нет), типе данных каждой из колонок, а также потреблении памяти:"
   ]
  },
  {
   "cell_type": "code",
   "execution_count": null,
   "metadata": {
    "ExecuteTime": {
     "end_time": "2017-07-17T17:04:33.402324",
     "start_time": "2017-07-17T17:04:33.369825"
    },
    "collapsed": false
   },
   "outputs": [],
   "source": [
    "df.info()"
   ]
  },
  {
   "cell_type": "markdown",
   "metadata": {},
   "source": [
    "Метод `describe` содержит основные статистики по числовым столбцам данных: \n",
    "* количество\n",
    "* среднее\n",
    "* среднеквадратичное отклонение\n",
    "* минимум, максимум\n",
    "* медиану\n",
    "* первый и третий квартили"
   ]
  },
  {
   "cell_type": "code",
   "execution_count": null,
   "metadata": {
    "ExecuteTime": {
     "end_time": "2017-07-17T17:04:45.932560",
     "start_time": "2017-07-17T17:04:45.895156"
    },
    "collapsed": false
   },
   "outputs": [],
   "source": [
    "df.describe()"
   ]
  },
  {
   "cell_type": "markdown",
   "metadata": {},
   "source": [
    "Если хочется посмотреть и на нечисловые признаки, то нужно указать их тип в параметре `include`. Всего есть совсем немного основных: \n",
    "* `bool` - логический\n",
    "* `object` - общий нечисловой, в большинстве случаев это строки\n",
    "* `numeric` - числовой, включающий как числа с плавающей запятой, так и целые"
   ]
  },
  {
   "cell_type": "code",
   "execution_count": null,
   "metadata": {
    "ExecuteTime": {
     "end_time": "2017-07-17T17:04:48.245163",
     "start_time": "2017-07-17T17:04:48.123104"
    },
    "collapsed": false
   },
   "outputs": [],
   "source": [
    "df.describe(include=['object', 'bool'])"
   ]
  },
  {
   "cell_type": "markdown",
   "metadata": {
    "ExecuteTime": {
     "end_time": "2017-05-14T13:22:09.347929",
     "start_time": "2017-05-14T13:22:09.333417"
    }
   },
   "source": [
    "Полезным методом является `value_counts()`, считающим распределение данных по категориям:"
   ]
  },
  {
   "cell_type": "code",
   "execution_count": null,
   "metadata": {
    "ExecuteTime": {
     "end_time": "2017-07-17T17:04:49.806530",
     "start_time": "2017-07-17T17:04:49.794713"
    },
    "collapsed": false
   },
   "outputs": [],
   "source": [
    "df.education.value_counts()"
   ]
  },
  {
   "cell_type": "markdown",
   "metadata": {
    "ExecuteTime": {
     "end_time": "2017-05-14T13:22:40.773646",
     "start_time": "2017-05-14T13:22:40.769333"
    }
   },
   "source": [
    "Для отображения в долях существует флажок `normalize`:"
   ]
  },
  {
   "cell_type": "code",
   "execution_count": null,
   "metadata": {
    "ExecuteTime": {
     "end_time": "2017-07-17T17:04:52.098307",
     "start_time": "2017-07-17T17:04:52.085802"
    },
    "collapsed": false
   },
   "outputs": [],
   "source": [
    "df.education.value_counts(normalize=True)"
   ]
  },
  {
   "cell_type": "markdown",
   "metadata": {},
   "source": [
    "Недостаточно понятно? Построим!"
   ]
  },
  {
   "cell_type": "code",
   "execution_count": null,
   "metadata": {
    "ExecuteTime": {
     "end_time": "2017-07-17T17:04:55.044895",
     "start_time": "2017-07-17T17:04:54.710931"
    },
    "collapsed": false
   },
   "outputs": [],
   "source": [
    "df.education.value_counts().plot(kind='bar');"
   ]
  },
  {
   "cell_type": "markdown",
   "metadata": {},
   "source": [
    "## Индексация"
   ]
  },
  {
   "cell_type": "markdown",
   "metadata": {
    "ExecuteTime": {
     "end_time": "2017-05-14T13:35:25.120034",
     "start_time": "2017-05-14T13:35:25.114342"
    }
   },
   "source": [
    "Весь датафрейм:"
   ]
  },
  {
   "cell_type": "code",
   "execution_count": null,
   "metadata": {
    "ExecuteTime": {
     "end_time": "2017-07-17T17:05:15.286725",
     "start_time": "2017-07-17T17:05:15.283750"
    },
    "collapsed": false
   },
   "outputs": [],
   "source": [
    "df;"
   ]
  },
  {
   "cell_type": "markdown",
   "metadata": {},
   "source": [
    "Только те, чей возраст меньше 25 лет:"
   ]
  },
  {
   "cell_type": "code",
   "execution_count": null,
   "metadata": {
    "ExecuteTime": {
     "end_time": "2017-07-17T17:06:34.355012",
     "start_time": "2017-07-17T17:06:34.349595"
    },
    "collapsed": false
   },
   "outputs": [],
   "source": [
    "df[df.age < 25];"
   ]
  },
  {
   "cell_type": "markdown",
   "metadata": {
    "ExecuteTime": {
     "end_time": "2017-07-03T13:51:12.375809",
     "start_time": "2017-07-03T13:51:12.371047"
    }
   },
   "source": [
    "Часто того же результата можно добиться с помощью `query`:"
   ]
  },
  {
   "cell_type": "code",
   "execution_count": null,
   "metadata": {
    "ExecuteTime": {
     "end_time": "2017-07-17T17:06:34.918060",
     "start_time": "2017-07-17T17:06:34.908300"
    },
    "collapsed": false
   },
   "outputs": [],
   "source": [
    "df.query('age < 25');"
   ]
  },
  {
   "cell_type": "markdown",
   "metadata": {},
   "source": [
    "Только те, кто получают больше 50 000$:"
   ]
  },
  {
   "cell_type": "code",
   "execution_count": null,
   "metadata": {
    "ExecuteTime": {
     "end_time": "2017-07-17T17:06:36.246438",
     "start_time": "2017-07-17T17:06:36.236808"
    },
    "collapsed": false
   },
   "outputs": [],
   "source": [
    "df[df.salary == '>50K'];"
   ]
  },
  {
   "cell_type": "code",
   "execution_count": null,
   "metadata": {
    "ExecuteTime": {
     "end_time": "2017-07-17T17:06:46.508948",
     "start_time": "2017-07-17T17:06:46.491415"
    },
    "collapsed": false,
    "scrolled": true
   },
   "outputs": [],
   "source": [
    "df[df.salary == '<=50K'].sex.value_counts(normalize=False)"
   ]
  },
  {
   "cell_type": "code",
   "execution_count": null,
   "metadata": {
    "ExecuteTime": {
     "end_time": "2017-07-17T17:11:15.764612",
     "start_time": "2017-07-17T17:11:15.751442"
    },
    "collapsed": false
   },
   "outputs": [],
   "source": [
    "df[df.salary == '>50K'].sex.value_counts(normalize=True)"
   ]
  },
  {
   "cell_type": "markdown",
   "metadata": {},
   "source": [
    "## Сортировка"
   ]
  },
  {
   "cell_type": "code",
   "execution_count": null,
   "metadata": {
    "ExecuteTime": {
     "end_time": "2017-07-17T17:11:19.924793",
     "start_time": "2017-07-17T17:11:19.900505"
    },
    "collapsed": true
   },
   "outputs": [],
   "source": [
    "df.sort_values(by=['education']);"
   ]
  },
  {
   "cell_type": "markdown",
   "metadata": {},
   "source": [
    "Отсортируем сначала по полу, внутри пола - по возрасту, но в обратном порядке"
   ]
  },
  {
   "cell_type": "code",
   "execution_count": null,
   "metadata": {
    "ExecuteTime": {
     "end_time": "2017-07-17T17:11:20.898016",
     "start_time": "2017-07-17T17:11:20.869796"
    },
    "collapsed": false
   },
   "outputs": [],
   "source": [
    "df.sort_values(by=['sex', 'age'], ascending=[True, False]).head()"
   ]
  },
  {
   "cell_type": "markdown",
   "metadata": {},
   "source": [
    "## Применение функций"
   ]
  },
  {
   "cell_type": "markdown",
   "metadata": {},
   "source": [
    "Применить функцию к каждому столбцу можно с помощью `apply`:"
   ]
  },
  {
   "cell_type": "code",
   "execution_count": null,
   "metadata": {
    "ExecuteTime": {
     "end_time": "2017-07-17T17:11:38.708321",
     "start_time": "2017-07-17T17:11:38.653907"
    },
    "collapsed": false
   },
   "outputs": [],
   "source": [
    "df.apply(np.max) # взяли максимум в каждом из столбцов"
   ]
  },
  {
   "cell_type": "code",
   "execution_count": null,
   "metadata": {
    "ExecuteTime": {
     "end_time": "2017-07-17T17:13:09.838212",
     "start_time": "2017-07-17T17:13:09.819830"
    },
    "collapsed": false
   },
   "outputs": [],
   "source": [
    "df['education-num'].apply(lambda x: x+10).head()"
   ]
  },
  {
   "cell_type": "markdown",
   "metadata": {},
   "source": [
    "Применение функции к каждой __ячейке__ реализовывается с помощью `map`:"
   ]
  },
  {
   "cell_type": "code",
   "execution_count": null,
   "metadata": {
    "ExecuteTime": {
     "end_time": "2017-07-17T17:13:31.254112",
     "start_time": "2017-07-17T17:13:31.245697"
    },
    "collapsed": true
   },
   "outputs": [],
   "source": [
    "renaming = {'>50K': 1, '<=50K': 0}\n",
    "df.salary = df.salary.map(renaming)"
   ]
  },
  {
   "cell_type": "code",
   "execution_count": null,
   "metadata": {
    "ExecuteTime": {
     "end_time": "2017-07-17T17:13:32.280931",
     "start_time": "2017-07-17T17:13:32.274169"
    },
    "collapsed": false
   },
   "outputs": [],
   "source": [
    "df.salary.value_counts()"
   ]
  },
  {
   "cell_type": "code",
   "execution_count": null,
   "metadata": {
    "ExecuteTime": {
     "end_time": "2017-07-17T17:13:40.905144",
     "start_time": "2017-07-17T17:13:40.896404"
    },
    "collapsed": true
   },
   "outputs": [],
   "source": [
    "renaming = {1:'> 50K', 0: '<= 50K'}\n",
    "df.salary = df.salary.map(renaming)"
   ]
  },
  {
   "cell_type": "code",
   "execution_count": null,
   "metadata": {
    "ExecuteTime": {
     "end_time": "2017-07-17T17:13:49.400872",
     "start_time": "2017-07-17T17:13:49.372419"
    },
    "collapsed": true
   },
   "outputs": [],
   "source": [
    "df['sex'] = df['sex'].apply(lambda x: x.lower())\n",
    "df['relationship'] = df['relationship'].apply(lambda x: x.lower())"
   ]
  },
  {
   "cell_type": "code",
   "execution_count": null,
   "metadata": {
    "ExecuteTime": {
     "end_time": "2017-07-17T17:14:00.249173",
     "start_time": "2017-07-17T17:14:00.193498"
    },
    "collapsed": true
   },
   "outputs": [],
   "source": [
    "# same as above:\n",
    "cols = ['sex', 'relationship']\n",
    "df[cols] = df[cols].applymap(lambda x: x.lower())"
   ]
  },
  {
   "cell_type": "code",
   "execution_count": null,
   "metadata": {
    "ExecuteTime": {
     "end_time": "2017-07-17T17:14:12.234836",
     "start_time": "2017-07-17T17:14:12.212656"
    },
    "collapsed": false
   },
   "outputs": [],
   "source": [
    "df.head()"
   ]
  },
  {
   "cell_type": "markdown",
   "metadata": {},
   "source": [
    "## Дубликаты"
   ]
  },
  {
   "cell_type": "code",
   "execution_count": null,
   "metadata": {
    "ExecuteTime": {
     "end_time": "2017-07-17T17:18:28.533793",
     "start_time": "2017-07-17T17:18:28.522386"
    },
    "collapsed": false
   },
   "outputs": [],
   "source": [
    "q = pd.DataFrame(data={'a': [1,2,3,1,1], 'b': [1,2,3,2,1], 'c':[10,20,30,40,40]})\n",
    "q"
   ]
  },
  {
   "cell_type": "code",
   "execution_count": null,
   "metadata": {
    "ExecuteTime": {
     "end_time": "2017-07-17T17:18:56.586122",
     "start_time": "2017-07-17T17:18:56.579848"
    },
    "collapsed": false
   },
   "outputs": [],
   "source": [
    "q.duplicated(['a'])"
   ]
  },
  {
   "cell_type": "code",
   "execution_count": null,
   "metadata": {
    "ExecuteTime": {
     "end_time": "2017-07-17T17:18:57.141169",
     "start_time": "2017-07-17T17:18:57.132543"
    },
    "collapsed": false
   },
   "outputs": [],
   "source": [
    "q.duplicated(['a', 'b'])"
   ]
  },
  {
   "cell_type": "code",
   "execution_count": null,
   "metadata": {
    "ExecuteTime": {
     "end_time": "2017-07-17T17:19:17.641121",
     "start_time": "2017-07-17T17:19:17.632394"
    },
    "collapsed": false
   },
   "outputs": [],
   "source": [
    "q.drop_duplicates(subset=['a'])"
   ]
  },
  {
   "cell_type": "code",
   "execution_count": null,
   "metadata": {
    "ExecuteTime": {
     "end_time": "2017-07-17T17:19:29.625734",
     "start_time": "2017-07-17T17:19:29.617077"
    },
    "collapsed": false
   },
   "outputs": [],
   "source": [
    "q.drop_duplicates(subset=['a', 'b'])"
   ]
  },
  {
   "cell_type": "markdown",
   "metadata": {},
   "source": [
    "## Группировка"
   ]
  },
  {
   "cell_type": "code",
   "execution_count": null,
   "metadata": {
    "ExecuteTime": {
     "end_time": "2017-07-17T17:19:40.328839",
     "start_time": "2017-07-17T17:19:40.325581"
    },
    "collapsed": false
   },
   "outputs": [],
   "source": [
    "df.groupby(['salary']);"
   ]
  },
  {
   "cell_type": "markdown",
   "metadata": {},
   "source": [
    "__Важно__: groupby-объекты - не копии частей датафрейма!"
   ]
  },
  {
   "cell_type": "code",
   "execution_count": null,
   "metadata": {
    "ExecuteTime": {
     "end_time": "2017-07-17T17:19:55.502383",
     "start_time": "2017-07-17T17:19:55.287210"
    },
    "collapsed": false
   },
   "outputs": [],
   "source": [
    "df.groupby(['salary']).describe(include=['object', 'bool'])"
   ]
  },
  {
   "cell_type": "code",
   "execution_count": null,
   "metadata": {
    "ExecuteTime": {
     "end_time": "2017-07-17T17:20:17.778747",
     "start_time": "2017-07-17T17:20:17.773186"
    },
    "collapsed": false
   },
   "outputs": [],
   "source": [
    "df.groupby('salary')"
   ]
  },
  {
   "cell_type": "code",
   "execution_count": null,
   "metadata": {
    "ExecuteTime": {
     "end_time": "2017-07-17T17:24:43.025204",
     "start_time": "2017-07-17T17:24:43.012844"
    },
    "collapsed": false
   },
   "outputs": [],
   "source": [
    "df.groupby('salary').sex.value_counts()"
   ]
  },
  {
   "cell_type": "markdown",
   "metadata": {},
   "source": [
    "## Таблицы сопряженности и сводные таблицы"
   ]
  },
  {
   "cell_type": "markdown",
   "metadata": {
    "ExecuteTime": {
     "end_time": "2017-05-14T15:50:16.958656",
     "start_time": "2017-05-14T15:50:16.955760"
    }
   },
   "source": [
    "### Таблицы сопряженности"
   ]
  },
  {
   "cell_type": "code",
   "execution_count": null,
   "metadata": {
    "ExecuteTime": {
     "end_time": "2017-07-17T17:25:11.177760",
     "start_time": "2017-07-17T17:25:11.156935"
    },
    "collapsed": false
   },
   "outputs": [],
   "source": [
    "pd.crosstab(df.salary, df.sex)"
   ]
  },
  {
   "cell_type": "code",
   "execution_count": null,
   "metadata": {
    "ExecuteTime": {
     "end_time": "2017-07-17T17:25:23.420736",
     "start_time": "2017-07-17T17:25:23.172932"
    },
    "collapsed": false
   },
   "outputs": [],
   "source": [
    "pd.crosstab(df.salary, df.sex).plot(kind='bar');"
   ]
  },
  {
   "cell_type": "code",
   "execution_count": null,
   "metadata": {
    "ExecuteTime": {
     "end_time": "2017-07-17T17:25:28.377452",
     "start_time": "2017-07-17T17:25:28.356771"
    },
    "collapsed": false
   },
   "outputs": [],
   "source": [
    "pd.crosstab(df.salary, df.sex, normalize=True)"
   ]
  },
  {
   "cell_type": "code",
   "execution_count": null,
   "metadata": {
    "ExecuteTime": {
     "end_time": "2017-07-03T14:18:41.492807",
     "start_time": "2017-07-03T14:18:41.466685"
    },
    "collapsed": false,
    "scrolled": true
   },
   "outputs": [],
   "source": [
    "pd.crosstab(df.salary, df['marital-status'], normalize=True)"
   ]
  },
  {
   "cell_type": "markdown",
   "metadata": {},
   "source": [
    "### Сводные таблицы"
   ]
  },
  {
   "cell_type": "code",
   "execution_count": null,
   "metadata": {
    "ExecuteTime": {
     "end_time": "2017-07-03T14:18:44.499586",
     "start_time": "2017-07-03T14:18:44.485073"
    },
    "collapsed": false
   },
   "outputs": [],
   "source": [
    "df.pivot_table(['salary'], ['education'], aggfunc='count').head(10)"
   ]
  },
  {
   "cell_type": "markdown",
   "metadata": {
    "collapsed": true
   },
   "source": [
    "## Изменение таблиц"
   ]
  },
  {
   "cell_type": "code",
   "execution_count": null,
   "metadata": {
    "ExecuteTime": {
     "end_time": "2017-07-17T17:25:59.811243",
     "start_time": "2017-07-17T17:25:59.790245"
    },
    "collapsed": false
   },
   "outputs": [],
   "source": [
    "df.head()"
   ]
  },
  {
   "cell_type": "markdown",
   "metadata": {},
   "source": [
    "### Добавление нового столбца"
   ]
  },
  {
   "cell_type": "code",
   "execution_count": null,
   "metadata": {
    "ExecuteTime": {
     "end_time": "2017-07-17T17:26:26.528761",
     "start_time": "2017-07-17T17:26:26.524398"
    },
    "collapsed": true
   },
   "outputs": [],
   "source": [
    "df['working_days'] = df['hours-per-week'] / 8.0"
   ]
  },
  {
   "cell_type": "code",
   "execution_count": null,
   "metadata": {
    "ExecuteTime": {
     "end_time": "2017-07-17T17:26:26.809889",
     "start_time": "2017-07-17T17:26:26.774936"
    },
    "collapsed": false
   },
   "outputs": [],
   "source": [
    "df.head()"
   ]
  },
  {
   "cell_type": "code",
   "execution_count": null,
   "metadata": {
    "ExecuteTime": {
     "end_time": "2017-07-17T17:26:44.374639",
     "start_time": "2017-07-17T17:26:44.371109"
    },
    "collapsed": true
   },
   "outputs": [],
   "source": [
    "df['constant'] = 1"
   ]
  },
  {
   "cell_type": "code",
   "execution_count": null,
   "metadata": {
    "ExecuteTime": {
     "end_time": "2017-07-17T17:26:44.675971",
     "start_time": "2017-07-17T17:26:44.663592"
    },
    "collapsed": false
   },
   "outputs": [],
   "source": [
    "df = df.assign(anotherConstant = lambda dataframe: dataframe.constant*2)"
   ]
  },
  {
   "cell_type": "code",
   "execution_count": null,
   "metadata": {
    "ExecuteTime": {
     "end_time": "2017-07-17T17:26:50.381036",
     "start_time": "2017-07-17T17:26:50.362888"
    },
    "collapsed": false
   },
   "outputs": [],
   "source": [
    "df.head(1)"
   ]
  },
  {
   "cell_type": "markdown",
   "metadata": {},
   "source": [
    "### Удаление строк и столбцов"
   ]
  },
  {
   "cell_type": "code",
   "execution_count": null,
   "metadata": {
    "ExecuteTime": {
     "end_time": "2017-07-17T17:27:16.907259",
     "start_time": "2017-07-17T17:27:16.893770"
    },
    "collapsed": false
   },
   "outputs": [],
   "source": [
    "df.drop(['constant', 'anotherConstant'], axis=1, inplace=True)"
   ]
  },
  {
   "cell_type": "markdown",
   "metadata": {},
   "source": [
    "__NB__: У большинства операторов pandas есть флажок `inplace`. Если он выставлен в `False` (по умолчанию именно так), то изменения, например, как `drop` в примере выше, не будут изменять таблицу, а вернут измененную копию."
   ]
  },
  {
   "cell_type": "code",
   "execution_count": null,
   "metadata": {
    "ExecuteTime": {
     "end_time": "2017-07-17T17:27:18.041537",
     "start_time": "2017-07-17T17:27:18.017444"
    },
    "collapsed": false
   },
   "outputs": [],
   "source": [
    "df.drop([1,2]).head(3) # => удаляет строки"
   ]
  },
  {
   "cell_type": "markdown",
   "metadata": {
    "collapsed": true
   },
   "source": [
    "### Переименование столбцов"
   ]
  },
  {
   "cell_type": "code",
   "execution_count": null,
   "metadata": {
    "ExecuteTime": {
     "end_time": "2017-07-17T17:27:24.232680",
     "start_time": "2017-07-17T17:27:24.229492"
    },
    "collapsed": false
   },
   "outputs": [],
   "source": [
    "df.columns = [c.lower() for c in df.columns]"
   ]
  },
  {
   "cell_type": "code",
   "execution_count": null,
   "metadata": {
    "ExecuteTime": {
     "end_time": "2017-07-17T17:27:25.705502",
     "start_time": "2017-07-17T17:27:25.694997"
    },
    "collapsed": true
   },
   "outputs": [],
   "source": [
    "df = df.rename(columns={'marital-status': 'marital_status'})\n",
    "                        # словарь старое-новое значение"
   ]
  },
  {
   "cell_type": "markdown",
   "metadata": {
    "ExecuteTime": {
     "end_time": "2017-05-18T12:24:09.500495",
     "start_time": "2017-05-18T12:24:09.497359"
    },
    "collapsed": true
   },
   "source": [
    "## Работа с пропущенными (NaN) значениями"
   ]
  },
  {
   "cell_type": "code",
   "execution_count": null,
   "metadata": {
    "ExecuteTime": {
     "end_time": "2017-07-17T17:27:34.122279",
     "start_time": "2017-07-17T17:27:34.107746"
    },
    "collapsed": false
   },
   "outputs": [],
   "source": [
    "test = pd.DataFrame(data={'name': ['John', 'Bill', 'Jennifer', 'Max'], \n",
    "                          'salary': [90, np.nan, 95, 130], \n",
    "                          'age': [27, 30, np.nan, np.nan],\n",
    "                          'status': [np.nan, 'married', np.nan, 'married']\n",
    "                         })\n",
    "test = test[['name', 'age', 'salary', 'status']]\n",
    "test"
   ]
  },
  {
   "cell_type": "markdown",
   "metadata": {},
   "source": [
    "### Отображение"
   ]
  },
  {
   "cell_type": "code",
   "execution_count": null,
   "metadata": {
    "ExecuteTime": {
     "end_time": "2017-07-17T17:27:39.539621",
     "start_time": "2017-07-17T17:27:39.529057"
    },
    "collapsed": false
   },
   "outputs": [],
   "source": [
    "test[test['age'].isnull()]"
   ]
  },
  {
   "cell_type": "code",
   "execution_count": null,
   "metadata": {
    "ExecuteTime": {
     "end_time": "2017-07-17T17:27:49.232010",
     "start_time": "2017-07-17T17:27:49.218192"
    },
    "collapsed": false
   },
   "outputs": [],
   "source": [
    "test[test['age'].notnull()]"
   ]
  },
  {
   "cell_type": "code",
   "execution_count": null,
   "metadata": {
    "ExecuteTime": {
     "end_time": "2017-07-17T17:28:07.051907",
     "start_time": "2017-07-17T17:28:07.040088"
    },
    "collapsed": false
   },
   "outputs": [],
   "source": [
    "test[test.isnull().any(axis=1)]"
   ]
  },
  {
   "cell_type": "code",
   "execution_count": null,
   "metadata": {
    "ExecuteTime": {
     "end_time": "2017-07-17T17:28:07.711740",
     "start_time": "2017-07-17T17:28:07.703225"
    },
    "collapsed": false
   },
   "outputs": [],
   "source": [
    "test[~test.isnull().any(axis=1)]"
   ]
  },
  {
   "cell_type": "markdown",
   "metadata": {},
   "source": [
    "### Заполнение"
   ]
  },
  {
   "cell_type": "markdown",
   "metadata": {},
   "source": [
    "Прежде всего, можно заполнить некоторым константным значением:"
   ]
  },
  {
   "cell_type": "code",
   "execution_count": null,
   "metadata": {
    "ExecuteTime": {
     "end_time": "2017-07-17T17:28:17.614783",
     "start_time": "2017-07-17T17:28:17.603218"
    },
    "collapsed": false
   },
   "outputs": [],
   "source": [
    "dashtest = test.fillna('-')\n",
    "dashtest"
   ]
  },
  {
   "cell_type": "markdown",
   "metadata": {},
   "source": [
    "Важно заметить, что теперь слобцы возраста и зарплаты более не числовые:"
   ]
  },
  {
   "cell_type": "code",
   "execution_count": null,
   "metadata": {
    "ExecuteTime": {
     "end_time": "2017-07-17T17:28:19.692814",
     "start_time": "2017-07-17T17:28:19.686816"
    },
    "collapsed": false
   },
   "outputs": [],
   "source": [
    "print(test.dtypes, '\\n\\n', dashtest.dtypes)"
   ]
  },
  {
   "cell_type": "code",
   "execution_count": null,
   "metadata": {
    "ExecuteTime": {
     "end_time": "2017-07-17T17:28:30.069645",
     "start_time": "2017-07-17T17:28:30.056676"
    },
    "collapsed": false
   },
   "outputs": [],
   "source": [
    "test.fillna(method='ffill')"
   ]
  },
  {
   "cell_type": "code",
   "execution_count": null,
   "metadata": {
    "ExecuteTime": {
     "end_time": "2017-07-17T17:28:31.104812",
     "start_time": "2017-07-17T17:28:31.093713"
    },
    "collapsed": false
   },
   "outputs": [],
   "source": [
    "test.fillna(method='bfill')"
   ]
  },
  {
   "cell_type": "code",
   "execution_count": null,
   "metadata": {
    "ExecuteTime": {
     "end_time": "2017-07-17T17:28:31.892480",
     "start_time": "2017-07-17T17:28:31.880684"
    },
    "collapsed": false
   },
   "outputs": [],
   "source": [
    "test.fillna(method='ffill').fillna(method='bfill')"
   ]
  },
  {
   "cell_type": "code",
   "execution_count": null,
   "metadata": {
    "ExecuteTime": {
     "end_time": "2017-07-17T17:28:32.788998",
     "start_time": "2017-07-17T17:28:32.731076"
    },
    "collapsed": false
   },
   "outputs": [],
   "source": [
    "test['salary'] = test[['salary']].fillna(test.salary.mean())\n",
    "test"
   ]
  },
  {
   "cell_type": "code",
   "execution_count": null,
   "metadata": {
    "ExecuteTime": {
     "end_time": "2017-07-17T17:28:33.703148",
     "start_time": "2017-07-17T17:28:33.689689"
    },
    "collapsed": false
   },
   "outputs": [],
   "source": [
    "test['age'] = test[['salary']].fillna(25)\n",
    "test['status'] = test[['status']].fillna(test.status.mode()[0])\n",
    "test"
   ]
  },
  {
   "cell_type": "markdown",
   "metadata": {},
   "source": [
    "https://github.com/pandas-dev/pandas/blob/master/doc/cheatsheet/Pandas_Cheat_Sheet.pdf"
   ]
  }
 ],
 "metadata": {
  "kernelspec": {
   "display_name": "Python 3",
   "language": "python",
   "name": "python3"
  },
  "language_info": {
   "codemirror_mode": {
    "name": "ipython",
    "version": 3
   },
   "file_extension": ".py",
   "mimetype": "text/x-python",
   "name": "python",
   "nbconvert_exporter": "python",
   "pygments_lexer": "ipython3",
   "version": "3.11.5"
  },
  "toc": {
   "colors": {
    "hover_highlight": "#DAA520",
    "running_highlight": "#FF0000",
    "selected_highlight": "#FFD700"
   },
   "moveMenuLeft": true,
   "nav_menu": {
    "height": "12px",
    "width": "252px"
   },
   "navigate_menu": true,
   "number_sections": true,
   "sideBar": true,
   "threshold": 4,
   "toc_cell": false,
   "toc_position": {
    "height": "550px",
    "left": "0px",
    "right": "1068px",
    "top": "106px",
    "width": "212px"
   },
   "toc_section_display": "block",
   "toc_window_display": false
  }
 },
 "nbformat": 4,
 "nbformat_minor": 2
}
