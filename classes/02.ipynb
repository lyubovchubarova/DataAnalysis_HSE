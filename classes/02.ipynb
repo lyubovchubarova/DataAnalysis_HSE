{
 "cells": [
  {
   "cell_type": "markdown",
   "metadata": {},
   "source": [
    "# Основы ООП"
   ]
  },
  {
   "cell_type": "markdown",
   "metadata": {},
   "source": [
    "![](https://miro.medium.com/max/1000/1*4TQU8gAHJAJasc-Lwx2APw.png)"
   ]
  },
  {
   "cell_type": "markdown",
   "metadata": {},
   "source": [
    "## Инкапсуляция"
   ]
  },
  {
   "cell_type": "markdown",
   "metadata": {},
   "source": [
    "**Инкапсуляция** - управление доступом к данным объекта.     \n",
    "+ Все объекты в Python инкапсулируют внутри себя данные и методы работы с ними, предоставляя публичные интерфейсы \n",
    "для взаимодействия.     \n",
    "+ В Python атрибуты и методы класса могут быть **внешними** (public), **защищеными** (protected) или **внутренними** (private). "
   ]
  },
  {
   "cell_type": "markdown",
   "metadata": {},
   "source": [
    "Атрибут/метод может быть объявлен **защищенным** с помощью нижнего подчеркивания перед именем.\n",
    "+ Но настоящего скрытия на самом деле не происходит – все на уровне соглашений. \n",
    "+ К нему все еще можно обратиться и изменить.    \n",
    "+ В общем, одно нижнее подчеркивание значит, что можно, но не нужно (пайчарм например наругается)"
   ]
  },
  {
   "cell_type": "code",
   "execution_count": null,
   "metadata": {},
   "outputs": [],
   "source": [
    "class SomeClass2:\n",
    "    \n",
    "    def __init__(self, n):\n",
    "        self._private_n = n\n",
    "        \n",
    "    def _private(self):\n",
    "        print(\"Это внутренний метод объекта\")\n",
    "\n",
    "obj = SomeClass2(2)\n",
    "obj._private() # вызываем защищенный метод объекта \n",
    "obj._private_n = 1 # изменяем защищенный атрибут объекта \n",
    "print(obj._private_n)"
   ]
  },
  {
   "cell_type": "markdown",
   "metadata": {},
   "source": [
    "Два нижних подчеркивания - **приватный** атрибут, к нему нельзя обратиться напрямую."
   ]
  },
  {
   "cell_type": "code",
   "execution_count": null,
   "metadata": {},
   "outputs": [],
   "source": [
    "class SomeClass:\n",
    "    \n",
    "    def __init__(self, n):\n",
    "        self.__private_n = n\n",
    "        \n",
    "    def __private(self):\n",
    "        print(\"Это внутренний метод объекта\")\n",
    "\n",
    "obj = SomeClass(2)\n",
    "obj.__private() # вызываем внутренний метод объекта \n",
    "print(obj.__private_n)"
   ]
  },
  {
   "cell_type": "markdown",
   "metadata": {},
   "source": [
    "Но добраться до него на самом деле все еще можно:"
   ]
  },
  {
   "cell_type": "code",
   "execution_count": null,
   "metadata": {},
   "outputs": [],
   "source": [
    "obj._SomeClass__private() # вызываем внутренний метод объекта \n",
    "obj._SomeClass__private_n = 1 # изменяем внуренний атрибут объекта \n",
    "print(obj._SomeClass__private_n)"
   ]
  },
  {
   "cell_type": "markdown",
   "metadata": {},
   "source": [
    "Есть ли инкапсуляция в питоне?"
   ]
  },
  {
   "cell_type": "markdown",
   "metadata": {},
   "source": [
    "## Наследование"
   ]
  },
  {
   "cell_type": "markdown",
   "metadata": {},
   "source": [
    "Одиночное наследование:"
   ]
  },
  {
   "cell_type": "code",
   "execution_count": null,
   "metadata": {},
   "outputs": [],
   "source": [
    "class Animal:\n",
    "   \n",
    "    fav_food = 'pizza' # атрибут класса \n",
    "    \n",
    "    def __init__(self, name, legs, scariness):\n",
    "        self.name = name \n",
    "        self.legs = legs\n",
    "        self.scariness = scariness\n",
    "    \n",
    "    def introduce(self): \n",
    "        print(\"Hello! My name is %s!\" % self.name)\n",
    "    \n",
    "    \n",
    "    def sound(self):\n",
    "        print(\"Sound!\")\n",
    "\n",
    "class Mammal(Animal): # имя родительского класса пишется в скобках \n",
    "    \n",
    "    def __init__(self, name, scariness): \n",
    "        # обращаемся к классу-родителю с помощью super() и вызываем его метод __init__\n",
    "        super().__init__(name=name, legs=4, scariness=scariness) # пусть у всех млекопитающих должно быть 4 ноги"
   ]
  },
  {
   "cell_type": "code",
   "execution_count": null,
   "metadata": {},
   "outputs": [],
   "source": [
    "mammal = Mammal(name='Kitty', scariness=1)"
   ]
  },
  {
   "cell_type": "markdown",
   "metadata": {},
   "source": [
    "Класс потомок наследует все методы и атрибуты родительского класса, (поля класса в том числе)"
   ]
  },
  {
   "cell_type": "code",
   "execution_count": null,
   "metadata": {},
   "outputs": [],
   "source": [
    "mammal.fav_food"
   ]
  },
  {
   "cell_type": "code",
   "execution_count": null,
   "metadata": {},
   "outputs": [],
   "source": [
    "mammal.legs"
   ]
  },
  {
   "cell_type": "code",
   "execution_count": null,
   "metadata": {},
   "outputs": [],
   "source": [
    "mammal.sound()"
   ]
  },
  {
   "cell_type": "markdown",
   "metadata": {},
   "source": [
    "Список родительских классов содержится в атрибуте ***\\_\\_bases\\_\\_*** объекта класса-потомка"
   ]
  },
  {
   "cell_type": "code",
   "execution_count": null,
   "metadata": {},
   "outputs": [],
   "source": [
    "Mammal.__bases__ # (класса, а не экземпляра!)"
   ]
  },
  {
   "cell_type": "code",
   "execution_count": null,
   "metadata": {},
   "outputs": [],
   "source": [
    "Animal.__bases__ # все классы без указания родителя по умолчанию являются наследниками object"
   ]
  },
  {
   "cell_type": "code",
   "execution_count": null,
   "metadata": {},
   "outputs": [],
   "source": [
    "help(object)"
   ]
  },
  {
   "cell_type": "code",
   "execution_count": null,
   "metadata": {
    "scrolled": true
   },
   "outputs": [],
   "source": [
    "dir(object)"
   ]
  },
  {
   "cell_type": "markdown",
   "metadata": {},
   "source": [
    "**Вопрос**: что будет, если создать потомка вот так, без ***\\_\\_init\\_\\_***? Почему оно работает?"
   ]
  },
  {
   "cell_type": "code",
   "execution_count": null,
   "metadata": {},
   "outputs": [],
   "source": [
    "# class Mammal(Animal): \n",
    "#     pass"
   ]
  },
  {
   "cell_type": "markdown",
   "metadata": {},
   "source": [
    "### Множественное наследование"
   ]
  },
  {
   "cell_type": "markdown",
   "metadata": {},
   "source": [
    "![](https://media.proglib.io/wp-uploads/2018/12/7660079.png)"
   ]
  },
  {
   "cell_type": "markdown",
   "metadata": {},
   "source": [
    "Наследование также может быть множественным, тогда в скобках указывается несколько родительских классов."
   ]
  },
  {
   "cell_type": "code",
   "execution_count": null,
   "metadata": {},
   "outputs": [],
   "source": [
    "class Donkey():\n",
    "    is_donkey = True\n",
    "    \n",
    "class Horse():\n",
    "    is_horse = True\n",
    "    \n",
    "class Mule(Donkey, Horse):\n",
    "    pass"
   ]
  },
  {
   "cell_type": "code",
   "execution_count": null,
   "metadata": {},
   "outputs": [],
   "source": [
    "mule = Mule()\n",
    "mule.is_donkey"
   ]
  },
  {
   "cell_type": "code",
   "execution_count": null,
   "metadata": {},
   "outputs": [],
   "source": [
    "mule.is_horse"
   ]
  },
  {
   "cell_type": "markdown",
   "metadata": {},
   "source": [
    "## Полиморфизм"
   ]
  },
  {
   "cell_type": "markdown",
   "metadata": {},
   "source": [
    "Полиморфизм утверждает, что базовый класс определяет интерфейс работы (набор методов) с категорией объектов (который этот базовый класс представляет), вся специфика работы с конкретными видами должна быть реализована в классах потомках через этот интерфейс (путем переопределения методов в классах-потомках)."
   ]
  },
  {
   "cell_type": "code",
   "execution_count": null,
   "metadata": {
    "scrolled": true
   },
   "outputs": [],
   "source": [
    "1 + 1 # int"
   ]
  },
  {
   "cell_type": "code",
   "execution_count": null,
   "metadata": {},
   "outputs": [],
   "source": [
    "# https://stackoverflow.com/questions/12025531/why-does-1-add-2-not-work-out\n",
    "a = 1\n",
    "a.__add__(1)"
   ]
  },
  {
   "cell_type": "code",
   "execution_count": null,
   "metadata": {
    "scrolled": false
   },
   "outputs": [],
   "source": [
    "'1'+'1' #str"
   ]
  },
  {
   "cell_type": "code",
   "execution_count": null,
   "metadata": {},
   "outputs": [],
   "source": [
    "'1'.__add__('1')"
   ]
  },
  {
   "cell_type": "code",
   "execution_count": null,
   "metadata": {},
   "outputs": [],
   "source": [
    "class Cat(Mammal):\n",
    "    \n",
    "    # переопределяем метод sound, чтобы кошка мяукала\n",
    "    def sound(self): \n",
    "        print(\"Meow!\")\n",
    "    \n",
    "class Dog(Mammal):\n",
    "    \n",
    "    # переопределяем метод sound, чтобы собака гавкала\n",
    "    def sound(self): \n",
    "        print(\"Woof!\")\n",
    "\n",
    "class Cow(Mammal):\n",
    "    \n",
    "    # переопределяем метод sound, чтобы корова мычала\n",
    "    def sound(self):\n",
    "        print(\"Mooo!\")"
   ]
  },
  {
   "cell_type": "code",
   "execution_count": null,
   "metadata": {},
   "outputs": [],
   "source": [
    "cat = Cat(name='Cat', scariness=2)\n",
    "dog = Dog(name='Dog', scariness=3)\n",
    "cow = Cow(name='Cow', scariness=1)"
   ]
  },
  {
   "cell_type": "markdown",
   "metadata": {},
   "source": [
    "Одинаковый интерфейс (название функциии и аргументы), разные действия в зависимости от конкретного класса-потомка:"
   ]
  },
  {
   "cell_type": "code",
   "execution_count": null,
   "metadata": {},
   "outputs": [],
   "source": [
    "for animal in [cat, dog, cow]:\n",
    "    print(\"%s wants to say something...\" % animal.name)\n",
    "    animal.sound()"
   ]
  },
  {
   "cell_type": "markdown",
   "metadata": {},
   "source": [
    "**Вопрос**: почему котопес мяукает? Как заставить котопса гавкать? "
   ]
  },
  {
   "cell_type": "code",
   "execution_count": null,
   "metadata": {},
   "outputs": [],
   "source": [
    "class CatDog(Cat, Dog):\n",
    "    pass"
   ]
  },
  {
   "cell_type": "code",
   "execution_count": null,
   "metadata": {},
   "outputs": [],
   "source": [
    "catdog = CatDog('CatDog', scariness=3)"
   ]
  },
  {
   "cell_type": "code",
   "execution_count": null,
   "metadata": {},
   "outputs": [],
   "source": [
    "catdog.sound()"
   ]
  }
 ],
 "metadata": {
  "kernelspec": {
   "display_name": "Python 3",
   "language": "python",
   "name": "python3"
  },
  "language_info": {
   "codemirror_mode": {
    "name": "ipython",
    "version": 3
   },
   "file_extension": ".py",
   "mimetype": "text/x-python",
   "name": "python",
   "nbconvert_exporter": "python",
   "pygments_lexer": "ipython3",
   "version": "3.7.4"
  }
 },
 "nbformat": 4,
 "nbformat_minor": 2
}
