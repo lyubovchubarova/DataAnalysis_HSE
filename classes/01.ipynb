{
 "cells": [
  {
   "cell_type": "markdown",
   "metadata": {
    "id": "zYanPKtzELqm"
   },
   "source": [
    "# Основы ООП"
   ]
  },
  {
   "cell_type": "markdown",
   "metadata": {
    "id": "aH06m9pW7dK7"
   },
   "source": [
    "## Класс и экземпляр"
   ]
  },
  {
   "cell_type": "code",
   "execution_count": null,
   "metadata": {
    "id": "9akaQ7eH7djJ"
   },
   "outputs": [],
   "source": [
    "from collections import Counter"
   ]
  },
  {
   "cell_type": "code",
   "execution_count": null,
   "metadata": {
    "id": "Q_H3-jMqoQ2c"
   },
   "outputs": [],
   "source": [
    "cnt = Counter('khgkrhiurunfumxxer')"
   ]
  },
  {
   "cell_type": "markdown",
   "metadata": {
    "id": "W3pQ3wCAtv90"
   },
   "source": [
    "Вопрос:\n",
    "+ что такое cnt, что такое Counter?\n",
    "+ что мы только что сделали?"
   ]
  },
  {
   "cell_type": "markdown",
   "metadata": {
    "id": "ou8SKCJg56mE"
   },
   "source": [
    "### Пример пользовательского класса"
   ]
  },
  {
   "cell_type": "code",
   "execution_count": null,
   "metadata": {
    "id": "lTo6NJ2_5903"
   },
   "outputs": [],
   "source": [
    "class Animal:\n",
    "    \"\"\"\n",
    "    Docstring\n",
    "    \"\"\"\n",
    " \n",
    "    # конструктор, вызывается при создании объекта \n",
    "    def __init__(self, name, legs, scariness):\n",
    "        \"\"\"\n",
    "        Constructor\n",
    "        \"\"\"\n",
    "        self.name = name # атрибуты (поля) класса\n",
    "        self.legs = legs\n",
    "        self.scariness = scariness\n",
    "        \n",
    "    \n",
    "    # метод класса\n",
    "    def introduce(self): \n",
    "        \"\"\"\n",
    "        Make animal introduce itself!\n",
    "        \"\"\"\n",
    "        print (\"Hello! My name is %s!\" % self.name)\n",
    "    \n",
    "    # метод класса\n",
    "    def sound(self):\n",
    "        \"\"\"\n",
    "        What does the animal say?\n",
    "        \"\"\"\n",
    "        print (\"Sound!\")\n"
   ]
  },
  {
   "cell_type": "markdown",
   "metadata": {
    "id": "BbYYgPG9yvuU"
   },
   "source": [
    "+ Название класса - всегда с большой буквы, всегда CamelCase\n",
    "+ Обязательный первый аргумент у всех методов класса - ***self***, переменная self ссылается на объект класса и позволяет получить доступ к атрибутам и методам. "
   ]
  },
  {
   "cell_type": "markdown",
   "metadata": {
    "id": "u01Qc41q7HMo"
   },
   "source": [
    "### Документация"
   ]
  },
  {
   "cell_type": "markdown",
   "metadata": {
    "id": "3BZFBkLZ6WND"
   },
   "source": [
    "Встроенная документация в тройных кавычках. Можно напечатать с помощью функции **help**. \n",
    "Выдаст нам ифнормацию о том, какие методы есть в классе и документацию к ним. "
   ]
  },
  {
   "cell_type": "code",
   "execution_count": null,
   "metadata": {
    "colab": {
     "base_uri": "https://localhost:8080/"
    },
    "id": "ZcYpDqty7s7j",
    "outputId": "f152025f-5427-498d-cad2-4d17bba76ab2"
   },
   "outputs": [],
   "source": [
    "help(Animal) # от объекта класса"
   ]
  },
  {
   "cell_type": "code",
   "execution_count": null,
   "metadata": {
    "colab": {
     "base_uri": "https://localhost:8080/"
    },
    "id": "uyNh_Oni-eDR",
    "outputId": "e23a7ea4-7701-47ec-cbed-ff3b2414e3ff"
   },
   "outputs": [],
   "source": [
    "animal = Animal('Animal', 4, 1)\n",
    "help(animal) # от объекта экземпляра класса"
   ]
  },
  {
   "cell_type": "markdown",
   "metadata": {
    "id": "q9Fc5TCm7uCz"
   },
   "source": [
    "#### dir()"
   ]
  },
  {
   "cell_type": "markdown",
   "metadata": {
    "id": "PFc6yj5p7y5m"
   },
   "source": [
    "Также информацию о свойствах класса/экземпляра можно получить с помощью функции ***dir()***\n",
    "Она озвращает имена переменных, доступные в локальной области, либо атрибуты указанного объекта в алфавитном порядке."
   ]
  },
  {
   "cell_type": "code",
   "execution_count": null,
   "metadata": {
    "colab": {
     "base_uri": "https://localhost:8080/"
    },
    "id": "QmLqBOTp7Ugx",
    "outputId": "18cd45bf-c43c-4617-dd6d-fb10403c34ca"
   },
   "outputs": [],
   "source": [
    "dir(Animal)"
   ]
  },
  {
   "cell_type": "code",
   "execution_count": null,
   "metadata": {
    "colab": {
     "base_uri": "https://localhost:8080/"
    },
    "id": "luDNFzUT8vaD",
    "outputId": "f08bf309-a4b7-47e8-a6d3-e6f69718620e"
   },
   "outputs": [],
   "source": [
    "dir(animal)"
   ]
  },
  {
   "cell_type": "markdown",
   "metadata": {
    "id": "pa6sv1jw8uwz"
   },
   "source": [
    "## Атрибуты экземпляра"
   ]
  },
  {
   "cell_type": "markdown",
   "metadata": {
    "id": "FmaJoySQLcMP"
   },
   "source": [
    "При создании класса в принципе ничего не мешает нам инициалирировать атрибуты  в любом методе, в любом месте. Но обычно все атрибуты стоит создавать внутри констуктора для того, чтобы все экземпляры класса имели одинаковую структуру (одинаковый набор атрибутов вне зависимости от вызванных методов). "
   ]
  },
  {
   "cell_type": "code",
   "execution_count": null,
   "metadata": {
    "colab": {
     "base_uri": "https://localhost:8080/"
    },
    "id": "jRFejrzX0rJY",
    "outputId": "2e50d501-6da8-4f17-a3cb-3bfac846f74e"
   },
   "outputs": [],
   "source": [
    "animal = Animal(name='Doggy', legs=4, scariness=8) # экземпляр класса\n",
    "print(animal.scariness)\n",
    "animal.sound()\n",
    "animal.introduce()"
   ]
  },
  {
   "cell_type": "markdown",
   "metadata": {
    "id": "TuGY0_Fm8fcN"
   },
   "source": [
    "Каждый экземпляр класса имеет свои значения атрибутов. Можно менять их после создания объекта, можно создавать новые. "
   ]
  },
  {
   "cell_type": "code",
   "execution_count": null,
   "metadata": {
    "colab": {
     "base_uri": "https://localhost:8080/"
    },
    "id": "1n8ypgoo1fqA",
    "outputId": "196d6da2-ca46-42b3-f2bf-e05b674fbf6e"
   },
   "outputs": [],
   "source": [
    "animal2 = Animal('Spidy', 8, 225)\n",
    "print(animal2.name)\n",
    "animal2.name = 'Spider' # меняем значение атрибута name\n",
    "print(animal2.name)"
   ]
  },
  {
   "cell_type": "code",
   "execution_count": null,
   "metadata": {
    "colab": {
     "base_uri": "https://localhost:8080/"
    },
    "id": "QyThWL-j0vmb",
    "outputId": "82bc6407-1ae2-4b4f-f8ef-a54c975b3cf5"
   },
   "outputs": [],
   "source": [
    "animal3 = Animal('Monster', legs=1.5, scariness=1000)\n",
    "print(animal3.legs)\n",
    "animal3.legs = 100 # меняем значение атрибута legs\n",
    "print(animal3.legs)"
   ]
  },
  {
   "cell_type": "code",
   "execution_count": null,
   "metadata": {
    "colab": {
     "base_uri": "https://localhost:8080/"
    },
    "id": "FUaR1vnBLoV0",
    "outputId": "750dfb69-37b8-4bf0-be98-e624586ff173"
   },
   "outputs": [],
   "source": [
    "animal2.new_attr = 10\n",
    "# отобразится в dir\n",
    "dir(animal2)"
   ]
  },
  {
   "cell_type": "code",
   "execution_count": null,
   "metadata": {
    "colab": {
     "base_uri": "https://localhost:8080/"
    },
    "id": "VeTIOXJo2GKp",
    "outputId": "91d96c5b-b08b-44b0-d45d-56adce64ec44"
   },
   "outputs": [],
   "source": [
    "# новый атрибут появляется только у того экземпляра, у которого его создали (не у всех)\n",
    "dir(animal2) == dir(animal3)"
   ]
  },
  {
   "cell_type": "markdown",
   "metadata": {
    "id": "GNnU0_8IFLRQ"
   },
   "source": [
    "## Атрибуты класса"
   ]
  },
  {
   "cell_type": "markdown",
   "metadata": {
    "id": "1iXmrsLrFP-N"
   },
   "source": [
    "У класса также могут быть свои поля, которые принадлежат не объекту экземпляра класса, а объекту класса."
   ]
  },
  {
   "cell_type": "code",
   "execution_count": null,
   "metadata": {
    "id": "KHQ9hfz32d0w"
   },
   "outputs": [],
   "source": [
    "class Animal:\n",
    "   \n",
    "    fav_food = 'pizza' # атрибут класса, вне __init__ и без self\n",
    "    \n",
    "    \n",
    "    def __init__(self, name, legs, scariness):\n",
    "        self.name = name \n",
    "        self.legs = legs\n",
    "        self.scariness = scariness\n",
    "    \n",
    "    def introduce(self): \n",
    "        print (\"Hello! My name is %s!\" % self.name)\n",
    "    \n",
    "    def sound(self):\n",
    "        print (\"Sound!\")\n",
    "\n",
    "    def tell_fav_food(self):\n",
    "        print(\"I like %s!\" % self.fav_food) # обращаемся с помощью self!\n",
    "    "
   ]
  },
  {
   "cell_type": "code",
   "execution_count": null,
   "metadata": {
    "id": "0Lu5GaXdK4HT"
   },
   "outputs": [],
   "source": [
    "animal = Animal(name='Doggy', legs=4, scariness=8)\n",
    "animal2 = Animal('Spidy', 8, 225)\n",
    "animal3 = Animal('Monster', legs=1.5, scariness=1000)"
   ]
  },
  {
   "cell_type": "code",
   "execution_count": null,
   "metadata": {
    "colab": {
     "base_uri": "https://localhost:8080/"
    },
    "id": "W6mny7LEOw9S",
    "outputId": "d478482b-b725-46ed-9d91-83346e16f10a"
   },
   "outputs": [],
   "source": [
    "animals = [animal, animal2, animal3]\n",
    "for animal_ in animals:\n",
    "    print(animal_.fav_food) # доступ через экземпляр"
   ]
  },
  {
   "cell_type": "code",
   "execution_count": null,
   "metadata": {
    "colab": {
     "base_uri": "https://localhost:8080/",
     "height": 35
    },
    "id": "5oeNaVZoPPCH",
    "outputId": "1776669a-1245-4d0a-c683-7e944e189388"
   },
   "outputs": [],
   "source": [
    "Animal.fav_food # доступ через класс"
   ]
  },
  {
   "cell_type": "code",
   "execution_count": null,
   "metadata": {
    "colab": {
     "base_uri": "https://localhost:8080/",
     "height": 163
    },
    "id": "VCOglGCMPgJd",
    "outputId": "37f6eed2-d106-4825-8685-9de272930aed"
   },
   "outputs": [],
   "source": [
    "Animal.name # к атрибутам экземпляра доступ через объект класса мы получить не можем. как вы думаете почему?"
   ]
  },
  {
   "cell_type": "markdown",
   "metadata": {
    "id": "nqHXlpnuW4Gm"
   },
   "source": [
    "Значение атрибута класса нельзя изменить через его экземпляр. Если попробовать это сделать так, как в коде ниже, то у экземпляра класса создается атрибут экземпляра с таким же именем. При этом значение этого атрибута у объекта класса и всех других его экземпляров не изменится."
   ]
  },
  {
   "cell_type": "code",
   "execution_count": null,
   "metadata": {
    "colab": {
     "base_uri": "https://localhost:8080/",
     "height": 35
    },
    "id": "9xQ4urcqW63y",
    "outputId": "971781a0-e5b5-4f69-8aa1-39b7ad3fd18a"
   },
   "outputs": [],
   "source": [
    "animal.fav_food = 'salad'\n",
    "animal.fav_food"
   ]
  },
  {
   "cell_type": "markdown",
   "metadata": {
    "id": "C0ZGJhPOY-QS"
   },
   "source": [
    "Доступ к атрибуту класса через переменную fav_food у этого экземпляра потерялся, так как она теперь ссылается на другой объект. Но обратиться к атрибуту класса мы все еще можем, он никуда не делся. "
   ]
  },
  {
   "cell_type": "code",
   "execution_count": null,
   "metadata": {
    "colab": {
     "base_uri": "https://localhost:8080/",
     "height": 35
    },
    "id": "F-uXnjSEZe0O",
    "outputId": "162eb150-20f3-42ca-d256-d40795421031"
   },
   "outputs": [],
   "source": [
    "animal.__class__.fav_food # __class__ ссылается на объект класса "
   ]
  },
  {
   "cell_type": "markdown",
   "metadata": {
    "id": "9W8WSHdPZsrQ"
   },
   "source": [
    "У остальных экземпляров атрибуты остались прежними"
   ]
  },
  {
   "cell_type": "code",
   "execution_count": null,
   "metadata": {
    "colab": {
     "base_uri": "https://localhost:8080/"
    },
    "id": "wxdZ1bT3XKrE",
    "outputId": "eebc8967-9865-4571-f588-e4a86a617fae"
   },
   "outputs": [],
   "source": [
    "print(animal2.fav_food, Animal.fav_food) "
   ]
  },
  {
   "cell_type": "markdown",
   "metadata": {
    "id": "KrxCC_3pXqEn"
   },
   "source": [
    "Можно поменять атрибут класса через объект класса"
   ]
  },
  {
   "cell_type": "code",
   "execution_count": null,
   "metadata": {
    "id": "l0p9ICq9XX45"
   },
   "outputs": [],
   "source": [
    "Animal.fav_food = 'sandwich'"
   ]
  },
  {
   "cell_type": "code",
   "execution_count": null,
   "metadata": {
    "colab": {
     "base_uri": "https://localhost:8080/"
    },
    "id": "eKPYzcowXi9l",
    "outputId": "a8c4d973-8672-4786-fc9d-596b0b7572fa"
   },
   "outputs": [],
   "source": [
    "print(animal2.fav_food, animal3.fav_food) # значение fav_food изменилось у всех объектов, где мы не перезаписывали атрибут экземпляра"
   ]
  },
  {
   "cell_type": "code",
   "execution_count": null,
   "metadata": {
    "colab": {
     "base_uri": "https://localhost:8080/",
     "height": 35
    },
    "id": "IpoBlBIUX4qe",
    "outputId": "6d7f53e4-916a-4ed9-b8d5-7404ba1b2d2e"
   },
   "outputs": [],
   "source": [
    "# как вы думаете, что выведет код?\n",
    "# print(animal.fav_food)\n",
    "# print(animal.__class__.fav_food)"
   ]
  },
  {
   "cell_type": "markdown",
   "metadata": {
    "id": "FMYbXemPb_Or"
   },
   "source": [
    "## \\_\\_dict\\_\\_"
   ]
  },
  {
   "cell_type": "markdown",
   "metadata": {
    "id": "A7oWYdqmcKIf"
   },
   "source": [
    "В упрощенном виде можно считать, что все объекты в питоне реализуются в виде словаря. Служебное поле ***\\_\\_dict\\_\\_*** позволяет работать с объектом как со словарем."
   ]
  },
  {
   "cell_type": "code",
   "execution_count": null,
   "metadata": {
    "colab": {
     "base_uri": "https://localhost:8080/"
    },
    "id": "D8PSKHCAcH9W",
    "outputId": "f8239380-6921-4ef4-8d71-69f74108a5ee"
   },
   "outputs": [],
   "source": [
    "animal2.__dict__"
   ]
  },
  {
   "cell_type": "code",
   "execution_count": null,
   "metadata": {
    "colab": {
     "base_uri": "https://localhost:8080/"
    },
    "id": "_7uxXNbVddem",
    "outputId": "fd7bb158-e8e3-4830-a09d-828c22e161f1"
   },
   "outputs": [],
   "source": [
    "Animal.__dict__"
   ]
  },
  {
   "cell_type": "code",
   "execution_count": null,
   "metadata": {
    "colab": {
     "base_uri": "https://localhost:8080/"
    },
    "id": "vWPQi8eRcDyt",
    "outputId": "3958711a-5511-4263-ebf7-08d1b90fee9c"
   },
   "outputs": [],
   "source": [
    "print(animal.__dict__['name']) # атрибут экземпляра\n",
    "animal.__dict__['name'] = 'Kitty' # можно перезаписать\n",
    "print(animal.__dict__['name'])"
   ]
  },
  {
   "cell_type": "markdown",
   "metadata": {
    "id": "l1ytbafBczzX"
   },
   "source": [
    "Поменять значение атрибута класса с помощью словаря не получится, так как mappingproxy это read-only контейнер. Это сделано для того, чтобы ключи в словаре атрибутов \\_\\_dict\\_\\_ (то есть названия атрибутов) могли быть только типа str и нельзя было добавить новый ключ другого типа (int например). Подробнее про это написано [здесь](https://stackoverflow.com/questions/32720492/why-is-a-class-dict-a-mappingproxy). \n"
   ]
  },
  {
   "cell_type": "code",
   "execution_count": null,
   "metadata": {
    "colab": {
     "base_uri": "https://localhost:8080/"
    },
    "id": "arX2zty7cnn0",
    "outputId": "d6d249ac-a032-4b90-fdf1-8040e22b087a",
    "scrolled": true
   },
   "outputs": [],
   "source": [
    "Animal.__dict__['fav_food'] = 'apple'"
   ]
  },
  {
   "cell_type": "markdown",
   "metadata": {},
   "source": [
    "В обычном словаре ключи могут иметь любой тип данных:"
   ]
  },
  {
   "cell_type": "code",
   "execution_count": null,
   "metadata": {},
   "outputs": [],
   "source": [
    "my_dict = {'a' : 'aaa', 1: '111'}"
   ]
  },
  {
   "cell_type": "markdown",
   "metadata": {},
   "source": [
    "С экземпляром класса мы можем проделать подобное, но ничего хорошего из этого не выйдет и получить доступ к такому атрибуту можно будет только через **\\_\\_dict\\_\\_**"
   ]
  },
  {
   "cell_type": "code",
   "execution_count": null,
   "metadata": {},
   "outputs": [],
   "source": [
    "animal.__dict__[1] = 1 # добавляем ключ типа int"
   ]
  },
  {
   "cell_type": "code",
   "execution_count": null,
   "metadata": {},
   "outputs": [],
   "source": [
    "animal.__dict__"
   ]
  },
  {
   "cell_type": "code",
   "execution_count": null,
   "metadata": {},
   "outputs": [],
   "source": [
    "dir(animal)"
   ]
  },
  {
   "cell_type": "markdown",
   "metadata": {},
   "source": [
    "### Магические методы класса"
   ]
  },
  {
   "cell_type": "markdown",
   "metadata": {},
   "source": [
    "Имена специальных методов выделены слева и справа двумя символами подчёркивания. Как можно заметить, метод ```__init__``` также является специальным.\n",
    "\n",
    "\n",
    "Рассмотрим назначение некоторых специальных методов.\n",
    "\n",
    "Метод ```__repr__``` вызывается стандартной функцией repr и возвращает строку, которая является представлением объекта в формате инициализации. Этот метод может быть также полезен, если необходимо вывести информацию об объектах, когда они являются элементами коллекции.\n",
    "\n",
    "\n",
    "Методы для операций сравнения:\n",
    "```\n",
    "__lt__(self, other) — <;\n",
    "__le__(self, other) — <=;\n",
    "__eq__(self, other) — ==;\n",
    "__ne__(self, other) — !=;\n",
    "__gt__(self, other) — >;\n",
    "__ge__(self, other) — >=\n",
    "```\n",
    "\n",
    "Метод ```__call__(arg1, arg2, ...)``` вызывается, когда сам объект вызывается как функция с аргументами.\n",
    "\n",
    "Математические операции:\n",
    "\n",
    "```\n",
    "__add__(self, other) — self + other;\n",
    "__sub__(self, other) — self - other;\n",
    "__mul__(self, other) — self * other;\n",
    "__matmul__(self, other) — self @ other;\n",
    "__truediv__(self, other) — self / other;\n",
    "__floordiv__(self, other) — self // other;\n",
    "__mod__(self, other) — self % other;\n",
    "__divmod__(self, other) — divmod(self, other);\n",
    "__pow__(self, other) — self ** other;\n",
    "__lshift__(self, other) — self << other;\n",
    "__rshift__(self, other) — self >> other;\n",
    "__and__(self, other) — self & other;\n",
    "__xor__(self, other) — self ^ other;\n",
    "__or__(self, other) — self | other;\n",
    "__radd__(self, other) — other + self;\n",
    "__rsub__(self, other) — other - self;\n",
    "__rmul__(self, other) — other * self;\n",
    "\n",
    "```\n",
    "\n",
    "[Полная документация](https://docs.python.org/3/reference/datamodel.html#special-method-names) для магических методов"
   ]
  }
 ],
 "metadata": {
  "colab": {
   "name": "13.ipynb",
   "provenance": []
  },
  "kernelspec": {
   "display_name": "Python 3",
   "language": "python",
   "name": "python3"
  },
  "language_info": {
   "codemirror_mode": {
    "name": "ipython",
    "version": 3
   },
   "file_extension": ".py",
   "mimetype": "text/x-python",
   "name": "python",
   "nbconvert_exporter": "python",
   "pygments_lexer": "ipython3",
   "version": "3.7.4"
  }
 },
 "nbformat": 4,
 "nbformat_minor": 1
}
