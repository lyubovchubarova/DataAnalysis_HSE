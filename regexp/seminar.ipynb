{
  "cells": [
    {
      "cell_type": "markdown",
      "metadata": {
        "id": "YYsNXFVl-Bv1"
      },
      "source": [
        "# Регулярные выражения в Python"
      ]
    },
    {
      "cell_type": "markdown",
      "metadata": {
        "id": "ArAsHDFN-Bv2"
      },
      "source": [
        "<a href=\"https://colab.research.google.com/github/dm-fedorov/pandas_basic/blob/master/кейсы%20по%20анализу%20данных/Регулярные_выражения_в_pandas.ipynb\" target=\"_blank\"><img align=\"left\" src=\"https://colab.research.google.com/assets/colab-badge.svg\" alt=\"Open in Colab\" title=\"Open and Execute in Google Colaboratory\"></a>"
      ]
    },
    {
      "cell_type": "markdown",
      "metadata": {
        "id": "_Ec00CI_-Bv3"
      },
      "source": [
        "> Отрывок из прекрасной книги *Дейтел Пол, Дейтел Харви. Python: Искусственный интеллект, большие данные и облачные вычисления*."
      ]
    },
    {
      "cell_type": "markdown",
      "metadata": {
        "id": "XbPffkey-Bv3"
      },
      "source": [
        "Строка с регулярным выражением описывает шаблон для поиска совпадений в других строках."
      ]
    },
    {
      "cell_type": "markdown",
      "metadata": {
        "id": "sxLdUksf-Bv3"
      },
      "source": [
        "На веб-сайтах:\n",
        "- https://regex101.com\n",
        "- http://www.regexlib.com\n",
        "- https://www.regular-expressions.info\n",
        "\n",
        "имеются репозитории готовых регулярных выражений.\n",
        "\n",
        "> см. официальный документ [Regular Expression HOWTO](https://docs.python.org/3/howto/regex.html#regex-howto)"
      ]
    },
    {
      "cell_type": "code",
      "execution_count": null,
      "metadata": {
        "id": "xiupWURL-Bv3"
      },
      "outputs": [],
      "source": [
        "# импортируем модуль для работы с регулярными выражениями: https://docs.python.org/3/library/re.html\n",
        "import re"
      ]
    },
    {
      "cell_type": "markdown",
      "metadata": {
        "id": "oSOUQEq6-Bv4"
      },
      "source": [
        "Одна из простейших функций регулярных выражений [`fullmatch`](https://docs.python.org/3/library/re.html#re.fullmatch) проверяет, совпадает ли шаблон, заданный первым аргументом, со всей строкой, заданной вторым аргументом."
      ]
    },
    {
      "cell_type": "markdown",
      "metadata": {
        "id": "znP0G4mi-Bv4"
      },
      "source": [
        "Начнем с проверки совпадений для литеральных символов, то есть символов, которые совпадают сами с собой:"
      ]
    },
    {
      "cell_type": "code",
      "execution_count": null,
      "metadata": {
        "id": "FqxY08t5-Bv4"
      },
      "outputs": [],
      "source": [
        "pattern = '02215'"
      ]
    },
    {
      "cell_type": "code",
      "execution_count": null,
      "metadata": {
        "id": "mOIFzNow-Bv4",
        "outputId": "f2d4dbc1-d535-4799-ab3b-1207f7803e05"
      },
      "outputs": [],
      "source": [
        "# тернарный if\n",
        "'Match' if re.fullmatch(pattern, '02215') else 'No match'"
      ]
    },
    {
      "cell_type": "code",
      "execution_count": null,
      "metadata": {
        "id": "m3sNToOc-Bv4",
        "outputId": "580beb9a-d57f-400a-c595-5f1160ff4e5c"
      },
      "outputs": [],
      "source": [
        "'Match' if re.fullmatch(pattern, '51220') else 'No match'"
      ]
    },
    {
      "cell_type": "markdown",
      "metadata": {
        "id": "tGPYpflE-Bv5"
      },
      "source": [
        "Первым аргументом функции является регулярное выражение — шаблон, для которого проверяется совпадение в строке. Любая строка может быть регулярным выражением. Значение переменной `pattern` `'02215'` состоит из цифровых литералов, которые совпадают только сами с собой в заданном порядке. Во втором аргументе передается строка, с которой должен полностью совпасть шаблон.\n",
        "\n",
        "Если шаблон из первого аргумента совпадает со строкой из второго аргумента, `fullmatch` возвращает объект с текстом совпадения, который интерпретируется как `True`.\n",
        "\n",
        "Во фрагменте второй аргумент содержит те же цифры, но эти цифры следуют в другом порядке. Таким образом, совпадения нет, а `fullmatch` возвращает `None`, что интерпретируется как `False`."
      ]
    },
    {
      "cell_type": "markdown",
      "metadata": {},
      "source": [
        "---\n",
        "### Задание\n",
        "\n",
        "Напишите функцию, которая принимает на вход имя на русском языке, фамилию на русском языке и логин на латинице и проверяет, что логин в точности равен первая буква имени + фамилия. Пользуйтесь регулярными выражениями и модулем `transliterate`\n",
        "\n",
        "Примеры\n",
        "\n",
        "```\n",
        ">>> check_login(name=\"Василий\", surname=\"Пупкин\", login=\"vpupkin\")\n",
        ">>> True\n",
        "\n",
        ">>> check_login(name=\"Алла\", surname=\"Пугачева\", login=\"allapugacheva\")\n",
        ">>> False\n",
        "```\n",
        "---"
      ]
    },
    {
      "cell_type": "markdown",
      "metadata": {
        "id": "ywvsdDls-Bv5"
      },
      "source": [
        "Регулярные выражения обычно содержат различные специальные символы, которые называются метасимволами:\n",
        "\n",
        "`[] {} () \\ * + ^ $ ? . |`"
      ]
    },
    {
      "cell_type": "markdown",
      "metadata": {
        "id": "iqf6w79_-Bv5"
      },
      "source": [
        "С метасимвола `\\` начинается каждый из предварительно определенных *символьных классов*, каждый из которых совпадает с символом из конкретного набора.\n",
        "\n",
        "Проверим, что почтовый код состоит из пяти цифр:"
      ]
    },
    {
      "cell_type": "code",
      "execution_count": null,
      "metadata": {
        "id": "BySvC-mq-Bv5",
        "outputId": "b72cd245-918a-4bf0-9ee9-746c13d65161"
      },
      "outputs": [],
      "source": [
        "'Valid' if re.fullmatch(r'\\d{5}', '02215') else 'Invalid'"
      ]
    },
    {
      "cell_type": "code",
      "execution_count": null,
      "metadata": {
        "id": "qRV0ZgMD-Bv5",
        "outputId": "0dc3870f-52ca-44c5-a823-22720e7be686"
      },
      "outputs": [],
      "source": [
        "'Valid' if re.fullmatch(r'\\d{5}', '9876') else 'Invalid'"
      ]
    },
    {
      "cell_type": "markdown",
      "metadata": {
        "id": "y2CQsBNp-Bv6"
      },
      "source": [
        "В регулярном выражении `\\d{5}` `\\d` является символьным классом, представляющим цифру `(0–9)`.\n",
        "\n",
        "*Символьный класс* — служебная последовательность в регулярном выражении, совпадающая с одним символом. Чтобы совпадение могло состоять из нескольких символов, за символьным классом следует указать *квантификатор*.\n",
        "\n",
        "Квантификатор `{5}` повторяет `\\d` пять раз, как если бы мы использовали запись `\\d\\d\\d\\d\\d` для совпадения с пятью последовательными цифрами.\n",
        "\n",
        "Во фрагменте `fullmatch` возвращает `None`, потому что `'9876'` совпадает только с четырьмя последовательными цифровыми символами."
      ]
    },
    {
      "cell_type": "markdown",
      "metadata": {
        "id": "6r-TFqBO-Bv6"
      },
      "source": [
        "Ниже перечислены некоторые предопределенные символьные классы и группы символов, с которыми они совпадают.\n",
        "\n",
        "- `\\d` Любая цифра `(0–9)`\n",
        "- `\\D` Любой символ, кроме цифр\n",
        "- `\\s` Любой символ-пропуск (пробелы, табуляции, новые строки)\n",
        "- `\\S` Любой символ, кроме пропусков\n",
        "- `\\w` Любой символ слова (также называемый алфавитно-цифровым символом) — то есть любая буква верхнего или нижнего регистра, любая цифра или символ подчеркивания\n",
        "- `\\W` Любой символ, кроме символов слов\n",
        "\n",
        "Чтобы любой метасимвол совпадал со своим литеральным значением, поставьте перед ним символ `\\` (обратный слеш). Например, `\\\\` совпадает с обратным слешем `( \\ )`, а `\\$` совпадает со знаком `$`."
      ]
    },
    {
      "cell_type": "markdown",
      "metadata": {},
      "source": [
        "---\n",
        "\n",
        "### Задача: Проверка телефонного номера\n",
        "Напишите программу, которая проверяет, является ли заданная строка корректным номером телефона состоящим из 10 цифр. Используйте регулярное выражение и функцию fullmatch. Пример правильного ввода: \"1234567890\".\n",
        "\n",
        "Ожидаемый результат:\n",
        "- Ввод: \"1234567890\" → Вывод: \"Valid\"\n",
        "- Ввод: \"12345\" → Вывод: \"Invalid\"\n",
        "\n",
        "### Задача: Проверка идентификатора\n",
        "Создайте программу, которая принимает строку и проверяет, является ли она корректным идентификатором. Идентификатор должен начинаться с буквы, за которой следуют цифры, а общая длина должна составлять от 5 до 10 символов.\n",
        "\n",
        "Ожидаемый результат:\n",
        "- Ввод: \"a1234\" → Вывод: \"Valid\"\n",
        "- Ввод: \"1abc2\" → Вывод: \"Invalid\"\n",
        "\n",
        "---"
      ]
    },
    {
      "cell_type": "markdown",
      "metadata": {
        "id": "EWtF_zZF-Bv6"
      },
      "source": [
        "Квадратные скобки `[]` определяют *пользовательский символьный класс*, совпадающий с одним символом. Так, `[aeiou]` совпадает с гласной буквой нижнего регистра, `[A-Z]` — с буквой верхнего регистра, `[a-z]` — с буквой нижнего регистра и `[a-zA-Z]` — с любой буквой нижнего (верхнего) регистра.\n",
        "\n",
        "Выполним простую проверку имени — последовательности букв без пробелов или знаков препинания. Проверим, что последовательность начинается с буквы верхнего регистра `( A–Z )`, а за ней следует *произвольное количество* букв нижнего регистра `( a–z )`:"
      ]
    },
    {
      "cell_type": "code",
      "execution_count": null,
      "metadata": {
        "id": "fSqoNYVZ-Bv6",
        "outputId": "dd7362db-5f0c-49a7-9faf-b47e85da3287"
      },
      "outputs": [],
      "source": [
        "'Valid' if re.fullmatch('[A-Z][a-z]*', 'Wally') else 'Invalid'"
      ]
    },
    {
      "cell_type": "code",
      "execution_count": null,
      "metadata": {
        "id": "KyA754hB-Bv6",
        "outputId": "8d7c18e8-de2e-406b-9021-a64b6786c82a"
      },
      "outputs": [],
      "source": [
        "'Valid' if re.fullmatch('[A-Z][a-z]*', 'eva') else 'Invalid'"
      ]
    },
    {
      "cell_type": "markdown",
      "metadata": {},
      "source": [
        "---\n",
        "\n",
        "### Задача: Проверка русскости\n",
        "Напишите программу, которая проверяет, что строка написана на русском языке, то есть состоит только из русских букв, цифр, пробелов и знаков препинания\n",
        "\n",
        "Ожидаемый результат:\n",
        "- Ввод: \"Матушка земля, белая березонька!\" → Вывод: \"Valid\"\n",
        "- Ввод: \"52! Санкт-Петербург!\" → Вывод: \"Valid\"\n",
        "- Ввод: \"Смотря какой fabric, смотря откуда приходит fabric, смотря сколько details в этом пиджаке\" → Вывод: \"Invalid\"\n",
        "\n",
        "---"
      ]
    },
    {
      "cell_type": "markdown",
      "metadata": {
        "id": "cuY2s6Y5-Bv6"
      },
      "source": [
        "Имя может содержать неизвестное заранее количество букв.\n",
        "\n",
        "Квантификатор `*` совпадает с *нулем и более вхождениями* подвыражения, находящегося слева (в данном случае `[a-z]`). Таким образом, `[A-Z][a-z]*` совпадает с буквой верхнего регистра, за которой следует нуль и более букв нижнего регистра (например, `'Amanda'` , `'Bo'` и даже `'E'`).\n",
        "\n",
        "Если пользовательский символьный класс начинается с символа `^` (крышка), то класс совпадает с любым символом, который не подходит под определение из класса. Таким образом, `[^a-z]` совпадает с любым символом, который не является буквой нижнего регистра:"
      ]
    },
    {
      "cell_type": "code",
      "execution_count": null,
      "metadata": {
        "id": "5hCjB3KL-Bv6",
        "outputId": "604d39cd-f3c0-48f6-eedb-c5047ae0ab83"
      },
      "outputs": [],
      "source": [
        "'Match' if re.fullmatch('[^a-z]', 'A') else 'No match'"
      ]
    },
    {
      "cell_type": "code",
      "execution_count": null,
      "metadata": {
        "id": "0hvwcELB-Bv6",
        "outputId": "e1594171-11bf-42d4-86f9-d1714735046d"
      },
      "outputs": [],
      "source": [
        "'Match' if re.fullmatch('[^a-z]', 'a') else 'No match'"
      ]
    },
    {
      "cell_type": "markdown",
      "metadata": {},
      "source": [
        "---\n",
        "\n",
        "### Задача: Проверка нерусскости\n",
        "Напишите программу, которая проверяет, что строка написана НЕ на русском языке, то есть в ней нет русских букв. \n",
        "Используйте результаты предыдущей работы\n",
        "\n",
        "Ожидаемый результат:\n",
        "- Ввод: \"Матушка земля, белая березонька!\" → Вывод: \"Inalid\"\n",
        "- Ввод: \"52! Санкт-Петербург!\" → Вывод: \"Invalid\"\n",
        "- Ввод: \"Смотря какой fabric, смотря откуда приходит fabric, смотря сколько details в этом пиджаке\" → Вывод: \"Invalid\"\n",
        "- Ввод: \"It takes so long, it takes so long for you to call back!\" → Вывод: \"Valid\"\n",
        "\n",
        "---"
      ]
    },
    {
      "cell_type": "markdown",
      "metadata": {
        "id": "aXVRT3Py-Bv7"
      },
      "source": [
        "Метасимволы в пользовательском символьном классе интерпретируются как литеральные символы, то есть как сами символы, не имеющие специального смысла.\n",
        "\n",
        "Таким образом, символьный класс `[*+$]` совпадает с одним из символов `*` , `+` или `$`:"
      ]
    },
    {
      "cell_type": "code",
      "execution_count": null,
      "metadata": {
        "id": "wtc4d6Xx-Bv7",
        "outputId": "d08b2c05-4490-434e-9379-e7a335633b6f"
      },
      "outputs": [],
      "source": [
        "'Match' if re.fullmatch('[*+$]', '*') else 'No match'"
      ]
    },
    {
      "cell_type": "code",
      "execution_count": null,
      "metadata": {
        "id": "hHrETAR9-Bv7",
        "outputId": "3fbee302-746a-4d3a-a154-c97940ee984e"
      },
      "outputs": [],
      "source": [
        "'Match' if re.fullmatch('[*+$]', '!') else 'No match'"
      ]
    },
    {
      "cell_type": "markdown",
      "metadata": {
        "id": "9jklITK2-Bv7"
      },
      "source": [
        "Для того чтобы имя содержало хотя бы одну букву нижнего регистра, квантификатор `*` во фрагменте можно заменить знаком `+`, который совпадает по крайней мере с одним вхождением подвыражения:"
      ]
    },
    {
      "cell_type": "code",
      "execution_count": null,
      "metadata": {
        "id": "VtjqdTMH-Bv7",
        "outputId": "e5e43b3d-5b67-45d1-a303-efc60de140dc"
      },
      "outputs": [],
      "source": [
        "'Valid' if re.fullmatch('[A-Z][a-z]+', 'Wally') else 'Invalid'"
      ]
    },
    {
      "cell_type": "code",
      "execution_count": null,
      "metadata": {
        "id": "SRIMPmHt-Bv7",
        "outputId": "78bd4b0b-f6c4-4687-df59-38dbd62550e8"
      },
      "outputs": [],
      "source": [
        "'Valid' if re.fullmatch('[A-Z][a-z]+', 'E') else 'Invalid'"
      ]
    },
    {
      "cell_type": "markdown",
      "metadata": {
        "id": "IY13AXbz-Bv7"
      },
      "source": [
        "Квантификаторы `*` и `+` являются максимальными (*\"жадными\"*) — они совпадают с максимально возможным количеством символов.\n",
        "\n",
        "Таким образом, регулярные выражения `[A-Z][a-z]+` совпадают с именами `'Al'` , `'Eva'` , `'Samantha'` , `'Benjamin'` и любыми другими словами, начинающимися с буквы верхнего регистра, за которой следует хотя бы одна буква нижнего регистра."
      ]
    },
    {
      "cell_type": "markdown",
      "metadata": {},
      "source": [
        "---\n",
        "### Задача: ABCDEFU\n",
        "Иногда так бывает, что всякие неприятные выражения или информация, которую хотят скрыть, заменяются звездочками.\n",
        "Вам на вход подается строка, где слова разделены пробелами. Нужно вывести все позиции таких слов в предложении\n",
        "\n",
        "\n",
        "\n",
        "Ожидаемый результат:\n",
        "- Ввод: \"Матушка земля белая *********\" → Вывод: 4\n",
        "- Ввод: \"В городе ***** было обнаружено ****** кг *** сообщает Комсомольская правда\" → Вывод: 3, 6, 8\n",
        "- Ввод: \"Красиво жить не запретишь!\" → Вывод: \n",
        "---"
      ]
    },
    {
      "cell_type": "markdown",
      "metadata": {
        "id": "Y5yklgOb-Bv7"
      },
      "source": [
        "Квантификатор `?` совпадает *с нулем или одним вхождением* подвыражения:"
      ]
    },
    {
      "cell_type": "code",
      "execution_count": null,
      "metadata": {
        "id": "XFzOFJiR-Bv8",
        "outputId": "ee2ae9a6-10f8-44ea-88b7-0b81e945ff90"
      },
      "outputs": [],
      "source": [
        "'Match' if re.fullmatch('labell?ed', 'labelled') else 'No match'"
      ]
    },
    {
      "cell_type": "code",
      "execution_count": null,
      "metadata": {
        "id": "H8-AKPUC-Bv8",
        "outputId": "020cdddd-d92c-4975-dd18-78b9d2b620c7"
      },
      "outputs": [],
      "source": [
        "'Match' if re.fullmatch('labell?ed', 'labeled') else 'No match'"
      ]
    },
    {
      "cell_type": "code",
      "execution_count": null,
      "metadata": {
        "id": "Al-3Qd-f-Bv8",
        "outputId": "21f648f2-f756-4413-e8ad-38a531998e38"
      },
      "outputs": [],
      "source": [
        "'Match' if re.fullmatch('labell?ed', 'labellled') else 'No match'"
      ]
    },
    {
      "cell_type": "markdown",
      "metadata": {},
      "source": [
        "Регулярное выражение `labell?ed` совпадает со словами `labelled` и `labeled` , но не с ошибочно написанным словом `labellled`. В каждом из приведенных выше фрагментов первые пять литеральных символов регулярного выражения `( label )` совпадают с первыми пятью символами второго аргумента. Часть `l?` означает, что оставшимся литеральным символам `ed` может предшествовать нуль или один символ `l` ."
      ]
    },
    {
      "cell_type": "markdown",
      "metadata": {},
      "source": [
        "---\n",
        "\n",
        "### Задача: Проверка формата телефонного номера\n",
        "\n",
        "Напишите программу, которая проверяет, соответствует ли строка формату телефонного номера. Номер может начинаться с плюса, который обозначается знаком плюс и одной-двумя цифрами.\n",
        "\n",
        "Правила:\n",
        "- Номер может начинаться с кода страны: \"+\" и одна или две цифры.\n",
        "- Далее следуют 10 цифр.\n",
        "\n",
        "Ожидаемый результат:\n",
        "- Ввод: \"+11234567890\" → Вывод: \"Match\"\n",
        "- Ввод: \"1234567890\" → Вывод: \"Match\"\n",
        "- Ввод: \"+12 34567890\" → Вывод: \"No match\"\n",
        "- Ввод: \"+123456789\" → Вывод: \"No match\"\n",
        "\n",
        "---"
      ]
    },
    {
      "cell_type": "markdown",
      "metadata": {
        "id": "IoQ2Ysft-Bv8"
      },
      "source": [
        "\n",
        "Квантификатор `{n,}` совпадает *не менее чем* с `n` вхождениями подвыражения. Следующее регулярное выражение совпадает со строками, содержащими не менее трех цифр:"
      ]
    },
    {
      "cell_type": "code",
      "execution_count": null,
      "metadata": {
        "id": "3HvfiR2i-Bv9",
        "outputId": "08298a34-66d2-426b-d6f8-82a3a84647cd"
      },
      "outputs": [],
      "source": [
        "'Match' if re.fullmatch(r'\\d{3,}', '123') else 'No match'"
      ]
    },
    {
      "cell_type": "code",
      "execution_count": null,
      "metadata": {
        "id": "v5a_99i9-Bv9",
        "outputId": "425e77c9-d5bd-4aba-de93-f7b0007bb82d"
      },
      "outputs": [],
      "source": [
        "'Match' if re.fullmatch(r'\\d{3,}', '1234567890') else 'No match'"
      ]
    },
    {
      "cell_type": "code",
      "execution_count": null,
      "metadata": {
        "id": "S9sE0u9i-Bv9",
        "outputId": "826afb4a-0725-4386-a1d8-1a17768f9408"
      },
      "outputs": [],
      "source": [
        "'Match' if re.fullmatch(r'\\d{3,}', '12') else 'No match'"
      ]
    },
    {
      "cell_type": "markdown",
      "metadata": {
        "id": "U4eNBk4f-Bv9"
      },
      "source": [
        "Чтобы совпадение включало от `n` до `m` (включительно) вхождений, используйте квантификатор `{n,m}`. Следующее регулярное выражение совпадает со строками, содержащими от `3` до `6` цифр:"
      ]
    },
    {
      "cell_type": "code",
      "execution_count": null,
      "metadata": {
        "id": "kWKcI-qB-Bv-",
        "outputId": "970c6b88-ff92-44fd-842d-a63625cca940"
      },
      "outputs": [],
      "source": [
        "'Match' if re.fullmatch(r'\\d{3,6}', '123') else 'No match'"
      ]
    },
    {
      "cell_type": "code",
      "execution_count": null,
      "metadata": {
        "id": "mZfmG9MW-Bv-",
        "outputId": "39691e69-2d69-45ad-e2af-2a9e6cb8d7a3"
      },
      "outputs": [],
      "source": [
        "'Match' if re.fullmatch(r'\\d{3,6}', '123456') else 'No match'"
      ]
    },
    {
      "cell_type": "code",
      "execution_count": null,
      "metadata": {
        "id": "1619MgvH-Bv-",
        "outputId": "11a2869e-deca-437a-ede3-aeef92f5f88c"
      },
      "outputs": [],
      "source": [
        "'Match' if re.fullmatch(r'\\d{3,6}', '1234567') else 'No match'"
      ]
    },
    {
      "cell_type": "code",
      "execution_count": null,
      "metadata": {
        "id": "8k2_ChIp-Bv-",
        "outputId": "adb0d047-5bd3-4268-b183-a44dc0e481f2"
      },
      "outputs": [],
      "source": [
        "'Match' if re.fullmatch(r'\\d{3,6}', '12') else 'No match'"
      ]
    },
    {
      "cell_type": "markdown",
      "metadata": {},
      "source": [
        "---\n",
        "### Задача: Проверка формата даты\n",
        "\n",
        "Напишите программу, которая проверяет, соответствует ли строка формату даты в виде \"дд/мм/гггг\". День и месяц могут содержать одну или две цифры, год — обязательно четыре цифры.\n",
        "\n",
        "Правила:\n",
        "- День и месяц могут быть записаны с одной или двумя цифрами.\n",
        "- Год состоит ровно из четырех цифр.\n",
        "- Разделитель между элементами — слеш \"/\".\n",
        "\n",
        "Ожидаемый результат:\n",
        "- Ввод: \"3/7/2023\" → Вывод: \"Match\"\n",
        "- Ввод: \"12/12/2022\" → Вывод: \"Match\"\n",
        "- Ввод: \"31/09/21\" → Вывод: \"No match\"\n",
        "- Ввод: \"01/1/2022\" → Вывод: \"Match\"\n",
        "---"
      ]
    },
    {
      "cell_type": "markdown",
      "metadata": {
        "id": "nVY9CuSb-Bv_"
      },
      "source": [
        "Модуль `re` предоставляет функцию [`sub`](https://docs.python.org/3/library/re.html#re.sub) для замены совпадений шаблона в строке, а также функцию [`split`](https://docs.python.org/3/library/re.html#re.Pattern.split) для разбиения строки на фрагменты на основании шаблонов."
      ]
    },
    {
      "cell_type": "markdown",
      "metadata": {
        "id": "TU9LmiUz-Bv_"
      },
      "source": [
        "По умолчанию функция `sub` модуля `re` заменяет все вхождения шаблона заданным текстом.\n",
        "\n",
        "Преобразуем строку, разделенную табуляциями, в формат с разделением запятыми:"
      ]
    },
    {
      "cell_type": "code",
      "execution_count": null,
      "metadata": {
        "id": "xwT2lByx-Bv_"
      },
      "outputs": [],
      "source": [
        "import re"
      ]
    },
    {
      "cell_type": "code",
      "execution_count": null,
      "metadata": {
        "id": "BkgcxyEp-Bv_",
        "outputId": "3421a042-2664-4fa3-b99f-bc8dfcb05246"
      },
      "outputs": [],
      "source": [
        "re.sub(r'\\t', ', ', '1\\t2\\t3\\t4')"
      ]
    },
    {
      "cell_type": "markdown",
      "metadata": {
        "id": "UOB_kgPK-Bv_"
      },
      "source": [
        "Функция `sub` получает три обязательных аргумента:\n",
        "\n",
        "- шаблон для поиска (символ табуляции `'\\t'`);\n",
        "- текст замены ( `', '` );\n",
        "- строка, в которой ведется поиск ( `'1\\t2\\t3\\t4'` ),\n",
        "\n",
        "и возвращает новую строку.\n",
        "\n",
        "Ключевой аргумент `count` может использоваться для определения максимального количества замен:"
      ]
    },
    {
      "cell_type": "code",
      "execution_count": null,
      "metadata": {
        "id": "2qE-5oiX-Bv_",
        "outputId": "7da184e5-9732-4de5-dbbb-9a432c29ba34"
      },
      "outputs": [],
      "source": [
        "re.sub(r'\\t', ', ', '1\\t2\\t3\\t4', count=2)"
      ]
    },
    {
      "cell_type": "markdown",
      "metadata": {},
      "source": [
        "---\n",
        "### Задача: Замена пробелов на тире\n",
        "\n",
        "Напишите программу, которая заменяет все пробелы в строке на тире, но только дважды.\n",
        "\n",
        "Пример:\n",
        "\n",
        "- Ввод: \"Hello world this is a test\"\n",
        "- Вывод: \"Hello-world-this is a test\"\n",
        "\n",
        "### Задача: Переименование файлов\n",
        "\n",
        "У вас есть список имён файлов, разделённых точкой. Напишите программу, которая заменяет все точки в строке на подчеркивания, кроме последней, которая является разделителем расширения.\n",
        "\n",
        "Пример:\n",
        "\n",
        "- Ввод: \"my.file.name.txt\"\n",
        "- Вывод: \"my_file_name.txt\"\n",
        "---"
      ]
    },
    {
      "cell_type": "markdown",
      "metadata": {
        "id": "kFZ7zS_O-Bv_"
      },
      "source": [
        "Функция `split` разбивает строку на лексемы, используя регулярное выражение для определения ограничителя, и возвращает список строк.\n",
        "\n",
        "Разобьем строку по запятым, за которыми следует `0` или более пропусков — для обозначения пропусков используется символьный класс `\\s` , а `*` обозначает `0` и более вхождений предшествующего подвыражения:"
      ]
    },
    {
      "cell_type": "code",
      "execution_count": null,
      "metadata": {
        "id": "LlviZ8QG-BwA",
        "outputId": "324737fe-f88f-4e20-fad5-40c1570d5e2d"
      },
      "outputs": [],
      "source": [
        "re.split(r',\\s*', '1, 2, 3,4,        5,6,7,8')"
      ]
    },
    {
      "cell_type": "markdown",
      "metadata": {
        "id": "rznRGEgn-BwA"
      },
      "source": [
        "Ключевой аргумент `maxsplit` задает максимальное количество разбиений:"
      ]
    },
    {
      "cell_type": "code",
      "execution_count": null,
      "metadata": {
        "id": "ZllGqLYs-BwA",
        "outputId": "5862d2c9-8bf3-4521-d58f-b6ed9cbc2836"
      },
      "outputs": [],
      "source": [
        "re.split(r',\\s*', '1,   2, 3,4,            5,6,7,8', maxsplit=3)"
      ]
    },
    {
      "cell_type": "markdown",
      "metadata": {
        "id": "QqsVvzVs-BwA"
      },
      "source": [
        "В данном случае после трех разбиений четвертая строка содержит остаток исходной строки."
      ]
    },
    {
      "cell_type": "markdown",
      "metadata": {},
      "source": [
        "---\n",
        "### Задача: Разбиение строки с фиксированным числом элементов\n",
        "\n",
        "Напишите программу, которая разбивает строку на элементы по точкам с учётом того, что после последней точки могут следовать пробелы. Разбивать нужно не больше трех раз.\n",
        "\n",
        "Пример:\n",
        "\n",
        "- Ввод: \"python.is.cool. .language.\"\n",
        "- Вывод: ['python', 'is', 'cool', ' .language.']\n",
        "\n",
        "### Задача: Разбиение строки с учётом ведущих и замыкающих пробелов\n",
        "\n",
        "Напишите программу, которая разбивает строку на элементы по запятым с учётом, что до или после запятой могут быть пробелы. Учитывайте ведущие и замыкающие пробелы в результате.\n",
        "\n",
        "Пример:\n",
        "\n",
        "- Ввод: \"  one , two ,three,  four,five \"\n",
        "- Вывод: ['one', 'two', 'three', 'four', 'five']\n",
        "---"
      ]
    },
    {
      "cell_type": "markdown",
      "metadata": {
        "id": "88hiMpuq-BwA"
      },
      "source": [
        "Ранее мы использовали функцию `fullmatch` для определения того, совпала ли вся строка с регулярным выражением. Но существует и ряд других функций поиска совпадений.\n",
        "\n",
        "Функция [`search`](https://docs.python.org/3/library/re.html#re.Pattern.search) ищет в строке *первое вхождение подстроки*, совпадающей с регулярным выражением, и *возвращает объект совпадения* (типа [`SRE_Match`](https://docs.python.org/3/library/re.html#match-objects)), содержащий подстроку с совпадением.\n",
        "\n",
        "Метод [`group`](https://docs.python.org/3/library/re.html#re.Match.group) объекта совпадения возвращает эту подстроку:"
      ]
    },
    {
      "cell_type": "code",
      "execution_count": 3,
      "metadata": {
        "id": "5QsV_5Xt-BwA"
      },
      "outputs": [],
      "source": [
        "import re"
      ]
    },
    {
      "cell_type": "code",
      "execution_count": 4,
      "metadata": {
        "id": "Fng0YwQm-BwA"
      },
      "outputs": [],
      "source": [
        "result = re.search('Python', 'Python is fun')"
      ]
    },
    {
      "cell_type": "code",
      "execution_count": 5,
      "metadata": {
        "id": "XpkxyA-Q-BwA",
        "outputId": "afc909df-7d12-4090-d86b-dfa10c588e93"
      },
      "outputs": [
        {
          "data": {
            "text/plain": [
              "'Python'"
            ]
          },
          "execution_count": 5,
          "metadata": {},
          "output_type": "execute_result"
        }
      ],
      "source": [
        "result.group() if result else 'not found'"
      ]
    },
    {
      "cell_type": "markdown",
      "metadata": {
        "id": "MUWuOhoG-BwA"
      },
      "source": [
        "Функция [`match`](https://docs.python.org/3/library/re.html#re.Pattern.match) ищет совпадение только от начала строки."
      ]
    },
    {
      "cell_type": "markdown",
      "metadata": {
        "id": "UMUhymf6-BwA"
      },
      "source": [
        "Метасимвол `^` в начале регулярного выражения (и не в квадратных скобках) — якорь, указывающий, что *выражение совпадает только от начала строки*:"
      ]
    },
    {
      "cell_type": "code",
      "execution_count": null,
      "metadata": {
        "id": "v1MlHoQ4-BwA"
      },
      "outputs": [],
      "source": [
        "result = re.search('^Python', 'Python is fun')"
      ]
    },
    {
      "cell_type": "code",
      "execution_count": null,
      "metadata": {
        "id": "jkGUEaP9-BwA",
        "outputId": "e86f7b02-576d-44fc-b4be-00d112938a65"
      },
      "outputs": [],
      "source": [
        "result.group() if result else 'not found'"
      ]
    },
    {
      "cell_type": "code",
      "execution_count": null,
      "metadata": {
        "id": "s4w8EvSM-BwB"
      },
      "outputs": [],
      "source": [
        "result = re.search('^fun', 'Python is fun')"
      ]
    },
    {
      "cell_type": "code",
      "execution_count": null,
      "metadata": {
        "id": "x0vAChjB-BwB",
        "outputId": "d8e9093f-01ce-4fa4-f9e5-3910352fdeb2"
      },
      "outputs": [],
      "source": [
        "result.group() if result else 'not found'"
      ]
    },
    {
      "cell_type": "markdown",
      "metadata": {
        "id": "DG6T6IoG-BwB"
      },
      "source": [
        "Аналогичным образом символ `$` в конце регулярного выражения является якорем, указывающим, что *выражение совпадает только в конце строки*:"
      ]
    },
    {
      "cell_type": "code",
      "execution_count": null,
      "metadata": {
        "id": "XpCFnNTl-BwB"
      },
      "outputs": [],
      "source": [
        "result = re.search('Python$', 'Python is fun')"
      ]
    },
    {
      "cell_type": "code",
      "execution_count": null,
      "metadata": {
        "id": "xXBAY34o-BwB",
        "outputId": "9581eeeb-26a9-4c8e-c31f-5d693dad90ef"
      },
      "outputs": [],
      "source": [
        "result.group() if result else 'not found'"
      ]
    },
    {
      "cell_type": "code",
      "execution_count": null,
      "metadata": {
        "id": "KFbZZOKD-BwB"
      },
      "outputs": [],
      "source": [
        "result = re.search('fun$', 'Python is fun')"
      ]
    },
    {
      "cell_type": "code",
      "execution_count": null,
      "metadata": {
        "id": "dgxV6Te9-BwB",
        "outputId": "27d68d85-9f17-4152-8dea-48f8648d563d"
      },
      "outputs": [],
      "source": [
        "result.group() if result else 'not found'"
      ]
    },
    {
      "cell_type": "markdown",
      "metadata": {},
      "source": [
        "---\n",
        "### Задача: Проверка слова в начале строки\n",
        "\n",
        "**Описание:**  \n",
        "Определите, начинается ли строка с заданного слова.\n",
        "\n",
        "```\n",
        ">>>check_start(\"Python is amazing\", \"Python\")\n",
        ">>>True\n",
        "\n",
        ">>>check_start(\"The one is the most popular programming language is Python\", \"Python\")\n",
        ">>>False\n",
        "\n",
        ">>>check_start(\"Я начал учить Python в 8 классе\", \"Python\")\n",
        ">>>False\n",
        "```\n",
        "---"
      ]
    },
    {
      "cell_type": "markdown",
      "metadata": {
        "id": "CqSDjSsv-BwB"
      },
      "source": [
        "Функция [`findall`](https://docs.python.org/3/library/re.html#re.Pattern.findall) находит все совпадающие подстроки и возвращает список совпадений.\n",
        "\n",
        "Для примера извлечем все телефонные номера в строке, полагая, что телефонные номера записываются в форме `###-###-####` :"
      ]
    },
    {
      "cell_type": "code",
      "execution_count": null,
      "metadata": {
        "id": "KDGEzAQi-BwB"
      },
      "outputs": [],
      "source": [
        "contact = 'Wally White, Home: 555-555-1234, Work: 555-555-4321'"
      ]
    },
    {
      "cell_type": "code",
      "execution_count": null,
      "metadata": {
        "id": "FHp8_UhE-BwB",
        "outputId": "c42445ae-fc78-4bb3-8ec9-018e10bc2a75"
      },
      "outputs": [],
      "source": [
        "re.findall(r'\\d{3}-\\d{3}-\\d{4}', contact)"
      ]
    },
    {
      "cell_type": "markdown",
      "metadata": {
        "id": "L5i0YORs-BwB"
      },
      "source": [
        "Функция [`finditer`](https://docs.python.org/3/library/re.html#re.finditer) работает аналогично `findall` , но возвращает итерируемый объект, содержащий объекты совпадений, с отложенным вычислением.\n",
        "\n",
        "При большом количестве совпадений использование `finditer` позволит сэкономить память, потому что она возвращает по одному совпадению, тогда как `findall` возвращает все совпадения сразу:"
      ]
    },
    {
      "cell_type": "code",
      "execution_count": null,
      "metadata": {
        "id": "fTAN1qkR-BwB",
        "outputId": "797719f8-a67a-45a6-9909-2b7a78307eb9"
      },
      "outputs": [],
      "source": [
        "for phone in re.finditer(r'\\d{3}-\\d{3}-\\d{4}', contact):\n",
        "    print(phone.group())"
      ]
    },
    {
      "cell_type": "markdown",
      "metadata": {},
      "source": [
        "---\n",
        "### Задача: 20 век\n",
        "Нужно написать регулярное выражение, которое извлекает все года, принадлежащие 20 веку из строки\n",
        "\n",
        "```\n",
        "Ввод:\n",
        "s = 'Это было в 2000 году, она родилась в 1964 году, предпосылки революции в 1861, кризис Европы 1323 года, перестройка 1985 года, 1932'\n",
        "\n",
        "Вывод:\n",
        "2000, 1964, 1985, 1932\n",
        "```\n",
        "---"
      ]
    },
    {
      "cell_type": "markdown",
      "metadata": {
        "id": "5u2e6P5Q-BwC"
      },
      "source": [
        "Метасимволы `(` и `)` (круглые скобки) используются *для сохранения подстрок в совпадениях*.\n",
        "\n",
        "Для примера сохраним отдельно имя и адрес электронной почты в тексте строки:"
      ]
    },
    {
      "cell_type": "code",
      "execution_count": null,
      "metadata": {
        "id": "FQ5JHQHY-BwC"
      },
      "outputs": [],
      "source": [
        "text = 'Charlie Cyan, e-mail: demo1@deitel.com'"
      ]
    },
    {
      "cell_type": "code",
      "execution_count": null,
      "metadata": {
        "id": "uAGZsdDt-BwC"
      },
      "outputs": [],
      "source": [
        "pattern = r'([A-Z][a-z]+ [A-Z][a-z]+), e-mail: (\\w+@\\w+\\.\\w{3})'"
      ]
    },
    {
      "cell_type": "code",
      "execution_count": null,
      "metadata": {
        "id": "4Sl-AeHJ-BwC"
      },
      "outputs": [],
      "source": [
        "result = re.search(pattern, text)"
      ]
    },
    {
      "cell_type": "markdown",
      "metadata": {
        "id": "Zow_ChAe-BwC"
      },
      "source": [
        "Регулярное выражение задает две *сохраняемые подстроки*, заключенные в метасимволы `(` и `)` . Эти метасимволы не влияют на то, в каком месте текста строки будет найдено совпадение шаблона, — функция `match` возвращает объект совпадения только в том случае, если совпадение всего шаблона будет найдено в тексте строки.\n",
        "\n",
        "Рассмотрим регулярное выражение по частям:"
      ]
    },
    {
      "cell_type": "markdown",
      "metadata": {
        "id": "6qD-ycHT-BwC"
      },
      "source": [
        "- `'([A-Z][a-z]+ [A-Z][a-z]+)'` совпадает с двумя словами, разделенными пробелом. Каждое слово должно начинаться с буквы верхнего регистра.\n",
        "-  `', e-mail: '` содержит литеральные символы, которые совпадают сами с собой.\n",
        "-  `(\\w+@\\w+\\.\\w{3})` совпадает с простым адресом электронной почты, состоящим из одного или нескольких алфавитно-цифровых символов ( `\\w+` ), символа `@` , одного или нескольких алфавитно-цифровых символов ( `\\w+` ), точки ( `\\.` ) и трех алфавитно-цифровых символов ( `\\w{3}` ). Перед точкой ставится символ `\\` , потому что точка ( `.` ) в регулярных выражениях является метасимволом, совпадающим с одним символом."
      ]
    },
    {
      "cell_type": "markdown",
      "metadata": {
        "id": "qd-ydsDr-BwC"
      },
      "source": [
        "Метод `groups` объекта совпадения возвращает кортеж совпавших подстрок:"
      ]
    },
    {
      "cell_type": "code",
      "execution_count": null,
      "metadata": {
        "id": "oGjGVPI1-BwC",
        "outputId": "992350be-1740-422f-95a7-7d138ab44724"
      },
      "outputs": [],
      "source": [
        "result.groups()"
      ]
    },
    {
      "cell_type": "markdown",
      "metadata": {
        "id": "fPMFRcxq-BwC"
      },
      "source": [
        "Вы можете обратиться к каждой сохраненной строке, передав целое число методу `group` .\n",
        "\n",
        "Нумерация сохраненных подстрок начинается с `1` (в отличие от индексов списков, которые начинаются с `0`):"
      ]
    },
    {
      "cell_type": "code",
      "execution_count": null,
      "metadata": {
        "id": "R5HXcUhE-BwC",
        "outputId": "58fc39ae-4c63-40b0-ef29-adaf4c20bd94"
      },
      "outputs": [],
      "source": [
        "result.group(1)"
      ]
    },
    {
      "cell_type": "code",
      "execution_count": null,
      "metadata": {
        "id": "14KT34e0-BwC",
        "outputId": "361adc90-f264-444b-adf6-1e8873773d51"
      },
      "outputs": [],
      "source": [
        "result.group(2)"
      ]
    },
    {
      "cell_type": "markdown",
      "metadata": {},
      "source": [
        "---\n",
        "### Задача: Извлечение доменных имен из e-mail\n",
        "\n",
        "**Описание:**  \n",
        "Извлеките доменное имя из заданного e-mail адреса.\n",
        "\n",
        "**Вход:**\n",
        "- \"user@example.com\"\n",
        "- \"admin@website.org\"\n",
        "\n",
        "**Выход:**\n",
        "- \"example.com\"\n",
        "- \"website.org\"\n",
        "\n",
        "\n",
        "### Задача: Проверка формата даты\n",
        "\n",
        "**Описание:**  \n",
        "Проверьте, соответствует ли строка формату даты dd-mm-yyyy.\n",
        "\n",
        "**Вход:**\n",
        "- \"25-12-2023\"\n",
        "- \"2023-12-25\"\n",
        "\n",
        "**Выход:**\n",
        "- True\n",
        "- False\n",
        "\n",
        "\n",
        "### Задача: Удаление лишних пробелов\n",
        "\n",
        "Удалите повторяющиеся пробелы между словами в строке.\n",
        "\n",
        "**Вход:**\n",
        "- \"This   is   a   test.\"\n",
        "\n",
        "**Выход:**\n",
        "- \"This is a test.\"\n",
        "\n",
        "### Задача: извлечь все названия сайтов из текста\n",
        "\n",
        "Суть в названии =)\n",
        "\n",
        "```\n",
        "text = \"\"\"His next class is art. www.google.com\n",
        "He draws on paper with crayons and pencils and sometimes uses a ruler.\n",
        "Lucas likes art. It is his favorite class.\n",
        "His third class https://colab.research.google.com is science.\n",
        "This class is very hard for Lucas to figure out, but he gets to work with his classmates a lot, which he likes to do.\n",
        "His friend http://ok.ru , Kyle, works with Lucas in science class, and they have fun.\n",
        "Then Lucas gets his break for lunch. He sits with Kyle while he eats.\n",
        "The principal, or the headmaster as some call him, likes to walk instagram.com around and talk to students during lunch to check that they are all behaving.\n",
        "\"\"\"\n",
        "```\n",
        "\n",
        "### Задача: Извлечение всех хэштегов из текста\n",
        "\n",
        "**Описание:**  \n",
        "Извлеките все хэштеги из текста.\n",
        "\n",
        "**Вход:**\n",
        "- \"Loving this #sunny day at the #beach!\"\n",
        "\n",
        "**Выход:**\n",
        "- ['#sunny', '#beach']\n",
        "\n",
        "---\n"
      ]
    }
  ],
  "metadata": {
    "colab": {
      "provenance": []
    },
    "kernelspec": {
      "display_name": "Python 3",
      "language": "python",
      "name": "python3"
    },
    "language_info": {
      "codemirror_mode": {
        "name": "ipython",
        "version": 3
      },
      "file_extension": ".py",
      "mimetype": "text/x-python",
      "name": "python",
      "nbconvert_exporter": "python",
      "pygments_lexer": "ipython3",
      "version": "3.11.5"
    }
  },
  "nbformat": 4,
  "nbformat_minor": 0
}
