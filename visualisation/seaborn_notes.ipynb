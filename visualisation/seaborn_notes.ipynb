{
 "cells": [
  {
   "cell_type": "markdown",
   "metadata": {},
   "source": [
    "Начнём с установки, это можно сделать через pip или conda, используя команды в терминале:\n",
    "Также установить модуль можно прямо в jupyter-ноутбуке, добавив символ «!» к команде терминала:"
   ]
  },
  {
   "cell_type": "code",
   "execution_count": null,
   "metadata": {},
   "outputs": [],
   "source": [
    "!pip install seaborn"
   ]
  },
  {
   "cell_type": "markdown",
   "metadata": {},
   "source": [
    "Теперь импортируем библиотеку, используя общепринятое сокращение sns:"
   ]
  },
  {
   "cell_type": "code",
   "execution_count": null,
   "metadata": {},
   "outputs": [],
   "source": [
    "import seaborn as sns"
   ]
  },
  {
   "cell_type": "markdown",
   "metadata": {},
   "source": [
    "Для примеров визуализации будем использовать датасеты __penguins__, __titanic__ и __diamonds__, которые уже есть внутри seaborn. Импортировать их можно так:"
   ]
  },
  {
   "cell_type": "code",
   "execution_count": null,
   "metadata": {},
   "outputs": [],
   "source": [
    "penguins = sns.load_dataset('penguins')\n",
    "penguins.head()"
   ]
  },
  {
   "cell_type": "code",
   "execution_count": null,
   "metadata": {},
   "outputs": [],
   "source": [
    "titanic = sns.load_dataset('titanic')\n",
    "titanic.head()"
   ]
  },
  {
   "cell_type": "code",
   "execution_count": null,
   "metadata": {},
   "outputs": [],
   "source": [
    "diamonds = sns.load_dataset('diamonds')\n",
    "diamonds.head()"
   ]
  },
  {
   "cell_type": "markdown",
   "metadata": {},
   "source": [
    "## Статистическая визуализация\n",
    "\n",
    "__seaborn.relplot()__ — метод, который позволяет строить графики для визуализации отношений между двумя переменными. Параметр __kind__, отвечающий за вид графика, по умолчанию имеет значение «scatter». Если его не изменить, то на выходе получится обычный scatterplot, или диаграмма рассеяния.\n",
    "\n",
    "Визуализируем зависимость длины клюва от массы пингвина:"
   ]
  },
  {
   "cell_type": "code",
   "execution_count": null,
   "metadata": {},
   "outputs": [],
   "source": [
    "sns.relplot(data=penguins, x=\"bill_length_mm\", y=\"body_mass_g\")"
   ]
  },
  {
   "cell_type": "markdown",
   "metadata": {},
   "source": [
    "### Задание\n",
    "\n",
    "Визуализируйте зависимость бриллианта от стоимости"
   ]
  },
  {
   "cell_type": "markdown",
   "metadata": {},
   "source": [
    "Если мы установим параметр __kind__ равным «line», то получим линейную диаграмму. Если передать в параметр __«hue»__ категориальную переменную, то график разобьётся на несколько линий, которые будут окрашены в разные цвета в соответствии с принадлежностью к определённой категории.\n",
    "\n",
    "Визуализируем зависимость длины крыльев от массы и добавим разбиение по полу пингвинов:"
   ]
  },
  {
   "cell_type": "code",
   "execution_count": null,
   "metadata": {},
   "outputs": [],
   "source": [
    "sns.relplot(data=penguins, x=\"flipper_length_mm\", y=\"body_mass_g\", kind=\"line\", hue='sex')"
   ]
  },
  {
   "cell_type": "markdown",
   "metadata": {},
   "source": [
    "### Задание\n",
    "\n",
    "К визуализации зависимости стоимости от каратности добавьте разбиение по качеству огранки\n",
    "Попробуйте kind = line и kind = scatter\n",
    "\n",
    "Что лучше?"
   ]
  },
  {
   "cell_type": "markdown",
   "metadata": {},
   "source": [
    "## Визуализация распределений\n",
    "\n",
    "__sns.displot()__ — вид графиков, отражающих распределение переменной.\n",
    "\n",
    "По умолчанию параметр __kind__ имеет значение «hist», поэтому получаем диаграмму распределения возраста пассажиров Титаника с разбиением на классы кают:"
   ]
  },
  {
   "cell_type": "code",
   "execution_count": null,
   "metadata": {},
   "outputs": [],
   "source": [
    "sns.displot(titanic, x=\"age\", hue=\"class\")"
   ]
  },
  {
   "cell_type": "markdown",
   "metadata": {},
   "source": [
    "### Задание\n",
    "\n",
    "Как распределена цена в датасете бриллиантов?\n",
    "\n",
    "А относительно качества огранки?"
   ]
  },
  {
   "cell_type": "markdown",
   "metadata": {},
   "source": [
    "Если мы установим __kind=\"kde\"__, то получим кривую плотности распределения вероятностей, основанной на методе ядерной оценки плотности. По горизонтальной оси расположены значения переменной, а по вертикальной оси — оценка плотности распределения.\n",
    "\n",
    "Посмотрим на график KDE цены бриллиантов с разбивкой по качеству их огранки:"
   ]
  },
  {
   "cell_type": "code",
   "execution_count": null,
   "metadata": {},
   "outputs": [],
   "source": [
    "sns.displot(diamonds, x=\"price\", hue=\"cut\", kind=\"kde\")"
   ]
  },
  {
   "cell_type": "markdown",
   "metadata": {},
   "source": [
    "Чем отличется от нарисованных вами диаграмм?"
   ]
  },
  {
   "cell_type": "markdown",
   "metadata": {},
   "source": [
    "Если мы передадим в __sns.displot()__ сразу две переменные, то получим двумерную гистограмму или, другими словами, heatmap.\n",
    "\n",
    "Тепловая карта соотношения длины и глубины клюва пингвинов:"
   ]
  },
  {
   "cell_type": "code",
   "execution_count": null,
   "metadata": {},
   "outputs": [],
   "source": [
    "sns.displot(penguins, x=\"bill_length_mm\", y=\"bill_depth_mm\")"
   ]
  },
  {
   "cell_type": "markdown",
   "metadata": {},
   "source": [
    "### Задание\n",
    "\n",
    "Постройте heatmap с цветом камня и качеством огранки как параметрами"
   ]
  },
  {
   "cell_type": "markdown",
   "metadata": {},
   "source": [
    "__sns.jointplot__ — очень красивый вариант визуализации, который есть только в библиотеке seaborn. Этот график отображает зависимости между двумя переменными с двумерными и одномерными визуализациями. Если мы не будем задавать аргумент kind, то получим диаграмму рассеяния между двумя переменными и отдельные кривые плотности (основанные на ядерной оценке) по осям x и y. На jointplot также можно добавить разбивку по категориям, указав параметр hue.\n",
    "\n",
    "Корреляция длины и глубины клюва пингвинов с разбивкой по их видам:"
   ]
  },
  {
   "cell_type": "code",
   "execution_count": null,
   "metadata": {},
   "outputs": [],
   "source": [
    "sns.jointplot(\n",
    "data=penguins, x=\"bill_length_mm\", y=\"bill_depth_mm\", hue=\"species\"\n",
    ")"
   ]
  },
  {
   "cell_type": "markdown",
   "metadata": {},
   "source": [
    "## Визуализация категориальных данных\n",
    "\n",
    "__sns.catplot()__ - метод, позволяющий визуализировать данные с разбивкой по категориям. Catplot может пригодиться, если есть необходимость отразить на одном графике зависимость непрерывной переменной сразу от нескольких категориальных переменных. По умолчанию получаем scatterplot — распределение массы пингвинов в зависимости от их вида и острова проживания:"
   ]
  },
  {
   "cell_type": "code",
   "execution_count": null,
   "metadata": {},
   "outputs": [],
   "source": [
    "sns.catplot(data=penguins, x=\"island\", y=\"body_mass_g\", hue=\"species\")"
   ]
  },
  {
   "cell_type": "markdown",
   "metadata": {},
   "source": [
    "Если установим kind=\"box\", то получим знакомый нам boxplot. Если ящик с усами получается очень узким, можно отфильтровать выбросы, чтобы график получился более наглядным.\n",
    "\n",
    "Распределение стоимости билета с разбивкой на выживших и невыживших пассажиров:"
   ]
  },
  {
   "cell_type": "code",
   "execution_count": null,
   "metadata": {},
   "outputs": [],
   "source": [
    "sns.catplot(\n",
    "data=titanic[titanic['fare'] < 120], x=\"survived\", y=\"fare\", kind=\"box\"\n",
    ")"
   ]
  },
  {
   "cell_type": "markdown",
   "metadata": {},
   "source": [
    "### Задание\n",
    "\n",
    "Какие графики с категориальными переменными можно построить для датасета бриллиантов?\n",
    "Постройте!"
   ]
  },
  {
   "cell_type": "markdown",
   "metadata": {},
   "source": [
    "Ещё один очень красивый график — violin plot (скрипичная диаграмма). Violin plot — это небольшие boxplot с добавлением по бокам кривых плотности ядра с каждой стороны.\n",
    "\n",
    "Seaborn позволяет строить её очень просто, используя метод sns.catplot() и параметр kind=\"violin\".\n",
    "\n",
    "Построим скрипичный график распределения длины клюва пингвинов с разбивкой по виду и полу:"
   ]
  },
  {
   "cell_type": "code",
   "execution_count": null,
   "metadata": {},
   "outputs": [],
   "source": [
    "sns.catplot(\n",
    "data=penguins, x=\"sex\", y=\"bill_length_mm\", hue=\"species\", kind=\"violin\", height=6\n",
    ")"
   ]
  },
  {
   "cell_type": "markdown",
   "metadata": {},
   "source": [
    "Чтобы построить обычный countplot — столбчатую диаграмму, отражающую количество объектов в каждой категории — нужно установить параметр kind=\"count\".\n",
    "\n",
    "Количество пингвинов на разных островах:"
   ]
  },
  {
   "cell_type": "code",
   "execution_count": null,
   "metadata": {},
   "outputs": [],
   "source": [
    "sns.catplot(data=penguins, x=\"island\", kind=\"count\")"
   ]
  },
  {
   "cell_type": "markdown",
   "metadata": {},
   "source": [
    "Для построения barplot нужно установить параметр kind=\"bar\". Столбцы на графике пропорциональны величинам, которые они отображают.\n",
    "\n",
    "Посмотрим на зависимость цвета и веса бриллиантов в каратах:"
   ]
  },
  {
   "cell_type": "code",
   "execution_count": null,
   "metadata": {},
   "outputs": [],
   "source": [
    "sns.catplot(data=diamonds, x=\"color\", y=\"carat\", kind=\"bar\")"
   ]
  }
 ],
 "metadata": {
  "kernelspec": {
   "display_name": "base",
   "language": "python",
   "name": "python3"
  },
  "language_info": {
   "name": "python",
   "version": "3.11.5"
  },
  "orig_nbformat": 4
 },
 "nbformat": 4,
 "nbformat_minor": 2
}
