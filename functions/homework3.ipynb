{
 "cells": [
  {
   "cell_type": "markdown",
   "metadata": {},
   "source": [
    "## Домашнее задание № 3\n",
    "### Дедлайн - **5 октября 23:59**, за каждый день просрочки после дедлайна назначается штраф в -1 балл"
   ]
  },
  {
   "cell_type": "markdown",
   "metadata": {},
   "source": [
    "#### Задание 1 (3.3 балла)"
   ]
  },
  {
   "cell_type": "markdown",
   "metadata": {},
   "source": [
    "Напишите функцию numbers_action, которая принимает неограниченное число позиционных аргументов чисел, а также аргумент operator, который может принимать значения ’sum’ и ’mul’, по умолчанию равен ’sum’. В зависимости от аргумента, функция либо складывает, либо перемножает все переданные числа. Гарантируется, что все аргументы всегда передаются правильно."
   ]
  },
  {
   "cell_type": "markdown",
   "metadata": {},
   "source": [
    "```\n",
    "numbers_action(2,3)  \n",
    ">>>> 5  \n",
    " \n",
    "numbers_action(2,3,4,5 operator=’sum’)  \n",
    ">>>> 14  \n",
    " \n",
    "numbers_action(1,2,3, operator=’mul’)  \n",
    ">>>> 6 \n",
    "```"
   ]
  },
  {
   "cell_type": "markdown",
   "metadata": {},
   "source": [
    "#### Задание 2 (3.3 балла)"
   ]
  },
  {
   "cell_type": "markdown",
   "metadata": {},
   "source": [
    "Напишите декоратор format_return, который превращает результат выполнения функции в строку формата \"Result of function <function name> with args <args в виде tuple>, kwargs <kwargs виде dict> is <result value>\"и возвращает его (!не печатает)."
   ]
  },
  {
   "cell_type": "markdown",
   "metadata": {},
   "source": [
    "```\n",
    "@format_return  \n",
    "def division(a, b):  \n",
    "    return a/b  \n",
    " \n",
    "division(10, b=2)  \n",
    ">>>> Result of function division with args (10,), kwargs {’b’: 2} is 5.0  \n",
    " \n",
    "division(10, 2)  \n",
    ">>>> Result of function division with args (10, 2), kwargs {} is 5.0  \n",
    " \n",
    "division(a=10, b=2)  \n",
    ">>>> Result of function division with args (), kwargs {’a’: 10, ’b’: 2} is 5.0\n",
    "```"
   ]
  },
  {
   "cell_type": "markdown",
   "metadata": {},
   "source": [
    "### Задание 3 (3.3 балла)"
   ]
  },
  {
   "cell_type": "markdown",
   "metadata": {},
   "source": [
    "Напишите декоратор slow_down, который делает так, что у задекорированной функции появляется дополнительный аргумент slow_down, по умолчанию равный 0, принимающий любые целые положительные значения. Если параметр не равен 0, то функция перед выполнением ждет заданное количество секунд и возвращает результат. Если параметр равен 0, то функция просто возвращает результат. Гарантируется, что slow_down, если передан, то всегда целый и положительный, дополнительно проверять не надо."
   ]
  },
  {
   "cell_type": "markdown",
   "metadata": {},
   "source": [
    "```\n",
    "@slow_down  \n",
    "def division(a, b):  \n",
    "    return a/b  \n",
    " \n",
    "division(10, 2)  \n",
    ">>>> 5.0  \n",
    " \n",
    "division(10, 2, slow_down=3) # то же самое, но на 3 секунды дольше  \n",
    ">>>> 5.0\n",
    "```"
   ]
  }
 ],
 "metadata": {
  "language_info": {
   "name": "python"
  },
  "orig_nbformat": 4
 },
 "nbformat": 4,
 "nbformat_minor": 2
}
